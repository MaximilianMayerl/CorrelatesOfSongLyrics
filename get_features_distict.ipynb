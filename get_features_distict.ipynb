{
 "cells": [
  {
   "cell_type": "code",
   "execution_count": null,
   "id": "solved-validation",
   "metadata": {},
   "outputs": [],
   "source": [
    "import bz2\n",
    "import json\n",
    "from pathlib import Path\n",
    "\n",
    "import pandas as pd\n",
    "\n",
    "my_dir = Path('.')\n",
    "\n",
    "\n",
    "def _stream_lines(path: Path = my_dir / 'lyrics-distinct-emi-2021-10-15.json.bz2'):\n",
    "    with bz2.open(path, 'r') as zipped_file:\n",
    "        for line in zipped_file:\n",
    "            yield json.loads(line)"
   ]
  },
  {
   "cell_type": "code",
   "execution_count": null,
   "id": "limited-wedding",
   "metadata": {},
   "outputs": [],
   "source": [
    "dic = {'ID': [], 'Genre': [], 'Popularity': [], 'Date': []}\n",
    "counter = 0\n",
    "\n",
    "for elem in _stream_lines():\n",
    "    # print(elem)\n",
    "    # break\n",
    "    skip_loop = False\n",
    "\n",
    "    # get date\n",
    "    for i in elem['release']:\n",
    "        if type(elem['release'][i]) is dict:\n",
    "            skip_loop = True\n",
    "            counter += 1\n",
    "            break\n",
    "\n",
    "        else:\n",
    "            year, month, n = elem['release'][i].split('-')\n",
    "            dic['Date'].append(int(year))\n",
    "\n",
    "    if not skip_loop:\n",
    "        # get ID\n",
    "        name = str()\n",
    "        for i in elem['_id']:\n",
    "            n = elem['_id'][i]\n",
    "            n = n.replace(' ', '')\n",
    "            if len(name) == 0:\n",
    "                name = n\n",
    "            else:\n",
    "                name = name + '_' + n\n",
    "        dic['ID'].append(name)\n",
    "\n",
    "        # get popularity\n",
    "        dic['Popularity'].append(int(elem['popularity']))\n",
    "\n",
    "        # get genre\n",
    "        g = elem['genre']\n",
    "        g = g.replace(' ', '_')\n",
    "        dic['Genre'].append(g)\n",
    "\n",
    "        # get features\n",
    "        for f in elem['features']:\n",
    "            if type(elem['features'][f]) is dict:\n",
    "                for e in elem['features'][f]:\n",
    "                    new_name = f + '_' + e\n",
    "                    if new_name not in dic:\n",
    "                        dic[new_name] = []\n",
    "                        dic[new_name].append(elem['features'][f][e])\n",
    "                    else:\n",
    "                        dic[new_name].append(elem['features'][f][e])\n",
    "            else:\n",
    "                if f not in dic:\n",
    "                    dic[f] = []\n",
    "                    dic[f].append(elem['features'][f])\n",
    "                else:\n",
    "                    dic[f].append(elem['features'][f])\n",
    "\n",
    "        # get affective scores\n",
    "        for f in elem['affective']:\n",
    "            if type(elem['affective'][f]) is dict:\n",
    "                for e in elem['affective'][f]:\n",
    "                    new_name = f + '_' + e\n",
    "                    if new_name not in dic:\n",
    "                        dic[new_name] = []\n",
    "                        dic[new_name].append(elem['affective'][f][e])\n",
    "                    else:\n",
    "                        dic[new_name].append(elem['affective'][f][e])\n",
    "            else:\n",
    "                if f not in dic:\n",
    "                    dic[f] = []\n",
    "                    dic[f].append(elem['affective'][f])\n",
    "                else:\n",
    "                    dic[f].append(elem['affective'][f])\n",
    "print(counter, 'track have been droped due to invalid date')\n"
   ]
  },
  {
   "cell_type": "code",
   "execution_count": null,
   "id": "recognized-listing",
   "metadata": {},
   "outputs": [],
   "source": [
    "# explore missing data\n",
    "for k, v in dic.items():\n",
    "    print(k)\n",
    "    print(len(v))"
   ]
  },
  {
   "cell_type": "code",
   "execution_count": null,
   "id": "north-vehicle",
   "metadata": {},
   "outputs": [],
   "source": [
    "features_df = pd.DataFrame.from_dict(dic)"
   ]
  },
  {
   "cell_type": "code",
   "execution_count": null,
   "id": "098bbf30",
   "metadata": {},
   "outputs": [],
   "source": [
    "features_df.to_csv(my_dir / 'features_distinct.csv', index=False)"
   ]
  }
 ],
 "metadata": {
  "kernelspec": {
   "display_name": "Python 3 (ipykernel)",
   "language": "python",
   "name": "python3"
  },
  "language_info": {
   "codemirror_mode": {
    "name": "ipython",
    "version": 3
   },
   "file_extension": ".py",
   "mimetype": "text/x-python",
   "name": "python",
   "nbconvert_exporter": "python",
   "pygments_lexer": "ipython3",
   "version": "3.11.2"
  }
 },
 "nbformat": 4,
 "nbformat_minor": 5
}
