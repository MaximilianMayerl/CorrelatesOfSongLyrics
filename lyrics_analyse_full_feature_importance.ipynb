{
 "cells": [
  {
   "cell_type": "markdown",
   "id": "fe65c6eb",
   "metadata": {},
   "source": [
    "# LFM-2b Lyrics Data Analyses and Cleaning"
   ]
  },
  {
   "cell_type": "code",
   "execution_count": 1,
   "id": "e8794e4b",
   "metadata": {},
   "outputs": [],
   "source": [
    "import json\n",
    "import langdetect\n",
    "import re\n",
    "import pickle\n",
    "import math\n",
    "from os.path import join\n",
    "import warnings\n",
    "\n",
    "import pandas as pd\n",
    "import numpy as np\n",
    "import matplotlib.pyplot as plt\n",
    "\n",
    "from matplotlib.ticker import FormatStrFormatter\n",
    "from matplotlib.colors import LogNorm\n",
    "from collections import Counter\n",
    "from scipy.stats import rankdata\n",
    "from sklearn.preprocessing import normalize\n",
    "from sklearn.decomposition import PCA\n",
    "from sklearn.model_selection import KFold, train_test_split\n",
    "from sklearn.metrics import f1_score, mean_squared_error, confusion_matrix\n",
    "from sklearn.tree import DecisionTreeClassifier\n",
    "from sklearn.inspection import permutation_importance\n",
    "from sklearn.feature_selection import RFE\n",
    "from scipy.stats import gaussian_kde\n",
    "\n",
    "from sanitizer import sanitize_lyric\n",
    "from analyzer import check_patterns, extract_annotations\n",
    "from feature_extraction import extract_and_add_features"
   ]
  },
  {
   "cell_type": "code",
   "execution_count": 2,
   "id": "4809edf3",
   "metadata": {},
   "outputs": [],
   "source": [
    "# FEATURES_PATH = \"/mnt/e/Uni/Research/lfm2b-data/5Genres_SubSet.csv\"\n",
    "FULL_DATASET_PATH = \"/mnt/e/Uni/Research/lfm2b-data/lyrics_distinct_all_features_non_null_lfm_playcount-2021-12-03.json\"\n",
    "FIGURE_PATH = \"./results/\""
   ]
  },
  {
   "cell_type": "code",
   "execution_count": 3,
   "id": "3235d65b-5327-4d28-81bd-4195705923f0",
   "metadata": {},
   "outputs": [],
   "source": [
    "pd.set_option(\"display.max_rows\", None)"
   ]
  },
  {
   "cell_type": "markdown",
   "id": "c5768fbf",
   "metadata": {},
   "source": [
    "## Read lyrics"
   ]
  },
  {
   "cell_type": "code",
   "execution_count": 4,
   "id": "f43c89b6-b7ad-49f9-b87d-8fda5bf0e8a7",
   "metadata": {},
   "outputs": [],
   "source": [
    "full_lyrics = []\n",
    "with open(FULL_DATASET_PATH, \"r\") as fh:\n",
    "    for line in fh:\n",
    "        current_song = json.loads(line)\n",
    "        full_lyrics.append(current_song)\n",
    "\n",
    "df = pd.json_normalize(full_lyrics)"
   ]
  },
  {
   "cell_type": "code",
   "execution_count": 5,
   "id": "12b4811f-89af-46c7-afde-5284f9a1a556",
   "metadata": {},
   "outputs": [
    {
     "data": {
      "text/plain": [
       "'popularity'"
      ]
     },
     "metadata": {},
     "output_type": "display_data"
    },
    {
     "data": {
      "text/plain": [
       "'lfm_playcount'"
      ]
     },
     "metadata": {},
     "output_type": "display_data"
    },
    {
     "data": {
      "text/plain": [
       "'genre'"
      ]
     },
     "metadata": {},
     "output_type": "display_data"
    },
    {
     "data": {
      "text/plain": [
       "'genres_all'"
      ]
     },
     "metadata": {},
     "output_type": "display_data"
    },
    {
     "data": {
      "text/plain": [
       "'sanitized_lyrics'"
      ]
     },
     "metadata": {},
     "output_type": "display_data"
    },
    {
     "data": {
      "text/plain": [
       "'_id.artist'"
      ]
     },
     "metadata": {},
     "output_type": "display_data"
    },
    {
     "data": {
      "text/plain": [
       "'_id.track'"
      ]
     },
     "metadata": {},
     "output_type": "display_data"
    },
    {
     "data": {
      "text/plain": [
       "'release.$date'"
      ]
     },
     "metadata": {},
     "output_type": "display_data"
    },
    {
     "data": {
      "text/plain": [
       "'features.compression_ratio'"
      ]
     },
     "metadata": {},
     "output_type": "display_data"
    },
    {
     "data": {
      "text/plain": [
       "'features.entropy'"
      ]
     },
     "metadata": {},
     "output_type": "display_data"
    },
    {
     "data": {
      "text/plain": [
       "'features.uncommon_words_ratio'"
      ]
     },
     "metadata": {},
     "output_type": "display_data"
    },
    {
     "data": {
      "text/plain": [
       "'features.readability.flesch_kincaid_grade'"
      ]
     },
     "metadata": {},
     "output_type": "display_data"
    },
    {
     "data": {
      "text/plain": [
       "'features.readability.flesch_reading_ease'"
      ]
     },
     "metadata": {},
     "output_type": "display_data"
    },
    {
     "data": {
      "text/plain": [
       "'features.readability.smog'"
      ]
     },
     "metadata": {},
     "output_type": "display_data"
    },
    {
     "data": {
      "text/plain": [
       "'features.readability.automated_readability_index'"
      ]
     },
     "metadata": {},
     "output_type": "display_data"
    },
    {
     "data": {
      "text/plain": [
       "'features.readability.coleman_liau_index'"
      ]
     },
     "metadata": {},
     "output_type": "display_data"
    },
    {
     "data": {
      "text/plain": [
       "'features.readability.dale_chall_readability_score'"
      ]
     },
     "metadata": {},
     "output_type": "display_data"
    },
    {
     "data": {
      "text/plain": [
       "'features.readability.difficult_words'"
      ]
     },
     "metadata": {},
     "output_type": "display_data"
    },
    {
     "data": {
      "text/plain": [
       "'features.readability.linsear_write_formula'"
      ]
     },
     "metadata": {},
     "output_type": "display_data"
    },
    {
     "data": {
      "text/plain": [
       "'features.readability.gunning_fog'"
      ]
     },
     "metadata": {},
     "output_type": "display_data"
    },
    {
     "data": {
      "text/plain": [
       "'features.readability.fernandez_huerta'"
      ]
     },
     "metadata": {},
     "output_type": "display_data"
    },
    {
     "data": {
      "text/plain": [
       "'features.readability.szigriszt_pazos'"
      ]
     },
     "metadata": {},
     "output_type": "display_data"
    },
    {
     "data": {
      "text/plain": [
       "'features.readability.gutierrez_polini'"
      ]
     },
     "metadata": {},
     "output_type": "display_data"
    },
    {
     "data": {
      "text/plain": [
       "'features.readability.crawford'"
      ]
     },
     "metadata": {},
     "output_type": "display_data"
    },
    {
     "data": {
      "text/plain": [
       "'features.lexical.token_count'"
      ]
     },
     "metadata": {},
     "output_type": "display_data"
    },
    {
     "data": {
      "text/plain": [
       "'features.lexical.character_count'"
      ]
     },
     "metadata": {},
     "output_type": "display_data"
    },
    {
     "data": {
      "text/plain": [
       "'features.lexical.repeated_token_ratio'"
      ]
     },
     "metadata": {},
     "output_type": "display_data"
    },
    {
     "data": {
      "text/plain": [
       "'features.lexical.unique_tokens_per_line'"
      ]
     },
     "metadata": {},
     "output_type": "display_data"
    },
    {
     "data": {
      "text/plain": [
       "'features.lexical.average_token_length'"
      ]
     },
     "metadata": {},
     "output_type": "display_data"
    },
    {
     "data": {
      "text/plain": [
       "'features.lexical.average_tokens_per_line'"
      ]
     },
     "metadata": {},
     "output_type": "display_data"
    },
    {
     "data": {
      "text/plain": [
       "'features.lexical.line_count'"
      ]
     },
     "metadata": {},
     "output_type": "display_data"
    },
    {
     "data": {
      "text/plain": [
       "'features.lexical.unique_line_count'"
      ]
     },
     "metadata": {},
     "output_type": "display_data"
    },
    {
     "data": {
      "text/plain": [
       "'features.lexical.blank_line_count'"
      ]
     },
     "metadata": {},
     "output_type": "display_data"
    },
    {
     "data": {
      "text/plain": [
       "'features.lexical.blank_line_ratio'"
      ]
     },
     "metadata": {},
     "output_type": "display_data"
    },
    {
     "data": {
      "text/plain": [
       "'features.lexical.repeated_line_ratio'"
      ]
     },
     "metadata": {},
     "output_type": "display_data"
    },
    {
     "data": {
      "text/plain": [
       "'features.lexical.exclamation_mark_count'"
      ]
     },
     "metadata": {},
     "output_type": "display_data"
    },
    {
     "data": {
      "text/plain": [
       "'features.lexical.question_mark_count'"
      ]
     },
     "metadata": {},
     "output_type": "display_data"
    },
    {
     "data": {
      "text/plain": [
       "'features.lexical.digit_count'"
      ]
     },
     "metadata": {},
     "output_type": "display_data"
    },
    {
     "data": {
      "text/plain": [
       "'features.lexical.colon_count'"
      ]
     },
     "metadata": {},
     "output_type": "display_data"
    },
    {
     "data": {
      "text/plain": [
       "'features.lexical.semicolon_count'"
      ]
     },
     "metadata": {},
     "output_type": "display_data"
    },
    {
     "data": {
      "text/plain": [
       "'features.lexical.quote_count'"
      ]
     },
     "metadata": {},
     "output_type": "display_data"
    },
    {
     "data": {
      "text/plain": [
       "'features.lexical.comma_count'"
      ]
     },
     "metadata": {},
     "output_type": "display_data"
    },
    {
     "data": {
      "text/plain": [
       "'features.lexical.dot_count'"
      ]
     },
     "metadata": {},
     "output_type": "display_data"
    },
    {
     "data": {
      "text/plain": [
       "'features.lexical.hyphen_count'"
      ]
     },
     "metadata": {},
     "output_type": "display_data"
    },
    {
     "data": {
      "text/plain": [
       "'features.lexical.parens_count'"
      ]
     },
     "metadata": {},
     "output_type": "display_data"
    },
    {
     "data": {
      "text/plain": [
       "'features.lexical.punctuation_count'"
      ]
     },
     "metadata": {},
     "output_type": "display_data"
    },
    {
     "data": {
      "text/plain": [
       "'features.lexical.digit_ratio'"
      ]
     },
     "metadata": {},
     "output_type": "display_data"
    },
    {
     "data": {
      "text/plain": [
       "'features.lexical.punctuation_ratio'"
      ]
     },
     "metadata": {},
     "output_type": "display_data"
    },
    {
     "data": {
      "text/plain": [
       "'features.lexical.stop_word_count'"
      ]
     },
     "metadata": {},
     "output_type": "display_data"
    },
    {
     "data": {
      "text/plain": [
       "'features.lexical.stop_word_ratio'"
      ]
     },
     "metadata": {},
     "output_type": "display_data"
    },
    {
     "data": {
      "text/plain": [
       "'features.lexical.stop_words_per_line'"
      ]
     },
     "metadata": {},
     "output_type": "display_data"
    },
    {
     "data": {
      "text/plain": [
       "'features.lexical.unique_bigram_ratio'"
      ]
     },
     "metadata": {},
     "output_type": "display_data"
    },
    {
     "data": {
      "text/plain": [
       "'features.lexical.unique_trigram_ratio'"
      ]
     },
     "metadata": {},
     "output_type": "display_data"
    },
    {
     "data": {
      "text/plain": [
       "'features.lexical.hapax_legomenon_ratio'"
      ]
     },
     "metadata": {},
     "output_type": "display_data"
    },
    {
     "data": {
      "text/plain": [
       "'features.lexical.dis_legomenon_ratio'"
      ]
     },
     "metadata": {},
     "output_type": "display_data"
    },
    {
     "data": {
      "text/plain": [
       "'features.lexical.tris_legomenon_ratio'"
      ]
     },
     "metadata": {},
     "output_type": "display_data"
    },
    {
     "data": {
      "text/plain": [
       "'features.lexical.mtld'"
      ]
     },
     "metadata": {},
     "output_type": "display_data"
    },
    {
     "data": {
      "text/plain": [
       "'features.lexical.herdan'"
      ]
     },
     "metadata": {},
     "output_type": "display_data"
    },
    {
     "data": {
      "text/plain": [
       "'features.lexical.summer'"
      ]
     },
     "metadata": {},
     "output_type": "display_data"
    },
    {
     "data": {
      "text/plain": [
       "'features.lexical.dugast'"
      ]
     },
     "metadata": {},
     "output_type": "display_data"
    },
    {
     "data": {
      "text/plain": [
       "'features.lexical.maas'"
      ]
     },
     "metadata": {},
     "output_type": "display_data"
    },
    {
     "data": {
      "text/plain": [
       "'features.lexical.pronoun_frequency'"
      ]
     },
     "metadata": {},
     "output_type": "display_data"
    },
    {
     "data": {
      "text/plain": [
       "'features.lexical.past_tense_ratio'"
      ]
     },
     "metadata": {},
     "output_type": "display_data"
    },
    {
     "data": {
      "text/plain": [
       "'features.structure.chorus_repetitions'"
      ]
     },
     "metadata": {},
     "output_type": "display_data"
    },
    {
     "data": {
      "text/plain": [
       "'features.structure.title_occurrences'"
      ]
     },
     "metadata": {},
     "output_type": "display_data"
    },
    {
     "data": {
      "text/plain": [
       "'features.structure.number_of_sections'"
      ]
     },
     "metadata": {},
     "output_type": "display_data"
    },
    {
     "data": {
      "text/plain": [
       "'features.structure.number_of_verses'"
      ]
     },
     "metadata": {},
     "output_type": "display_data"
    },
    {
     "data": {
      "text/plain": [
       "'features.structure.starts_with_chorus'"
      ]
     },
     "metadata": {},
     "output_type": "display_data"
    },
    {
     "data": {
      "text/plain": [
       "'features.structure.ratio_verses_sections'"
      ]
     },
     "metadata": {},
     "output_type": "display_data"
    },
    {
     "data": {
      "text/plain": [
       "'features.structure.ratio_chorus_sections'"
      ]
     },
     "metadata": {},
     "output_type": "display_data"
    },
    {
     "data": {
      "text/plain": [
       "'features.structure.ends_with_two_chorus_repetitions'"
      ]
     },
     "metadata": {},
     "output_type": "display_data"
    },
    {
     "data": {
      "text/plain": [
       "'features.structure.pattern_verse_chorus_alternating'"
      ]
     },
     "metadata": {},
     "output_type": "display_data"
    },
    {
     "data": {
      "text/plain": [
       "'features.structure.pattern_two_verses_at_least_one_chorus'"
      ]
     },
     "metadata": {},
     "output_type": "display_data"
    },
    {
     "data": {
      "text/plain": [
       "'features.structure.pattern_two_choruses_at_least_one_verse'"
      ]
     },
     "metadata": {},
     "output_type": "display_data"
    },
    {
     "data": {
      "text/plain": [
       "'features.rhyme.num_couplets'"
      ]
     },
     "metadata": {},
     "output_type": "display_data"
    },
    {
     "data": {
      "text/plain": [
       "'features.rhyme.num_clerihews'"
      ]
     },
     "metadata": {},
     "output_type": "display_data"
    },
    {
     "data": {
      "text/plain": [
       "'features.rhyme.num_alternating'"
      ]
     },
     "metadata": {},
     "output_type": "display_data"
    },
    {
     "data": {
      "text/plain": [
       "'features.rhyme.num_nested'"
      ]
     },
     "metadata": {},
     "output_type": "display_data"
    },
    {
     "data": {
      "text/plain": [
       "'features.rhyme.alliterations_len_2'"
      ]
     },
     "metadata": {},
     "output_type": "display_data"
    },
    {
     "data": {
      "text/plain": [
       "'features.rhyme.alliterations_len_3'"
      ]
     },
     "metadata": {},
     "output_type": "display_data"
    },
    {
     "data": {
      "text/plain": [
       "'features.rhyme.alliterations_len_4_plus'"
      ]
     },
     "metadata": {},
     "output_type": "display_data"
    },
    {
     "data": {
      "text/plain": [
       "'features.rhyme.rhyme_percent'"
      ]
     },
     "metadata": {},
     "output_type": "display_data"
    },
    {
     "data": {
      "text/plain": [
       "'features.rhyme.unique_rhyme_words'"
      ]
     },
     "metadata": {},
     "output_type": "display_data"
    },
    {
     "data": {
      "text/plain": [
       "'affective.AFINN.PositiveScore'"
      ]
     },
     "metadata": {},
     "output_type": "display_data"
    },
    {
     "data": {
      "text/plain": [
       "'affective.AFINN.NegativeScore'"
      ]
     },
     "metadata": {},
     "output_type": "display_data"
    },
    {
     "data": {
      "text/plain": [
       "'affective.BingLiu.positive'"
      ]
     },
     "metadata": {},
     "output_type": "display_data"
    },
    {
     "data": {
      "text/plain": [
       "'affective.BingLiu.negative'"
      ]
     },
     "metadata": {},
     "output_type": "display_data"
    },
    {
     "data": {
      "text/plain": [
       "'affective.MPQA.positive'"
      ]
     },
     "metadata": {},
     "output_type": "display_data"
    },
    {
     "data": {
      "text/plain": [
       "'affective.MPQA.negative'"
      ]
     },
     "metadata": {},
     "output_type": "display_data"
    },
    {
     "data": {
      "text/plain": [
       "'affective.NRCAffectIntensity.Anger'"
      ]
     },
     "metadata": {},
     "output_type": "display_data"
    },
    {
     "data": {
      "text/plain": [
       "'affective.NRCAffectIntensity.Anticipation'"
      ]
     },
     "metadata": {},
     "output_type": "display_data"
    },
    {
     "data": {
      "text/plain": [
       "'affective.NRCAffectIntensity.Disgust'"
      ]
     },
     "metadata": {},
     "output_type": "display_data"
    },
    {
     "data": {
      "text/plain": [
       "'affective.NRCAffectIntensity.Fear'"
      ]
     },
     "metadata": {},
     "output_type": "display_data"
    },
    {
     "data": {
      "text/plain": [
       "'affective.NRCAffectIntensity.Joy'"
      ]
     },
     "metadata": {},
     "output_type": "display_data"
    },
    {
     "data": {
      "text/plain": [
       "'affective.NRCAffectIntensity.Negative'"
      ]
     },
     "metadata": {},
     "output_type": "display_data"
    },
    {
     "data": {
      "text/plain": [
       "'affective.NRCAffectIntensity.Positive'"
      ]
     },
     "metadata": {},
     "output_type": "display_data"
    },
    {
     "data": {
      "text/plain": [
       "'affective.NRCAffectIntensity.Sadness'"
      ]
     },
     "metadata": {},
     "output_type": "display_data"
    },
    {
     "data": {
      "text/plain": [
       "'affective.NRCAffectIntensity.Surprise'"
      ]
     },
     "metadata": {},
     "output_type": "display_data"
    },
    {
     "data": {
      "text/plain": [
       "'affective.NRCAffectIntensity.Trust'"
      ]
     },
     "metadata": {},
     "output_type": "display_data"
    },
    {
     "data": {
      "text/plain": [
       "'affective.NRCEmotionWordlevel.Anger'"
      ]
     },
     "metadata": {},
     "output_type": "display_data"
    },
    {
     "data": {
      "text/plain": [
       "'affective.NRCEmotionWordlevel.Anticipation'"
      ]
     },
     "metadata": {},
     "output_type": "display_data"
    },
    {
     "data": {
      "text/plain": [
       "'affective.NRCEmotionWordlevel.Disgust'"
      ]
     },
     "metadata": {},
     "output_type": "display_data"
    },
    {
     "data": {
      "text/plain": [
       "'affective.NRCEmotionWordlevel.Fear'"
      ]
     },
     "metadata": {},
     "output_type": "display_data"
    },
    {
     "data": {
      "text/plain": [
       "'affective.NRCEmotionWordlevel.Joy'"
      ]
     },
     "metadata": {},
     "output_type": "display_data"
    },
    {
     "data": {
      "text/plain": [
       "'affective.NRCEmotionWordlevel.Negative'"
      ]
     },
     "metadata": {},
     "output_type": "display_data"
    },
    {
     "data": {
      "text/plain": [
       "'affective.NRCEmotionWordlevel.Positive'"
      ]
     },
     "metadata": {},
     "output_type": "display_data"
    },
    {
     "data": {
      "text/plain": [
       "'affective.NRCEmotionWordlevel.Sadness'"
      ]
     },
     "metadata": {},
     "output_type": "display_data"
    },
    {
     "data": {
      "text/plain": [
       "'affective.NRCEmotionWordlevel.Surprise'"
      ]
     },
     "metadata": {},
     "output_type": "display_data"
    },
    {
     "data": {
      "text/plain": [
       "'affective.NRCEmotionWordlevel.Trust'"
      ]
     },
     "metadata": {},
     "output_type": "display_data"
    },
    {
     "data": {
      "text/plain": [
       "'affective.NRCExpandedEmotion.Anger'"
      ]
     },
     "metadata": {},
     "output_type": "display_data"
    },
    {
     "data": {
      "text/plain": [
       "'affective.NRCExpandedEmotion.Anticipation'"
      ]
     },
     "metadata": {},
     "output_type": "display_data"
    },
    {
     "data": {
      "text/plain": [
       "'affective.NRCExpandedEmotion.Disgust'"
      ]
     },
     "metadata": {},
     "output_type": "display_data"
    },
    {
     "data": {
      "text/plain": [
       "'affective.NRCExpandedEmotion.Fear'"
      ]
     },
     "metadata": {},
     "output_type": "display_data"
    },
    {
     "data": {
      "text/plain": [
       "'affective.NRCExpandedEmotion.Joy'"
      ]
     },
     "metadata": {},
     "output_type": "display_data"
    },
    {
     "data": {
      "text/plain": [
       "'affective.NRCExpandedEmotion.Negative'"
      ]
     },
     "metadata": {},
     "output_type": "display_data"
    },
    {
     "data": {
      "text/plain": [
       "'affective.NRCExpandedEmotion.Positive'"
      ]
     },
     "metadata": {},
     "output_type": "display_data"
    },
    {
     "data": {
      "text/plain": [
       "'affective.NRCExpandedEmotion.Sadness'"
      ]
     },
     "metadata": {},
     "output_type": "display_data"
    },
    {
     "data": {
      "text/plain": [
       "'affective.NRCExpandedEmotion.Surprise'"
      ]
     },
     "metadata": {},
     "output_type": "display_data"
    },
    {
     "data": {
      "text/plain": [
       "'affective.NRCExpandedEmotion.Trust'"
      ]
     },
     "metadata": {},
     "output_type": "display_data"
    },
    {
     "data": {
      "text/plain": [
       "'affective.NRCHashtagEmotion.Anger'"
      ]
     },
     "metadata": {},
     "output_type": "display_data"
    },
    {
     "data": {
      "text/plain": [
       "'affective.NRCHashtagEmotion.Anticipation'"
      ]
     },
     "metadata": {},
     "output_type": "display_data"
    },
    {
     "data": {
      "text/plain": [
       "'affective.NRCHashtagEmotion.Disgust'"
      ]
     },
     "metadata": {},
     "output_type": "display_data"
    },
    {
     "data": {
      "text/plain": [
       "'affective.NRCHashtagEmotion.Fear'"
      ]
     },
     "metadata": {},
     "output_type": "display_data"
    },
    {
     "data": {
      "text/plain": [
       "'affective.NRCHashtagEmotion.Joy'"
      ]
     },
     "metadata": {},
     "output_type": "display_data"
    },
    {
     "data": {
      "text/plain": [
       "'affective.NRCHashtagEmotion.Negative'"
      ]
     },
     "metadata": {},
     "output_type": "display_data"
    },
    {
     "data": {
      "text/plain": [
       "'affective.NRCHashtagEmotion.Positive'"
      ]
     },
     "metadata": {},
     "output_type": "display_data"
    },
    {
     "data": {
      "text/plain": [
       "'affective.NRCHashtagEmotion.Sadness'"
      ]
     },
     "metadata": {},
     "output_type": "display_data"
    },
    {
     "data": {
      "text/plain": [
       "'affective.NRCHashtagEmotion.Surprise'"
      ]
     },
     "metadata": {},
     "output_type": "display_data"
    },
    {
     "data": {
      "text/plain": [
       "'affective.NRCHashtagEmotion.Trust'"
      ]
     },
     "metadata": {},
     "output_type": "display_data"
    },
    {
     "data": {
      "text/plain": [
       "'affective.NRCHashtagSentiment.PositiveScore'"
      ]
     },
     "metadata": {},
     "output_type": "display_data"
    },
    {
     "data": {
      "text/plain": [
       "'affective.NRCHashtagSentiment.NegativeScore'"
      ]
     },
     "metadata": {},
     "output_type": "display_data"
    },
    {
     "data": {
      "text/plain": [
       "'affective.Sentiment140.PositiveScore'"
      ]
     },
     "metadata": {},
     "output_type": "display_data"
    },
    {
     "data": {
      "text/plain": [
       "'affective.Sentiment140.NegativeScore'"
      ]
     },
     "metadata": {},
     "output_type": "display_data"
    },
    {
     "data": {
      "text/plain": [
       "'affective.SentiWordNet.PositiveScore'"
      ]
     },
     "metadata": {},
     "output_type": "display_data"
    },
    {
     "data": {
      "text/plain": [
       "'affective.SentiWordNet.NegativeScore'"
      ]
     },
     "metadata": {},
     "output_type": "display_data"
    },
    {
     "data": {
      "text/plain": [
       "'affective.Negation.count'"
      ]
     },
     "metadata": {},
     "output_type": "display_data"
    },
    {
     "data": {
      "text/plain": [
       "'affective.LIWC.>six_letter_words'"
      ]
     },
     "metadata": {},
     "output_type": "display_data"
    },
    {
     "data": {
      "text/plain": [
       "'affective.LIWC.Apostro'"
      ]
     },
     "metadata": {},
     "output_type": "display_data"
    },
    {
     "data": {
      "text/plain": [
       "'affective.LIWC.Colon'"
      ]
     },
     "metadata": {},
     "output_type": "display_data"
    },
    {
     "data": {
      "text/plain": [
       "'affective.LIWC.Comma'"
      ]
     },
     "metadata": {},
     "output_type": "display_data"
    },
    {
     "data": {
      "text/plain": [
       "'affective.LIWC.Dash'"
      ]
     },
     "metadata": {},
     "output_type": "display_data"
    },
    {
     "data": {
      "text/plain": [
       "'affective.LIWC.Exclam'"
      ]
     },
     "metadata": {},
     "output_type": "display_data"
    },
    {
     "data": {
      "text/plain": [
       "'affective.LIWC.OtherP'"
      ]
     },
     "metadata": {},
     "output_type": "display_data"
    },
    {
     "data": {
      "text/plain": [
       "'affective.LIWC.Parenth'"
      ]
     },
     "metadata": {},
     "output_type": "display_data"
    },
    {
     "data": {
      "text/plain": [
       "'affective.LIWC.Period'"
      ]
     },
     "metadata": {},
     "output_type": "display_data"
    },
    {
     "data": {
      "text/plain": [
       "'affective.LIWC.QMark'"
      ]
     },
     "metadata": {},
     "output_type": "display_data"
    },
    {
     "data": {
      "text/plain": [
       "'affective.LIWC.Quote'"
      ]
     },
     "metadata": {},
     "output_type": "display_data"
    },
    {
     "data": {
      "text/plain": [
       "'affective.LIWC.SemiC'"
      ]
     },
     "metadata": {},
     "output_type": "display_data"
    },
    {
     "data": {
      "text/plain": [
       "'affective.LIWC.achieve'"
      ]
     },
     "metadata": {},
     "output_type": "display_data"
    },
    {
     "data": {
      "text/plain": [
       "'affective.LIWC.adverb'"
      ]
     },
     "metadata": {},
     "output_type": "display_data"
    },
    {
     "data": {
      "text/plain": [
       "'affective.LIWC.affect'"
      ]
     },
     "metadata": {},
     "output_type": "display_data"
    },
    {
     "data": {
      "text/plain": [
       "'affective.LIWC.anger'"
      ]
     },
     "metadata": {},
     "output_type": "display_data"
    },
    {
     "data": {
      "text/plain": [
       "'affective.LIWC.anx'"
      ]
     },
     "metadata": {},
     "output_type": "display_data"
    },
    {
     "data": {
      "text/plain": [
       "'affective.LIWC.article'"
      ]
     },
     "metadata": {},
     "output_type": "display_data"
    },
    {
     "data": {
      "text/plain": [
       "'affective.LIWC.assent'"
      ]
     },
     "metadata": {},
     "output_type": "display_data"
    },
    {
     "data": {
      "text/plain": [
       "'affective.LIWC.auxverb'"
      ]
     },
     "metadata": {},
     "output_type": "display_data"
    },
    {
     "data": {
      "text/plain": [
       "'affective.LIWC.avg_sentence_length'"
      ]
     },
     "metadata": {},
     "output_type": "display_data"
    },
    {
     "data": {
      "text/plain": [
       "'affective.LIWC.bio'"
      ]
     },
     "metadata": {},
     "output_type": "display_data"
    },
    {
     "data": {
      "text/plain": [
       "'affective.LIWC.body'"
      ]
     },
     "metadata": {},
     "output_type": "display_data"
    },
    {
     "data": {
      "text/plain": [
       "'affective.LIWC.cause'"
      ]
     },
     "metadata": {},
     "output_type": "display_data"
    },
    {
     "data": {
      "text/plain": [
       "'affective.LIWC.certain'"
      ]
     },
     "metadata": {},
     "output_type": "display_data"
    },
    {
     "data": {
      "text/plain": [
       "'affective.LIWC.cogmech'"
      ]
     },
     "metadata": {},
     "output_type": "display_data"
    },
    {
     "data": {
      "text/plain": [
       "'affective.LIWC.conj'"
      ]
     },
     "metadata": {},
     "output_type": "display_data"
    },
    {
     "data": {
      "text/plain": [
       "'affective.LIWC.death'"
      ]
     },
     "metadata": {},
     "output_type": "display_data"
    },
    {
     "data": {
      "text/plain": [
       "'affective.LIWC.dictionary_words'"
      ]
     },
     "metadata": {},
     "output_type": "display_data"
    },
    {
     "data": {
      "text/plain": [
       "'affective.LIWC.discrep'"
      ]
     },
     "metadata": {},
     "output_type": "display_data"
    },
    {
     "data": {
      "text/plain": [
       "'affective.LIWC.excl'"
      ]
     },
     "metadata": {},
     "output_type": "display_data"
    },
    {
     "data": {
      "text/plain": [
       "'affective.LIWC.family'"
      ]
     },
     "metadata": {},
     "output_type": "display_data"
    },
    {
     "data": {
      "text/plain": [
       "'affective.LIWC.feel'"
      ]
     },
     "metadata": {},
     "output_type": "display_data"
    },
    {
     "data": {
      "text/plain": [
       "'affective.LIWC.filler'"
      ]
     },
     "metadata": {},
     "output_type": "display_data"
    },
    {
     "data": {
      "text/plain": [
       "'affective.LIWC.friend'"
      ]
     },
     "metadata": {},
     "output_type": "display_data"
    },
    {
     "data": {
      "text/plain": [
       "'affective.LIWC.funct'"
      ]
     },
     "metadata": {},
     "output_type": "display_data"
    },
    {
     "data": {
      "text/plain": [
       "'affective.LIWC.future'"
      ]
     },
     "metadata": {},
     "output_type": "display_data"
    },
    {
     "data": {
      "text/plain": [
       "'affective.LIWC.health'"
      ]
     },
     "metadata": {},
     "output_type": "display_data"
    },
    {
     "data": {
      "text/plain": [
       "'affective.LIWC.hear'"
      ]
     },
     "metadata": {},
     "output_type": "display_data"
    },
    {
     "data": {
      "text/plain": [
       "'affective.LIWC.home'"
      ]
     },
     "metadata": {},
     "output_type": "display_data"
    },
    {
     "data": {
      "text/plain": [
       "'affective.LIWC.humans'"
      ]
     },
     "metadata": {},
     "output_type": "display_data"
    },
    {
     "data": {
      "text/plain": [
       "'affective.LIWC.i'"
      ]
     },
     "metadata": {},
     "output_type": "display_data"
    },
    {
     "data": {
      "text/plain": [
       "'affective.LIWC.incl'"
      ]
     },
     "metadata": {},
     "output_type": "display_data"
    },
    {
     "data": {
      "text/plain": [
       "'affective.LIWC.ingest'"
      ]
     },
     "metadata": {},
     "output_type": "display_data"
    },
    {
     "data": {
      "text/plain": [
       "'affective.LIWC.inhib'"
      ]
     },
     "metadata": {},
     "output_type": "display_data"
    },
    {
     "data": {
      "text/plain": [
       "'affective.LIWC.insight'"
      ]
     },
     "metadata": {},
     "output_type": "display_data"
    },
    {
     "data": {
      "text/plain": [
       "'affective.LIWC.ipron'"
      ]
     },
     "metadata": {},
     "output_type": "display_data"
    },
    {
     "data": {
      "text/plain": [
       "'affective.LIWC.leisure'"
      ]
     },
     "metadata": {},
     "output_type": "display_data"
    },
    {
     "data": {
      "text/plain": [
       "'affective.LIWC.money'"
      ]
     },
     "metadata": {},
     "output_type": "display_data"
    },
    {
     "data": {
      "text/plain": [
       "'affective.LIWC.motion'"
      ]
     },
     "metadata": {},
     "output_type": "display_data"
    },
    {
     "data": {
      "text/plain": [
       "'affective.LIWC.negate'"
      ]
     },
     "metadata": {},
     "output_type": "display_data"
    },
    {
     "data": {
      "text/plain": [
       "'affective.LIWC.negemo'"
      ]
     },
     "metadata": {},
     "output_type": "display_data"
    },
    {
     "data": {
      "text/plain": [
       "'affective.LIWC.nonfl'"
      ]
     },
     "metadata": {},
     "output_type": "display_data"
    },
    {
     "data": {
      "text/plain": [
       "'affective.LIWC.number'"
      ]
     },
     "metadata": {},
     "output_type": "display_data"
    },
    {
     "data": {
      "text/plain": [
       "'affective.LIWC.numerals'"
      ]
     },
     "metadata": {},
     "output_type": "display_data"
    },
    {
     "data": {
      "text/plain": [
       "'affective.LIWC.past'"
      ]
     },
     "metadata": {},
     "output_type": "display_data"
    },
    {
     "data": {
      "text/plain": [
       "'affective.LIWC.percept'"
      ]
     },
     "metadata": {},
     "output_type": "display_data"
    },
    {
     "data": {
      "text/plain": [
       "'affective.LIWC.posemo'"
      ]
     },
     "metadata": {},
     "output_type": "display_data"
    },
    {
     "data": {
      "text/plain": [
       "'affective.LIWC.ppron'"
      ]
     },
     "metadata": {},
     "output_type": "display_data"
    },
    {
     "data": {
      "text/plain": [
       "'affective.LIWC.preps'"
      ]
     },
     "metadata": {},
     "output_type": "display_data"
    },
    {
     "data": {
      "text/plain": [
       "'affective.LIWC.present'"
      ]
     },
     "metadata": {},
     "output_type": "display_data"
    },
    {
     "data": {
      "text/plain": [
       "'affective.LIWC.pronoun'"
      ]
     },
     "metadata": {},
     "output_type": "display_data"
    },
    {
     "data": {
      "text/plain": [
       "'affective.LIWC.quant'"
      ]
     },
     "metadata": {},
     "output_type": "display_data"
    },
    {
     "data": {
      "text/plain": [
       "'affective.LIWC.relativ'"
      ]
     },
     "metadata": {},
     "output_type": "display_data"
    },
    {
     "data": {
      "text/plain": [
       "'affective.LIWC.relig'"
      ]
     },
     "metadata": {},
     "output_type": "display_data"
    },
    {
     "data": {
      "text/plain": [
       "'affective.LIWC.sad'"
      ]
     },
     "metadata": {},
     "output_type": "display_data"
    },
    {
     "data": {
      "text/plain": [
       "'affective.LIWC.see'"
      ]
     },
     "metadata": {},
     "output_type": "display_data"
    },
    {
     "data": {
      "text/plain": [
       "'affective.LIWC.sexual'"
      ]
     },
     "metadata": {},
     "output_type": "display_data"
    },
    {
     "data": {
      "text/plain": [
       "'affective.LIWC.shehe'"
      ]
     },
     "metadata": {},
     "output_type": "display_data"
    },
    {
     "data": {
      "text/plain": [
       "'affective.LIWC.social'"
      ]
     },
     "metadata": {},
     "output_type": "display_data"
    },
    {
     "data": {
      "text/plain": [
       "'affective.LIWC.space'"
      ]
     },
     "metadata": {},
     "output_type": "display_data"
    },
    {
     "data": {
      "text/plain": [
       "'affective.LIWC.swear'"
      ]
     },
     "metadata": {},
     "output_type": "display_data"
    },
    {
     "data": {
      "text/plain": [
       "'affective.LIWC.tentat'"
      ]
     },
     "metadata": {},
     "output_type": "display_data"
    },
    {
     "data": {
      "text/plain": [
       "'affective.LIWC.they'"
      ]
     },
     "metadata": {},
     "output_type": "display_data"
    },
    {
     "data": {
      "text/plain": [
       "'affective.LIWC.time'"
      ]
     },
     "metadata": {},
     "output_type": "display_data"
    },
    {
     "data": {
      "text/plain": [
       "'affective.LIWC.total_word_count'"
      ]
     },
     "metadata": {},
     "output_type": "display_data"
    },
    {
     "data": {
      "text/plain": [
       "'affective.LIWC.verb'"
      ]
     },
     "metadata": {},
     "output_type": "display_data"
    },
    {
     "data": {
      "text/plain": [
       "'affective.LIWC.we'"
      ]
     },
     "metadata": {},
     "output_type": "display_data"
    },
    {
     "data": {
      "text/plain": [
       "'affective.LIWC.work'"
      ]
     },
     "metadata": {},
     "output_type": "display_data"
    },
    {
     "data": {
      "text/plain": [
       "'affective.LIWC.you'"
      ]
     },
     "metadata": {},
     "output_type": "display_data"
    },
    {
     "data": {
      "text/plain": [
       "'affective.LabMT.happiness'"
      ]
     },
     "metadata": {},
     "output_type": "display_data"
    },
    {
     "data": {
      "text/plain": [
       "'release.$date.$numberLong'"
      ]
     },
     "metadata": {},
     "output_type": "display_data"
    }
   ],
   "source": [
    "for col in df.columns:\n",
    "    display(col)"
   ]
  },
  {
   "cell_type": "code",
   "execution_count": 6,
   "id": "c7ee1919",
   "metadata": {},
   "outputs": [],
   "source": [
    "df['release_dt'] = df['release.$date'].apply(pd.to_datetime)\n",
    "df['release_dt'].isna().sum()\n",
    "df = df[df['release_dt'].notnull()]\n",
    "\n",
    "features = [\n",
    "    'features.compression_ratio', \n",
    "    'features.entropy', \n",
    "    'features.uncommon_words_ratio', \n",
    "    'features.readability.flesch_kincaid_grade', \n",
    "    'features.readability.flesch_reading_ease', \n",
    "    'features.readability.smog', \n",
    "    'features.readability.automated_readability_index', \n",
    "    'features.readability.coleman_liau_index', \n",
    "    'features.readability.dale_chall_readability_score', \n",
    "    'features.readability.difficult_words', \n",
    "    'features.readability.linsear_write_formula', \n",
    "    'features.readability.gunning_fog', \n",
    "    'features.readability.fernandez_huerta', \n",
    "    'features.readability.szigriszt_pazos', \n",
    "    'features.readability.gutierrez_polini', \n",
    "    'features.readability.crawford', \n",
    "    'features.lexical.token_count', \n",
    "    'features.lexical.character_count', \n",
    "    'features.lexical.repeated_token_ratio', \n",
    "    'features.lexical.unique_tokens_per_line', \n",
    "    'features.lexical.average_token_length', \n",
    "    'features.lexical.average_tokens_per_line', \n",
    "    'features.lexical.line_count', \n",
    "    'features.lexical.unique_line_count', \n",
    "    'features.lexical.blank_line_count', \n",
    "    'features.lexical.blank_line_ratio', \n",
    "    'features.lexical.repeated_line_ratio', \n",
    "    'features.lexical.exclamation_mark_count', \n",
    "    'features.lexical.question_mark_count', \n",
    "    'features.lexical.digit_count', \n",
    "    'features.lexical.colon_count', \n",
    "    'features.lexical.semicolon_count', \n",
    "    'features.lexical.quote_count', \n",
    "    'features.lexical.comma_count',\n",
    "    'features.lexical.dot_count', \n",
    "    'features.lexical.hyphen_count', \n",
    "    'features.lexical.parens_count', \n",
    "    'features.lexical.punctuation_count', \n",
    "    'features.lexical.digit_ratio', \n",
    "    'features.lexical.punctuation_ratio', \n",
    "    'features.lexical.stop_word_count', \n",
    "    'features.lexical.stop_word_ratio', \n",
    "    'features.lexical.stop_words_per_line', \n",
    "    'features.lexical.unique_bigram_ratio', \n",
    "    'features.lexical.unique_trigram_ratio', \n",
    "    'features.lexical.hapax_legomenon_ratio', \n",
    "    'features.lexical.dis_legomenon_ratio', \n",
    "    'features.lexical.tris_legomenon_ratio', \n",
    "    'features.lexical.mtld', \n",
    "    'features.lexical.herdan', \n",
    "    'features.lexical.summer', \n",
    "    'features.lexical.dugast', \n",
    "    'features.lexical.maas', \n",
    "    'features.lexical.pronoun_frequency', \n",
    "    'features.lexical.past_tense_ratio', \n",
    "    'features.structure.chorus_repetitions', \n",
    "    'features.structure.title_occurrences', \n",
    "    'features.structure.number_of_sections', \n",
    "    'features.structure.number_of_verses', \n",
    "    'features.structure.starts_with_chorus', \n",
    "    'features.structure.ratio_verses_sections', \n",
    "    'features.structure.ratio_chorus_sections', \n",
    "    'features.structure.ends_with_two_chorus_repetitions', \n",
    "    'features.structure.pattern_verse_chorus_alternating', \n",
    "    'features.structure.pattern_two_verses_at_least_one_chorus', \n",
    "    'features.structure.pattern_two_choruses_at_least_one_verse', \n",
    "    'features.rhyme.num_couplets', \n",
    "    'features.rhyme.num_clerihews', \n",
    "    'features.rhyme.num_alternating', \n",
    "    'features.rhyme.num_nested', \n",
    "    'features.rhyme.alliterations_len_2', \n",
    "    'features.rhyme.alliterations_len_3', \n",
    "    'features.rhyme.alliterations_len_4_plus', \n",
    "    'features.rhyme.rhyme_percent', \n",
    "    'features.rhyme.unique_rhyme_words', \n",
    "    'affective.LIWC.anger', \n",
    "    'affective.LIWC.anx', \n",
    "    'affective.LIWC.negemo', \n",
    "    'affective.LIWC.posemo', \n",
    "    'affective.LIWC.sad',\n",
    "]\n",
    "\n",
    "genres = [\"pop\", \"rock\", \"rap\", \"country\", \"r-b\"]"
   ]
  },
  {
   "cell_type": "markdown",
   "id": "edacf6be-bae6-48f8-b715-42ae4eef3f21",
   "metadata": {},
   "source": [
    "## Clean Dataset"
   ]
  },
  {
   "cell_type": "code",
   "execution_count": 7,
   "id": "385c9c8e-ede9-4e25-a089-fbf6b37f405c",
   "metadata": {},
   "outputs": [
    {
     "data": {
      "text/plain": [
       "573829"
      ]
     },
     "metadata": {},
     "output_type": "display_data"
    },
    {
     "data": {
      "text/plain": [
       "353320"
      ]
     },
     "metadata": {},
     "output_type": "display_data"
    }
   ],
   "source": [
    "columns = [\"genre\", \"release_dt\"] + features\n",
    "df = df[columns]\n",
    "display(df.shape[0])\n",
    "df_cleaned = df.dropna()\n",
    "display(df_cleaned.shape[0])"
   ]
  },
  {
   "cell_type": "markdown",
   "id": "dd3b39aa-2be1-4b56-bad9-0ccfb627a315",
   "metadata": {},
   "source": [
    "## Feature Importance"
   ]
  },
  {
   "cell_type": "code",
   "execution_count": 8,
   "id": "63ad472e-9c2e-4721-9f48-91cf7cc50b14",
   "metadata": {},
   "outputs": [],
   "source": [
    "importance_results = []\n",
    "\n",
    "for genre in genres:\n",
    "    # Get data points for this genres.\n",
    "    data = df_cleaned[(df_cleaned[\"genre\"] == genre) & (df_cleaned[\"release_dt\"].dt.year >= 1980)]\n",
    "\n",
    "    X = data[features]\n",
    "    y = data[\"release_dt\"].dt.year.to_numpy()\n",
    "\n",
    "    # Train the decision tree model and obtain feature importance.\n",
    "    dt = DecisionTreeClassifier()\n",
    "    dt.fit(X, y)\n",
    "\n",
    "    dt_ranks = rankdata(-1 * dt.feature_importances_, method=\"min\")\n",
    "\n",
    "    # Determine feature importance via permutation_importance.\n",
    "    perm_imp = permutation_importance(dt, X, y, n_repeats=10, random_state=42)\n",
    "    perm_ranks = rankdata(-1 * perm_imp.importances_mean, method=\"min\")\n",
    "\n",
    "    # Determine feature ranking via recursive feature elimination.\n",
    "    dt2 = DecisionTreeClassifier()\n",
    "    rfe = RFE(dt2, n_features_to_select=1, step=1)\n",
    "    rfe.fit(X, y)\n",
    "\n",
    "    # Add results.\n",
    "    importances = np.array([features, dt.feature_importances_, dt_ranks, perm_imp.importances_mean, perm_ranks, rfe.ranking_])\n",
    "    importances_per_feature = np.transpose(importances)\n",
    "\n",
    "    importance_results.append([genre, importances_per_feature])"
   ]
  },
  {
   "cell_type": "code",
   "execution_count": 9,
   "id": "33d1669c-e343-409e-b874-d023b94c648a",
   "metadata": {},
   "outputs": [
    {
     "data": {
      "text/plain": [
       "'pop'"
      ]
     },
     "metadata": {},
     "output_type": "display_data"
    },
    {
     "data": {
      "text/html": [
       "<div>\n",
       "<style scoped>\n",
       "    .dataframe tbody tr th:only-of-type {\n",
       "        vertical-align: middle;\n",
       "    }\n",
       "\n",
       "    .dataframe tbody tr th {\n",
       "        vertical-align: top;\n",
       "    }\n",
       "\n",
       "    .dataframe thead th {\n",
       "        text-align: right;\n",
       "    }\n",
       "</style>\n",
       "<table border=\"1\" class=\"dataframe\">\n",
       "  <thead>\n",
       "    <tr style=\"text-align: right;\">\n",
       "      <th></th>\n",
       "      <th>Feature</th>\n",
       "      <th>DT Score</th>\n",
       "      <th>DT Rank</th>\n",
       "      <th>Permutation Score</th>\n",
       "      <th>Permutation Rank</th>\n",
       "      <th>RFE Rank</th>\n",
       "    </tr>\n",
       "  </thead>\n",
       "  <tbody>\n",
       "    <tr>\n",
       "      <th>56</th>\n",
       "      <td>features.structure.title_occurrences</td>\n",
       "      <td>0.011812732733479058</td>\n",
       "      <td>41</td>\n",
       "      <td>0.4698660511441086</td>\n",
       "      <td>1</td>\n",
       "      <td>51</td>\n",
       "    </tr>\n",
       "    <tr>\n",
       "      <th>26</th>\n",
       "      <td>features.lexical.repeated_line_ratio</td>\n",
       "      <td>0.023651977443827146</td>\n",
       "      <td>8</td>\n",
       "      <td>0.320661202086476</td>\n",
       "      <td>2</td>\n",
       "      <td>16</td>\n",
       "    </tr>\n",
       "    <tr>\n",
       "      <th>36</th>\n",
       "      <td>features.lexical.parens_count</td>\n",
       "      <td>0.00804589852466563</td>\n",
       "      <td>56</td>\n",
       "      <td>0.2822495047345559</td>\n",
       "      <td>3</td>\n",
       "      <td>58</td>\n",
       "    </tr>\n",
       "    <tr>\n",
       "      <th>55</th>\n",
       "      <td>features.structure.chorus_repetitions</td>\n",
       "      <td>0.006421801563040313</td>\n",
       "      <td>63</td>\n",
       "      <td>0.24825248541465986</td>\n",
       "      <td>4</td>\n",
       "      <td>65</td>\n",
       "    </tr>\n",
       "    <tr>\n",
       "      <th>1</th>\n",
       "      <td>features.entropy</td>\n",
       "      <td>0.01988078813681513</td>\n",
       "      <td>16</td>\n",
       "      <td>0.22126188182693882</td>\n",
       "      <td>5</td>\n",
       "      <td>9</td>\n",
       "    </tr>\n",
       "    <tr>\n",
       "      <th>74</th>\n",
       "      <td>features.rhyme.unique_rhyme_words</td>\n",
       "      <td>0.013860419817664234</td>\n",
       "      <td>37</td>\n",
       "      <td>0.208766652732593</td>\n",
       "      <td>6</td>\n",
       "      <td>43</td>\n",
       "    </tr>\n",
       "    <tr>\n",
       "      <th>53</th>\n",
       "      <td>features.lexical.pronoun_frequency</td>\n",
       "      <td>0.02584069921405926</td>\n",
       "      <td>1</td>\n",
       "      <td>0.1877455880481998</td>\n",
       "      <td>7</td>\n",
       "      <td>6</td>\n",
       "    </tr>\n",
       "    <tr>\n",
       "      <th>61</th>\n",
       "      <td>features.structure.ratio_chorus_sections</td>\n",
       "      <td>0.0062511510796467995</td>\n",
       "      <td>65</td>\n",
       "      <td>0.1875947365551335</td>\n",
       "      <td>8</td>\n",
       "      <td>54</td>\n",
       "    </tr>\n",
       "    <tr>\n",
       "      <th>39</th>\n",
       "      <td>features.lexical.punctuation_ratio</td>\n",
       "      <td>0.021026555308890523</td>\n",
       "      <td>15</td>\n",
       "      <td>0.1809172861271151</td>\n",
       "      <td>9</td>\n",
       "      <td>11</td>\n",
       "    </tr>\n",
       "    <tr>\n",
       "      <th>20</th>\n",
       "      <td>features.lexical.average_token_length</td>\n",
       "      <td>0.023311959893096902</td>\n",
       "      <td>9</td>\n",
       "      <td>0.16705348866796316</td>\n",
       "      <td>10</td>\n",
       "      <td>1</td>\n",
       "    </tr>\n",
       "    <tr>\n",
       "      <th>19</th>\n",
       "      <td>features.lexical.unique_tokens_per_line</td>\n",
       "      <td>0.0190834166805814</td>\n",
       "      <td>18</td>\n",
       "      <td>0.15353501390378219</td>\n",
       "      <td>11</td>\n",
       "      <td>23</td>\n",
       "    </tr>\n",
       "    <tr>\n",
       "      <th>21</th>\n",
       "      <td>features.lexical.average_tokens_per_line</td>\n",
       "      <td>0.02114863812326451</td>\n",
       "      <td>14</td>\n",
       "      <td>0.14024463386706895</td>\n",
       "      <td>12</td>\n",
       "      <td>5</td>\n",
       "    </tr>\n",
       "    <tr>\n",
       "      <th>25</th>\n",
       "      <td>features.lexical.blank_line_ratio</td>\n",
       "      <td>0.02445659523522531</td>\n",
       "      <td>5</td>\n",
       "      <td>0.1331655186201632</td>\n",
       "      <td>13</td>\n",
       "      <td>13</td>\n",
       "    </tr>\n",
       "    <tr>\n",
       "      <th>48</th>\n",
       "      <td>features.lexical.mtld</td>\n",
       "      <td>0.02288189448592167</td>\n",
       "      <td>11</td>\n",
       "      <td>0.12991039784809438</td>\n",
       "      <td>14</td>\n",
       "      <td>8</td>\n",
       "    </tr>\n",
       "    <tr>\n",
       "      <th>34</th>\n",
       "      <td>features.lexical.dot_count</td>\n",
       "      <td>0.0037332837903736715</td>\n",
       "      <td>68</td>\n",
       "      <td>0.1288689772995765</td>\n",
       "      <td>15</td>\n",
       "      <td>67</td>\n",
       "    </tr>\n",
       "    <tr>\n",
       "      <th>78</th>\n",
       "      <td>affective.LIWC.posemo</td>\n",
       "      <td>0.02489767139787878</td>\n",
       "      <td>4</td>\n",
       "      <td>0.1262826920630305</td>\n",
       "      <td>16</td>\n",
       "      <td>12</td>\n",
       "    </tr>\n",
       "    <tr>\n",
       "      <th>46</th>\n",
       "      <td>features.lexical.dis_legomenon_ratio</td>\n",
       "      <td>0.024934346250300037</td>\n",
       "      <td>3</td>\n",
       "      <td>0.1224059904400138</td>\n",
       "      <td>17</td>\n",
       "      <td>7</td>\n",
       "    </tr>\n",
       "    <tr>\n",
       "      <th>41</th>\n",
       "      <td>features.lexical.stop_word_ratio</td>\n",
       "      <td>0.02391561144865688</td>\n",
       "      <td>7</td>\n",
       "      <td>0.12041584122425983</td>\n",
       "      <td>18</td>\n",
       "      <td>2</td>\n",
       "    </tr>\n",
       "    <tr>\n",
       "      <th>17</th>\n",
       "      <td>features.lexical.character_count</td>\n",
       "      <td>0.014540867710610852</td>\n",
       "      <td>32</td>\n",
       "      <td>0.11281056323949037</td>\n",
       "      <td>19</td>\n",
       "      <td>17</td>\n",
       "    </tr>\n",
       "    <tr>\n",
       "      <th>77</th>\n",
       "      <td>affective.LIWC.negemo</td>\n",
       "      <td>0.02302195626446361</td>\n",
       "      <td>10</td>\n",
       "      <td>0.1123707311753694</td>\n",
       "      <td>20</td>\n",
       "      <td>18</td>\n",
       "    </tr>\n",
       "    <tr>\n",
       "      <th>0</th>\n",
       "      <td>features.compression_ratio</td>\n",
       "      <td>0.016808679006836</td>\n",
       "      <td>22</td>\n",
       "      <td>0.10106595663473947</td>\n",
       "      <td>21</td>\n",
       "      <td>25</td>\n",
       "    </tr>\n",
       "    <tr>\n",
       "      <th>42</th>\n",
       "      <td>features.lexical.stop_words_per_line</td>\n",
       "      <td>0.01973779200724552</td>\n",
       "      <td>17</td>\n",
       "      <td>0.09937569291724976</td>\n",
       "      <td>22</td>\n",
       "      <td>21</td>\n",
       "    </tr>\n",
       "    <tr>\n",
       "      <th>73</th>\n",
       "      <td>features.rhyme.rhyme_percent</td>\n",
       "      <td>0.022212282907463538</td>\n",
       "      <td>12</td>\n",
       "      <td>0.09784900310790426</td>\n",
       "      <td>23</td>\n",
       "      <td>15</td>\n",
       "    </tr>\n",
       "    <tr>\n",
       "      <th>7</th>\n",
       "      <td>features.readability.coleman_liau_index</td>\n",
       "      <td>0.02118955548046854</td>\n",
       "      <td>13</td>\n",
       "      <td>0.09618236673270206</td>\n",
       "      <td>24</td>\n",
       "      <td>19</td>\n",
       "    </tr>\n",
       "    <tr>\n",
       "      <th>47</th>\n",
       "      <td>features.lexical.tris_legomenon_ratio</td>\n",
       "      <td>0.02428216943138316</td>\n",
       "      <td>6</td>\n",
       "      <td>0.0959497282855637</td>\n",
       "      <td>25</td>\n",
       "      <td>14</td>\n",
       "    </tr>\n",
       "    <tr>\n",
       "      <th>22</th>\n",
       "      <td>features.lexical.line_count</td>\n",
       "      <td>0.015333664197995542</td>\n",
       "      <td>30</td>\n",
       "      <td>0.09388869704294725</td>\n",
       "      <td>26</td>\n",
       "      <td>30</td>\n",
       "    </tr>\n",
       "    <tr>\n",
       "      <th>23</th>\n",
       "      <td>features.lexical.unique_line_count</td>\n",
       "      <td>0.015797585888233278</td>\n",
       "      <td>26</td>\n",
       "      <td>0.09261372930335689</td>\n",
       "      <td>27</td>\n",
       "      <td>38</td>\n",
       "    </tr>\n",
       "    <tr>\n",
       "      <th>60</th>\n",
       "      <td>features.structure.ratio_verses_sections</td>\n",
       "      <td>0.007476214901463048</td>\n",
       "      <td>59</td>\n",
       "      <td>0.09176496246887553</td>\n",
       "      <td>28</td>\n",
       "      <td>61</td>\n",
       "    </tr>\n",
       "    <tr>\n",
       "      <th>27</th>\n",
       "      <td>features.lexical.exclamation_mark_count</td>\n",
       "      <td>0.003318145993947414</td>\n",
       "      <td>69</td>\n",
       "      <td>0.0913632976499882</td>\n",
       "      <td>29</td>\n",
       "      <td>70</td>\n",
       "    </tr>\n",
       "    <tr>\n",
       "      <th>54</th>\n",
       "      <td>features.lexical.past_tense_ratio</td>\n",
       "      <td>0.025213468525866558</td>\n",
       "      <td>2</td>\n",
       "      <td>0.09062994129514186</td>\n",
       "      <td>30</td>\n",
       "      <td>10</td>\n",
       "    </tr>\n",
       "    <tr>\n",
       "      <th>10</th>\n",
       "      <td>features.readability.linsear_write_formula</td>\n",
       "      <td>0.01656155850602294</td>\n",
       "      <td>23</td>\n",
       "      <td>0.0875447556387561</td>\n",
       "      <td>31</td>\n",
       "      <td>28</td>\n",
       "    </tr>\n",
       "    <tr>\n",
       "      <th>9</th>\n",
       "      <td>features.readability.difficult_words</td>\n",
       "      <td>0.016509953324209837</td>\n",
       "      <td>24</td>\n",
       "      <td>0.08736936805946821</td>\n",
       "      <td>32</td>\n",
       "      <td>32</td>\n",
       "    </tr>\n",
       "    <tr>\n",
       "      <th>8</th>\n",
       "      <td>features.readability.dale_chall_readability_score</td>\n",
       "      <td>0.017075496748533713</td>\n",
       "      <td>21</td>\n",
       "      <td>0.08335362861452898</td>\n",
       "      <td>33</td>\n",
       "      <td>3</td>\n",
       "    </tr>\n",
       "    <tr>\n",
       "      <th>57</th>\n",
       "      <td>features.structure.number_of_sections</td>\n",
       "      <td>0.0077861509884616115</td>\n",
       "      <td>57</td>\n",
       "      <td>0.08190145580778248</td>\n",
       "      <td>34</td>\n",
       "      <td>52</td>\n",
       "    </tr>\n",
       "    <tr>\n",
       "      <th>45</th>\n",
       "      <td>features.lexical.hapax_legomenon_ratio</td>\n",
       "      <td>0.01358244939512978</td>\n",
       "      <td>39</td>\n",
       "      <td>0.08113084095163667</td>\n",
       "      <td>35</td>\n",
       "      <td>39</td>\n",
       "    </tr>\n",
       "    <tr>\n",
       "      <th>44</th>\n",
       "      <td>features.lexical.unique_trigram_ratio</td>\n",
       "      <td>0.015268125821602651</td>\n",
       "      <td>31</td>\n",
       "      <td>0.07897620908380434</td>\n",
       "      <td>36</td>\n",
       "      <td>4</td>\n",
       "    </tr>\n",
       "    <tr>\n",
       "      <th>75</th>\n",
       "      <td>affective.LIWC.anger</td>\n",
       "      <td>0.015463960988493054</td>\n",
       "      <td>29</td>\n",
       "      <td>0.078019301721161</td>\n",
       "      <td>37</td>\n",
       "      <td>42</td>\n",
       "    </tr>\n",
       "    <tr>\n",
       "      <th>70</th>\n",
       "      <td>features.rhyme.alliterations_len_2</td>\n",
       "      <td>0.018591023690913717</td>\n",
       "      <td>19</td>\n",
       "      <td>0.07689518547463695</td>\n",
       "      <td>38</td>\n",
       "      <td>26</td>\n",
       "    </tr>\n",
       "    <tr>\n",
       "      <th>33</th>\n",
       "      <td>features.lexical.comma_count</td>\n",
       "      <td>0.015748038965912578</td>\n",
       "      <td>28</td>\n",
       "      <td>0.06979244288544376</td>\n",
       "      <td>39</td>\n",
       "      <td>27</td>\n",
       "    </tr>\n",
       "    <tr>\n",
       "      <th>79</th>\n",
       "      <td>affective.LIWC.sad</td>\n",
       "      <td>0.01581225471446695</td>\n",
       "      <td>25</td>\n",
       "      <td>0.06764598971301869</td>\n",
       "      <td>40</td>\n",
       "      <td>37</td>\n",
       "    </tr>\n",
       "    <tr>\n",
       "      <th>49</th>\n",
       "      <td>features.lexical.herdan</td>\n",
       "      <td>0.013811726367385339</td>\n",
       "      <td>38</td>\n",
       "      <td>0.06327220515803057</td>\n",
       "      <td>41</td>\n",
       "      <td>31</td>\n",
       "    </tr>\n",
       "    <tr>\n",
       "      <th>37</th>\n",
       "      <td>features.lexical.punctuation_count</td>\n",
       "      <td>0.014235967384806791</td>\n",
       "      <td>34</td>\n",
       "      <td>0.06319950564329983</td>\n",
       "      <td>42</td>\n",
       "      <td>35</td>\n",
       "    </tr>\n",
       "    <tr>\n",
       "      <th>58</th>\n",
       "      <td>features.structure.number_of_verses</td>\n",
       "      <td>0.004256622462784691</td>\n",
       "      <td>66</td>\n",
       "      <td>0.06304138419876047</td>\n",
       "      <td>43</td>\n",
       "      <td>66</td>\n",
       "    </tr>\n",
       "    <tr>\n",
       "      <th>50</th>\n",
       "      <td>features.lexical.summer</td>\n",
       "      <td>0.011657039556256714</td>\n",
       "      <td>42</td>\n",
       "      <td>0.06216989876592573</td>\n",
       "      <td>44</td>\n",
       "      <td>44</td>\n",
       "    </tr>\n",
       "    <tr>\n",
       "      <th>40</th>\n",
       "      <td>features.lexical.stop_word_count</td>\n",
       "      <td>0.015789738606318403</td>\n",
       "      <td>27</td>\n",
       "      <td>0.06144926482615729</td>\n",
       "      <td>45</td>\n",
       "      <td>36</td>\n",
       "    </tr>\n",
       "    <tr>\n",
       "      <th>66</th>\n",
       "      <td>features.rhyme.num_couplets</td>\n",
       "      <td>0.013525804792473266</td>\n",
       "      <td>40</td>\n",
       "      <td>0.060821322767670515</td>\n",
       "      <td>46</td>\n",
       "      <td>33</td>\n",
       "    </tr>\n",
       "    <tr>\n",
       "      <th>43</th>\n",
       "      <td>features.lexical.unique_bigram_ratio</td>\n",
       "      <td>0.014111328969614808</td>\n",
       "      <td>35</td>\n",
       "      <td>0.060204285636393365</td>\n",
       "      <td>47</td>\n",
       "      <td>34</td>\n",
       "    </tr>\n",
       "    <tr>\n",
       "      <th>16</th>\n",
       "      <td>features.lexical.token_count</td>\n",
       "      <td>0.014050405264156123</td>\n",
       "      <td>36</td>\n",
       "      <td>0.058942040311880925</td>\n",
       "      <td>48</td>\n",
       "      <td>41</td>\n",
       "    </tr>\n",
       "    <tr>\n",
       "      <th>18</th>\n",
       "      <td>features.lexical.repeated_token_ratio</td>\n",
       "      <td>0.01451505656179289</td>\n",
       "      <td>33</td>\n",
       "      <td>0.0586603296922993</td>\n",
       "      <td>49</td>\n",
       "      <td>20</td>\n",
       "    </tr>\n",
       "    <tr>\n",
       "      <th>14</th>\n",
       "      <td>features.readability.gutierrez_polini</td>\n",
       "      <td>0.011010503743510664</td>\n",
       "      <td>44</td>\n",
       "      <td>0.057468057650715165</td>\n",
       "      <td>50</td>\n",
       "      <td>24</td>\n",
       "    </tr>\n",
       "    <tr>\n",
       "      <th>28</th>\n",
       "      <td>features.lexical.question_mark_count</td>\n",
       "      <td>0.006337900288290533</td>\n",
       "      <td>64</td>\n",
       "      <td>0.05600679740462733</td>\n",
       "      <td>51</td>\n",
       "      <td>62</td>\n",
       "    </tr>\n",
       "    <tr>\n",
       "      <th>15</th>\n",
       "      <td>features.readability.crawford</td>\n",
       "      <td>0.01718413354722836</td>\n",
       "      <td>20</td>\n",
       "      <td>0.05495356318496575</td>\n",
       "      <td>52</td>\n",
       "      <td>29</td>\n",
       "    </tr>\n",
       "    <tr>\n",
       "      <th>24</th>\n",
       "      <td>features.lexical.blank_line_count</td>\n",
       "      <td>0.010163504067929869</td>\n",
       "      <td>48</td>\n",
       "      <td>0.04582613911052145</td>\n",
       "      <td>53</td>\n",
       "      <td>48</td>\n",
       "    </tr>\n",
       "    <tr>\n",
       "      <th>52</th>\n",
       "      <td>features.lexical.maas</td>\n",
       "      <td>0.010567027514463694</td>\n",
       "      <td>46</td>\n",
       "      <td>0.045585321967975864</td>\n",
       "      <td>54</td>\n",
       "      <td>50</td>\n",
       "    </tr>\n",
       "    <tr>\n",
       "      <th>51</th>\n",
       "      <td>features.lexical.dugast</td>\n",
       "      <td>0.010325706001533132</td>\n",
       "      <td>47</td>\n",
       "      <td>0.04458479489649405</td>\n",
       "      <td>55</td>\n",
       "      <td>22</td>\n",
       "    </tr>\n",
       "    <tr>\n",
       "      <th>4</th>\n",
       "      <td>features.readability.flesch_reading_ease</td>\n",
       "      <td>0.009544044283884712</td>\n",
       "      <td>50</td>\n",
       "      <td>0.042752767125279444</td>\n",
       "      <td>56</td>\n",
       "      <td>40</td>\n",
       "    </tr>\n",
       "    <tr>\n",
       "      <th>11</th>\n",
       "      <td>features.readability.gunning_fog</td>\n",
       "      <td>0.009362119870150874</td>\n",
       "      <td>51</td>\n",
       "      <td>0.0415305065338689</td>\n",
       "      <td>57</td>\n",
       "      <td>45</td>\n",
       "    </tr>\n",
       "    <tr>\n",
       "      <th>76</th>\n",
       "      <td>affective.LIWC.anx</td>\n",
       "      <td>0.010741404076651648</td>\n",
       "      <td>45</td>\n",
       "      <td>0.0406790134675851</td>\n",
       "      <td>58</td>\n",
       "      <td>47</td>\n",
       "    </tr>\n",
       "    <tr>\n",
       "      <th>35</th>\n",
       "      <td>features.lexical.hyphen_count</td>\n",
       "      <td>0.0071005356118223634</td>\n",
       "      <td>60</td>\n",
       "      <td>0.03547918067646897</td>\n",
       "      <td>59</td>\n",
       "      <td>59</td>\n",
       "    </tr>\n",
       "    <tr>\n",
       "      <th>6</th>\n",
       "      <td>features.readability.automated_readability_index</td>\n",
       "      <td>0.00957678602919744</td>\n",
       "      <td>49</td>\n",
       "      <td>0.03352265498627797</td>\n",
       "      <td>60</td>\n",
       "      <td>57</td>\n",
       "    </tr>\n",
       "    <tr>\n",
       "      <th>67</th>\n",
       "      <td>features.rhyme.num_clerihews</td>\n",
       "      <td>0.0088400750631933</td>\n",
       "      <td>54</td>\n",
       "      <td>0.031112666072953966</td>\n",
       "      <td>61</td>\n",
       "      <td>53</td>\n",
       "    </tr>\n",
       "    <tr>\n",
       "      <th>68</th>\n",
       "      <td>features.rhyme.num_alternating</td>\n",
       "      <td>0.011081346345339874</td>\n",
       "      <td>43</td>\n",
       "      <td>0.029947656349393847</td>\n",
       "      <td>62</td>\n",
       "      <td>46</td>\n",
       "    </tr>\n",
       "    <tr>\n",
       "      <th>5</th>\n",
       "      <td>features.readability.smog</td>\n",
       "      <td>0.006972607514593316</td>\n",
       "      <td>61</td>\n",
       "      <td>0.026355391577761234</td>\n",
       "      <td>63</td>\n",
       "      <td>63</td>\n",
       "    </tr>\n",
       "    <tr>\n",
       "      <th>69</th>\n",
       "      <td>features.rhyme.num_nested</td>\n",
       "      <td>0.0077365126702818865</td>\n",
       "      <td>58</td>\n",
       "      <td>0.02628360080696459</td>\n",
       "      <td>64</td>\n",
       "      <td>60</td>\n",
       "    </tr>\n",
       "    <tr>\n",
       "      <th>13</th>\n",
       "      <td>features.readability.szigriszt_pazos</td>\n",
       "      <td>0.009351679196009063</td>\n",
       "      <td>52</td>\n",
       "      <td>0.021431816942621917</td>\n",
       "      <td>65</td>\n",
       "      <td>49</td>\n",
       "    </tr>\n",
       "    <tr>\n",
       "      <th>3</th>\n",
       "      <td>features.readability.flesch_kincaid_grade</td>\n",
       "      <td>0.009201225007198983</td>\n",
       "      <td>53</td>\n",
       "      <td>0.019389869322622277</td>\n",
       "      <td>66</td>\n",
       "      <td>55</td>\n",
       "    </tr>\n",
       "    <tr>\n",
       "      <th>71</th>\n",
       "      <td>features.rhyme.alliterations_len_3</td>\n",
       "      <td>0.006423495946681697</td>\n",
       "      <td>62</td>\n",
       "      <td>0.01736882281310772</td>\n",
       "      <td>67</td>\n",
       "      <td>64</td>\n",
       "    </tr>\n",
       "    <tr>\n",
       "      <th>12</th>\n",
       "      <td>features.readability.fernandez_huerta</td>\n",
       "      <td>0.008338350520646905</td>\n",
       "      <td>55</td>\n",
       "      <td>0.017324294360335148</td>\n",
       "      <td>68</td>\n",
       "      <td>56</td>\n",
       "    </tr>\n",
       "    <tr>\n",
       "      <th>72</th>\n",
       "      <td>features.rhyme.alliterations_len_4_plus</td>\n",
       "      <td>0.003917102107056778</td>\n",
       "      <td>67</td>\n",
       "      <td>0.01579760455098962</td>\n",
       "      <td>69</td>\n",
       "      <td>68</td>\n",
       "    </tr>\n",
       "    <tr>\n",
       "      <th>64</th>\n",
       "      <td>features.structure.pattern_two_verses_at_least...</td>\n",
       "      <td>0.0017993394535685385</td>\n",
       "      <td>73</td>\n",
       "      <td>0.01413914687119463</td>\n",
       "      <td>70</td>\n",
       "      <td>72</td>\n",
       "    </tr>\n",
       "    <tr>\n",
       "      <th>38</th>\n",
       "      <td>features.lexical.digit_ratio</td>\n",
       "      <td>0.002867457170531209</td>\n",
       "      <td>70</td>\n",
       "      <td>0.006769233565365962</td>\n",
       "      <td>71</td>\n",
       "      <td>69</td>\n",
       "    </tr>\n",
       "    <tr>\n",
       "      <th>29</th>\n",
       "      <td>features.lexical.digit_count</td>\n",
       "      <td>0.0020998393654324057</td>\n",
       "      <td>72</td>\n",
       "      <td>0.006397557296305034</td>\n",
       "      <td>72</td>\n",
       "      <td>73</td>\n",
       "    </tr>\n",
       "    <tr>\n",
       "      <th>32</th>\n",
       "      <td>features.lexical.quote_count</td>\n",
       "      <td>0.0027665594515578667</td>\n",
       "      <td>71</td>\n",
       "      <td>0.0052207339016012155</td>\n",
       "      <td>73</td>\n",
       "      <td>71</td>\n",
       "    </tr>\n",
       "    <tr>\n",
       "      <th>63</th>\n",
       "      <td>features.structure.pattern_verse_chorus_altern...</td>\n",
       "      <td>0.0017656072401146846</td>\n",
       "      <td>74</td>\n",
       "      <td>0.0040121044692026705</td>\n",
       "      <td>74</td>\n",
       "      <td>74</td>\n",
       "    </tr>\n",
       "    <tr>\n",
       "      <th>59</th>\n",
       "      <td>features.structure.starts_with_chorus</td>\n",
       "      <td>0.0011119776695762528</td>\n",
       "      <td>75</td>\n",
       "      <td>0.0021791679540538846</td>\n",
       "      <td>75</td>\n",
       "      <td>75</td>\n",
       "    </tr>\n",
       "    <tr>\n",
       "      <th>30</th>\n",
       "      <td>features.lexical.colon_count</td>\n",
       "      <td>0.000818007535194136</td>\n",
       "      <td>76</td>\n",
       "      <td>0.001889278639065084</td>\n",
       "      <td>76</td>\n",
       "      <td>76</td>\n",
       "    </tr>\n",
       "    <tr>\n",
       "      <th>31</th>\n",
       "      <td>features.lexical.semicolon_count</td>\n",
       "      <td>0.0005546261556596505</td>\n",
       "      <td>77</td>\n",
       "      <td>0.0008414968830083192</td>\n",
       "      <td>77</td>\n",
       "      <td>77</td>\n",
       "    </tr>\n",
       "    <tr>\n",
       "      <th>65</th>\n",
       "      <td>features.structure.pattern_two_choruses_at_lea...</td>\n",
       "      <td>0.0</td>\n",
       "      <td>78</td>\n",
       "      <td>0.0</td>\n",
       "      <td>78</td>\n",
       "      <td>79</td>\n",
       "    </tr>\n",
       "    <tr>\n",
       "      <th>62</th>\n",
       "      <td>features.structure.ends_with_two_chorus_repeti...</td>\n",
       "      <td>0.0</td>\n",
       "      <td>78</td>\n",
       "      <td>0.0</td>\n",
       "      <td>78</td>\n",
       "      <td>80</td>\n",
       "    </tr>\n",
       "    <tr>\n",
       "      <th>2</th>\n",
       "      <td>features.uncommon_words_ratio</td>\n",
       "      <td>0.0</td>\n",
       "      <td>78</td>\n",
       "      <td>0.0</td>\n",
       "      <td>78</td>\n",
       "      <td>78</td>\n",
       "    </tr>\n",
       "  </tbody>\n",
       "</table>\n",
       "</div>"
      ],
      "text/plain": [
       "                                              Feature               DT Score  \\\n",
       "56               features.structure.title_occurrences   0.011812732733479058   \n",
       "26               features.lexical.repeated_line_ratio   0.023651977443827146   \n",
       "36                      features.lexical.parens_count    0.00804589852466563   \n",
       "55              features.structure.chorus_repetitions   0.006421801563040313   \n",
       "1                                    features.entropy    0.01988078813681513   \n",
       "74                  features.rhyme.unique_rhyme_words   0.013860419817664234   \n",
       "53                 features.lexical.pronoun_frequency    0.02584069921405926   \n",
       "61           features.structure.ratio_chorus_sections  0.0062511510796467995   \n",
       "39                 features.lexical.punctuation_ratio   0.021026555308890523   \n",
       "20              features.lexical.average_token_length   0.023311959893096902   \n",
       "19            features.lexical.unique_tokens_per_line     0.0190834166805814   \n",
       "21           features.lexical.average_tokens_per_line    0.02114863812326451   \n",
       "25                  features.lexical.blank_line_ratio    0.02445659523522531   \n",
       "48                              features.lexical.mtld    0.02288189448592167   \n",
       "34                         features.lexical.dot_count  0.0037332837903736715   \n",
       "78                              affective.LIWC.posemo    0.02489767139787878   \n",
       "46               features.lexical.dis_legomenon_ratio   0.024934346250300037   \n",
       "41                   features.lexical.stop_word_ratio    0.02391561144865688   \n",
       "17                   features.lexical.character_count   0.014540867710610852   \n",
       "77                              affective.LIWC.negemo    0.02302195626446361   \n",
       "0                          features.compression_ratio      0.016808679006836   \n",
       "42               features.lexical.stop_words_per_line    0.01973779200724552   \n",
       "73                       features.rhyme.rhyme_percent   0.022212282907463538   \n",
       "7             features.readability.coleman_liau_index    0.02118955548046854   \n",
       "47              features.lexical.tris_legomenon_ratio    0.02428216943138316   \n",
       "22                        features.lexical.line_count   0.015333664197995542   \n",
       "23                 features.lexical.unique_line_count   0.015797585888233278   \n",
       "60           features.structure.ratio_verses_sections   0.007476214901463048   \n",
       "27            features.lexical.exclamation_mark_count   0.003318145993947414   \n",
       "54                  features.lexical.past_tense_ratio   0.025213468525866558   \n",
       "10         features.readability.linsear_write_formula    0.01656155850602294   \n",
       "9                features.readability.difficult_words   0.016509953324209837   \n",
       "8   features.readability.dale_chall_readability_score   0.017075496748533713   \n",
       "57              features.structure.number_of_sections  0.0077861509884616115   \n",
       "45             features.lexical.hapax_legomenon_ratio    0.01358244939512978   \n",
       "44              features.lexical.unique_trigram_ratio   0.015268125821602651   \n",
       "75                               affective.LIWC.anger   0.015463960988493054   \n",
       "70                 features.rhyme.alliterations_len_2   0.018591023690913717   \n",
       "33                       features.lexical.comma_count   0.015748038965912578   \n",
       "79                                 affective.LIWC.sad    0.01581225471446695   \n",
       "49                            features.lexical.herdan   0.013811726367385339   \n",
       "37                 features.lexical.punctuation_count   0.014235967384806791   \n",
       "58                features.structure.number_of_verses   0.004256622462784691   \n",
       "50                            features.lexical.summer   0.011657039556256714   \n",
       "40                   features.lexical.stop_word_count   0.015789738606318403   \n",
       "66                        features.rhyme.num_couplets   0.013525804792473266   \n",
       "43               features.lexical.unique_bigram_ratio   0.014111328969614808   \n",
       "16                       features.lexical.token_count   0.014050405264156123   \n",
       "18              features.lexical.repeated_token_ratio    0.01451505656179289   \n",
       "14              features.readability.gutierrez_polini   0.011010503743510664   \n",
       "28               features.lexical.question_mark_count   0.006337900288290533   \n",
       "15                      features.readability.crawford    0.01718413354722836   \n",
       "24                  features.lexical.blank_line_count   0.010163504067929869   \n",
       "52                              features.lexical.maas   0.010567027514463694   \n",
       "51                            features.lexical.dugast   0.010325706001533132   \n",
       "4            features.readability.flesch_reading_ease   0.009544044283884712   \n",
       "11                   features.readability.gunning_fog   0.009362119870150874   \n",
       "76                                 affective.LIWC.anx   0.010741404076651648   \n",
       "35                      features.lexical.hyphen_count  0.0071005356118223634   \n",
       "6    features.readability.automated_readability_index    0.00957678602919744   \n",
       "67                       features.rhyme.num_clerihews     0.0088400750631933   \n",
       "68                     features.rhyme.num_alternating   0.011081346345339874   \n",
       "5                           features.readability.smog   0.006972607514593316   \n",
       "69                          features.rhyme.num_nested  0.0077365126702818865   \n",
       "13               features.readability.szigriszt_pazos   0.009351679196009063   \n",
       "3           features.readability.flesch_kincaid_grade   0.009201225007198983   \n",
       "71                 features.rhyme.alliterations_len_3   0.006423495946681697   \n",
       "12              features.readability.fernandez_huerta   0.008338350520646905   \n",
       "72            features.rhyme.alliterations_len_4_plus   0.003917102107056778   \n",
       "64  features.structure.pattern_two_verses_at_least...  0.0017993394535685385   \n",
       "38                       features.lexical.digit_ratio   0.002867457170531209   \n",
       "29                       features.lexical.digit_count  0.0020998393654324057   \n",
       "32                       features.lexical.quote_count  0.0027665594515578667   \n",
       "63  features.structure.pattern_verse_chorus_altern...  0.0017656072401146846   \n",
       "59              features.structure.starts_with_chorus  0.0011119776695762528   \n",
       "30                       features.lexical.colon_count   0.000818007535194136   \n",
       "31                   features.lexical.semicolon_count  0.0005546261556596505   \n",
       "65  features.structure.pattern_two_choruses_at_lea...                    0.0   \n",
       "62  features.structure.ends_with_two_chorus_repeti...                    0.0   \n",
       "2                       features.uncommon_words_ratio                    0.0   \n",
       "\n",
       "   DT Rank      Permutation Score Permutation Rank RFE Rank  \n",
       "56      41     0.4698660511441086                1       51  \n",
       "26       8      0.320661202086476                2       16  \n",
       "36      56     0.2822495047345559                3       58  \n",
       "55      63    0.24825248541465986                4       65  \n",
       "1       16    0.22126188182693882                5        9  \n",
       "74      37      0.208766652732593                6       43  \n",
       "53       1     0.1877455880481998                7        6  \n",
       "61      65     0.1875947365551335                8       54  \n",
       "39      15     0.1809172861271151                9       11  \n",
       "20       9    0.16705348866796316               10        1  \n",
       "19      18    0.15353501390378219               11       23  \n",
       "21      14    0.14024463386706895               12        5  \n",
       "25       5     0.1331655186201632               13       13  \n",
       "48      11    0.12991039784809438               14        8  \n",
       "34      68     0.1288689772995765               15       67  \n",
       "78       4     0.1262826920630305               16       12  \n",
       "46       3     0.1224059904400138               17        7  \n",
       "41       7    0.12041584122425983               18        2  \n",
       "17      32    0.11281056323949037               19       17  \n",
       "77      10     0.1123707311753694               20       18  \n",
       "0       22    0.10106595663473947               21       25  \n",
       "42      17    0.09937569291724976               22       21  \n",
       "73      12    0.09784900310790426               23       15  \n",
       "7       13    0.09618236673270206               24       19  \n",
       "47       6     0.0959497282855637               25       14  \n",
       "22      30    0.09388869704294725               26       30  \n",
       "23      26    0.09261372930335689               27       38  \n",
       "60      59    0.09176496246887553               28       61  \n",
       "27      69     0.0913632976499882               29       70  \n",
       "54       2    0.09062994129514186               30       10  \n",
       "10      23     0.0875447556387561               31       28  \n",
       "9       24    0.08736936805946821               32       32  \n",
       "8       21    0.08335362861452898               33        3  \n",
       "57      57    0.08190145580778248               34       52  \n",
       "45      39    0.08113084095163667               35       39  \n",
       "44      31    0.07897620908380434               36        4  \n",
       "75      29      0.078019301721161               37       42  \n",
       "70      19    0.07689518547463695               38       26  \n",
       "33      28    0.06979244288544376               39       27  \n",
       "79      25    0.06764598971301869               40       37  \n",
       "49      38    0.06327220515803057               41       31  \n",
       "37      34    0.06319950564329983               42       35  \n",
       "58      66    0.06304138419876047               43       66  \n",
       "50      42    0.06216989876592573               44       44  \n",
       "40      27    0.06144926482615729               45       36  \n",
       "66      40   0.060821322767670515               46       33  \n",
       "43      35   0.060204285636393365               47       34  \n",
       "16      36   0.058942040311880925               48       41  \n",
       "18      33     0.0586603296922993               49       20  \n",
       "14      44   0.057468057650715165               50       24  \n",
       "28      64    0.05600679740462733               51       62  \n",
       "15      20    0.05495356318496575               52       29  \n",
       "24      48    0.04582613911052145               53       48  \n",
       "52      46   0.045585321967975864               54       50  \n",
       "51      47    0.04458479489649405               55       22  \n",
       "4       50   0.042752767125279444               56       40  \n",
       "11      51     0.0415305065338689               57       45  \n",
       "76      45     0.0406790134675851               58       47  \n",
       "35      60    0.03547918067646897               59       59  \n",
       "6       49    0.03352265498627797               60       57  \n",
       "67      54   0.031112666072953966               61       53  \n",
       "68      43   0.029947656349393847               62       46  \n",
       "5       61   0.026355391577761234               63       63  \n",
       "69      58    0.02628360080696459               64       60  \n",
       "13      52   0.021431816942621917               65       49  \n",
       "3       53   0.019389869322622277               66       55  \n",
       "71      62    0.01736882281310772               67       64  \n",
       "12      55   0.017324294360335148               68       56  \n",
       "72      67    0.01579760455098962               69       68  \n",
       "64      73    0.01413914687119463               70       72  \n",
       "38      70   0.006769233565365962               71       69  \n",
       "29      72   0.006397557296305034               72       73  \n",
       "32      71  0.0052207339016012155               73       71  \n",
       "63      74  0.0040121044692026705               74       74  \n",
       "59      75  0.0021791679540538846               75       75  \n",
       "30      76   0.001889278639065084               76       76  \n",
       "31      77  0.0008414968830083192               77       77  \n",
       "65      78                    0.0               78       79  \n",
       "62      78                    0.0               78       80  \n",
       "2       78                    0.0               78       78  "
      ]
     },
     "metadata": {},
     "output_type": "display_data"
    },
    {
     "data": {
      "text/plain": [
       "'rock'"
      ]
     },
     "metadata": {},
     "output_type": "display_data"
    },
    {
     "data": {
      "text/html": [
       "<div>\n",
       "<style scoped>\n",
       "    .dataframe tbody tr th:only-of-type {\n",
       "        vertical-align: middle;\n",
       "    }\n",
       "\n",
       "    .dataframe tbody tr th {\n",
       "        vertical-align: top;\n",
       "    }\n",
       "\n",
       "    .dataframe thead th {\n",
       "        text-align: right;\n",
       "    }\n",
       "</style>\n",
       "<table border=\"1\" class=\"dataframe\">\n",
       "  <thead>\n",
       "    <tr style=\"text-align: right;\">\n",
       "      <th></th>\n",
       "      <th>Feature</th>\n",
       "      <th>DT Score</th>\n",
       "      <th>DT Rank</th>\n",
       "      <th>Permutation Score</th>\n",
       "      <th>Permutation Rank</th>\n",
       "      <th>RFE Rank</th>\n",
       "    </tr>\n",
       "  </thead>\n",
       "  <tbody>\n",
       "    <tr>\n",
       "      <th>56</th>\n",
       "      <td>features.structure.title_occurrences</td>\n",
       "      <td>0.009731052182656859</td>\n",
       "      <td>50</td>\n",
       "      <td>0.4978291589966717</td>\n",
       "      <td>1</td>\n",
       "      <td>52</td>\n",
       "    </tr>\n",
       "    <tr>\n",
       "      <th>58</th>\n",
       "      <td>features.structure.number_of_verses</td>\n",
       "      <td>0.004181229340789595</td>\n",
       "      <td>66</td>\n",
       "      <td>0.3129181309384355</td>\n",
       "      <td>2</td>\n",
       "      <td>66</td>\n",
       "    </tr>\n",
       "    <tr>\n",
       "      <th>41</th>\n",
       "      <td>features.lexical.stop_word_ratio</td>\n",
       "      <td>0.024512021854229068</td>\n",
       "      <td>6</td>\n",
       "      <td>0.2645023335378665</td>\n",
       "      <td>3</td>\n",
       "      <td>3</td>\n",
       "    </tr>\n",
       "    <tr>\n",
       "      <th>44</th>\n",
       "      <td>features.lexical.unique_trigram_ratio</td>\n",
       "      <td>0.016536362264864407</td>\n",
       "      <td>26</td>\n",
       "      <td>0.24568249009873372</td>\n",
       "      <td>4</td>\n",
       "      <td>9</td>\n",
       "    </tr>\n",
       "    <tr>\n",
       "      <th>40</th>\n",
       "      <td>features.lexical.stop_word_count</td>\n",
       "      <td>0.015288181074485874</td>\n",
       "      <td>28</td>\n",
       "      <td>0.23750766999497958</td>\n",
       "      <td>5</td>\n",
       "      <td>26</td>\n",
       "    </tr>\n",
       "    <tr>\n",
       "      <th>9</th>\n",
       "      <td>features.readability.difficult_words</td>\n",
       "      <td>0.01687078277150665</td>\n",
       "      <td>25</td>\n",
       "      <td>0.23060746360238746</td>\n",
       "      <td>6</td>\n",
       "      <td>29</td>\n",
       "    </tr>\n",
       "    <tr>\n",
       "      <th>26</th>\n",
       "      <td>features.lexical.repeated_line_ratio</td>\n",
       "      <td>0.0218459791066245</td>\n",
       "      <td>11</td>\n",
       "      <td>0.21598241014484665</td>\n",
       "      <td>7</td>\n",
       "      <td>17</td>\n",
       "    </tr>\n",
       "    <tr>\n",
       "      <th>39</th>\n",
       "      <td>features.lexical.punctuation_ratio</td>\n",
       "      <td>0.02160741993593886</td>\n",
       "      <td>12</td>\n",
       "      <td>0.18099235789591123</td>\n",
       "      <td>8</td>\n",
       "      <td>13</td>\n",
       "    </tr>\n",
       "    <tr>\n",
       "      <th>61</th>\n",
       "      <td>features.structure.ratio_chorus_sections</td>\n",
       "      <td>0.007759153759973825</td>\n",
       "      <td>57</td>\n",
       "      <td>0.17068388464327552</td>\n",
       "      <td>9</td>\n",
       "      <td>55</td>\n",
       "    </tr>\n",
       "    <tr>\n",
       "      <th>20</th>\n",
       "      <td>features.lexical.average_token_length</td>\n",
       "      <td>0.022279742150976226</td>\n",
       "      <td>10</td>\n",
       "      <td>0.16951897510273145</td>\n",
       "      <td>10</td>\n",
       "      <td>2</td>\n",
       "    </tr>\n",
       "    <tr>\n",
       "      <th>73</th>\n",
       "      <td>features.rhyme.rhyme_percent</td>\n",
       "      <td>0.02119368647596536</td>\n",
       "      <td>13</td>\n",
       "      <td>0.1448178724828471</td>\n",
       "      <td>11</td>\n",
       "      <td>16</td>\n",
       "    </tr>\n",
       "    <tr>\n",
       "      <th>27</th>\n",
       "      <td>features.lexical.exclamation_mark_count</td>\n",
       "      <td>0.0030800497660072156</td>\n",
       "      <td>68</td>\n",
       "      <td>0.14179635930904966</td>\n",
       "      <td>12</td>\n",
       "      <td>69</td>\n",
       "    </tr>\n",
       "    <tr>\n",
       "      <th>25</th>\n",
       "      <td>features.lexical.blank_line_ratio</td>\n",
       "      <td>0.023334840478389653</td>\n",
       "      <td>8</td>\n",
       "      <td>0.13996950595935367</td>\n",
       "      <td>13</td>\n",
       "      <td>14</td>\n",
       "    </tr>\n",
       "    <tr>\n",
       "      <th>77</th>\n",
       "      <td>affective.LIWC.negemo</td>\n",
       "      <td>0.023480579837976856</td>\n",
       "      <td>7</td>\n",
       "      <td>0.1397333630836169</td>\n",
       "      <td>14</td>\n",
       "      <td>15</td>\n",
       "    </tr>\n",
       "    <tr>\n",
       "      <th>34</th>\n",
       "      <td>features.lexical.dot_count</td>\n",
       "      <td>0.0029438336686965056</td>\n",
       "      <td>69</td>\n",
       "      <td>0.13754671724214873</td>\n",
       "      <td>15</td>\n",
       "      <td>70</td>\n",
       "    </tr>\n",
       "    <tr>\n",
       "      <th>42</th>\n",
       "      <td>features.lexical.stop_words_per_line</td>\n",
       "      <td>0.02038255551894291</td>\n",
       "      <td>15</td>\n",
       "      <td>0.13433275692158939</td>\n",
       "      <td>16</td>\n",
       "      <td>21</td>\n",
       "    </tr>\n",
       "    <tr>\n",
       "      <th>47</th>\n",
       "      <td>features.lexical.tris_legomenon_ratio</td>\n",
       "      <td>0.025357464341318737</td>\n",
       "      <td>3</td>\n",
       "      <td>0.13231066733604804</td>\n",
       "      <td>17</td>\n",
       "      <td>11</td>\n",
       "    </tr>\n",
       "    <tr>\n",
       "      <th>75</th>\n",
       "      <td>affective.LIWC.anger</td>\n",
       "      <td>0.017317681722342677</td>\n",
       "      <td>22</td>\n",
       "      <td>0.12921384875699596</td>\n",
       "      <td>18</td>\n",
       "      <td>34</td>\n",
       "    </tr>\n",
       "    <tr>\n",
       "      <th>46</th>\n",
       "      <td>features.lexical.dis_legomenon_ratio</td>\n",
       "      <td>0.02454954495098443</td>\n",
       "      <td>5</td>\n",
       "      <td>0.1289265725813949</td>\n",
       "      <td>19</td>\n",
       "      <td>6</td>\n",
       "    </tr>\n",
       "    <tr>\n",
       "      <th>1</th>\n",
       "      <td>features.entropy</td>\n",
       "      <td>0.01887855333630319</td>\n",
       "      <td>17</td>\n",
       "      <td>0.1270764768226697</td>\n",
       "      <td>20</td>\n",
       "      <td>8</td>\n",
       "    </tr>\n",
       "    <tr>\n",
       "      <th>54</th>\n",
       "      <td>features.lexical.past_tense_ratio</td>\n",
       "      <td>0.026237317256763176</td>\n",
       "      <td>1</td>\n",
       "      <td>0.12443335006786782</td>\n",
       "      <td>21</td>\n",
       "      <td>12</td>\n",
       "    </tr>\n",
       "    <tr>\n",
       "      <th>48</th>\n",
       "      <td>features.lexical.mtld</td>\n",
       "      <td>0.022519975713352763</td>\n",
       "      <td>9</td>\n",
       "      <td>0.12175768394042503</td>\n",
       "      <td>22</td>\n",
       "      <td>1</td>\n",
       "    </tr>\n",
       "    <tr>\n",
       "      <th>53</th>\n",
       "      <td>features.lexical.pronoun_frequency</td>\n",
       "      <td>0.025458688947289754</td>\n",
       "      <td>2</td>\n",
       "      <td>0.12012048864840741</td>\n",
       "      <td>23</td>\n",
       "      <td>5</td>\n",
       "    </tr>\n",
       "    <tr>\n",
       "      <th>16</th>\n",
       "      <td>features.lexical.token_count</td>\n",
       "      <td>0.014096102255809862</td>\n",
       "      <td>38</td>\n",
       "      <td>0.1125118536286049</td>\n",
       "      <td>24</td>\n",
       "      <td>41</td>\n",
       "    </tr>\n",
       "    <tr>\n",
       "      <th>19</th>\n",
       "      <td>features.lexical.unique_tokens_per_line</td>\n",
       "      <td>0.018786793501143408</td>\n",
       "      <td>18</td>\n",
       "      <td>0.11092486194009037</td>\n",
       "      <td>25</td>\n",
       "      <td>24</td>\n",
       "    </tr>\n",
       "    <tr>\n",
       "      <th>78</th>\n",
       "      <td>affective.LIWC.posemo</td>\n",
       "      <td>0.025252151946636093</td>\n",
       "      <td>4</td>\n",
       "      <td>0.10778527732842454</td>\n",
       "      <td>26</td>\n",
       "      <td>10</td>\n",
       "    </tr>\n",
       "    <tr>\n",
       "      <th>37</th>\n",
       "      <td>features.lexical.punctuation_count</td>\n",
       "      <td>0.014234170158084848</td>\n",
       "      <td>36</td>\n",
       "      <td>0.10724605343894682</td>\n",
       "      <td>27</td>\n",
       "      <td>43</td>\n",
       "    </tr>\n",
       "    <tr>\n",
       "      <th>21</th>\n",
       "      <td>features.lexical.average_tokens_per_line</td>\n",
       "      <td>0.02012516381640728</td>\n",
       "      <td>16</td>\n",
       "      <td>0.10336828991651328</td>\n",
       "      <td>28</td>\n",
       "      <td>4</td>\n",
       "    </tr>\n",
       "    <tr>\n",
       "      <th>8</th>\n",
       "      <td>features.readability.dale_chall_readability_score</td>\n",
       "      <td>0.017326662761613314</td>\n",
       "      <td>21</td>\n",
       "      <td>0.10038303490080139</td>\n",
       "      <td>29</td>\n",
       "      <td>7</td>\n",
       "    </tr>\n",
       "    <tr>\n",
       "      <th>7</th>\n",
       "      <td>features.readability.coleman_liau_index</td>\n",
       "      <td>0.02085927900608039</td>\n",
       "      <td>14</td>\n",
       "      <td>0.09867890147077964</td>\n",
       "      <td>30</td>\n",
       "      <td>18</td>\n",
       "    </tr>\n",
       "    <tr>\n",
       "      <th>0</th>\n",
       "      <td>features.compression_ratio</td>\n",
       "      <td>0.016928426621014743</td>\n",
       "      <td>24</td>\n",
       "      <td>0.09758371915732322</td>\n",
       "      <td>31</td>\n",
       "      <td>22</td>\n",
       "    </tr>\n",
       "    <tr>\n",
       "      <th>17</th>\n",
       "      <td>features.lexical.character_count</td>\n",
       "      <td>0.014834373654602448</td>\n",
       "      <td>31</td>\n",
       "      <td>0.091880961677916</td>\n",
       "      <td>32</td>\n",
       "      <td>20</td>\n",
       "    </tr>\n",
       "    <tr>\n",
       "      <th>64</th>\n",
       "      <td>features.structure.pattern_two_verses_at_least...</td>\n",
       "      <td>0.0015254140095033574</td>\n",
       "      <td>74</td>\n",
       "      <td>0.08415797400568972</td>\n",
       "      <td>33</td>\n",
       "      <td>74</td>\n",
       "    </tr>\n",
       "    <tr>\n",
       "      <th>60</th>\n",
       "      <td>features.structure.ratio_verses_sections</td>\n",
       "      <td>0.006840065736213065</td>\n",
       "      <td>62</td>\n",
       "      <td>0.08375076699949796</td>\n",
       "      <td>34</td>\n",
       "      <td>62</td>\n",
       "    </tr>\n",
       "    <tr>\n",
       "      <th>36</th>\n",
       "      <td>features.lexical.parens_count</td>\n",
       "      <td>0.0070244666835191155</td>\n",
       "      <td>60</td>\n",
       "      <td>0.08040664918837506</td>\n",
       "      <td>35</td>\n",
       "      <td>58</td>\n",
       "    </tr>\n",
       "    <tr>\n",
       "      <th>74</th>\n",
       "      <td>features.rhyme.unique_rhyme_words</td>\n",
       "      <td>0.015022158954338668</td>\n",
       "      <td>30</td>\n",
       "      <td>0.07933563898030903</td>\n",
       "      <td>36</td>\n",
       "      <td>42</td>\n",
       "    </tr>\n",
       "    <tr>\n",
       "      <th>79</th>\n",
       "      <td>affective.LIWC.sad</td>\n",
       "      <td>0.017506067058494515</td>\n",
       "      <td>20</td>\n",
       "      <td>0.07829902753760623</td>\n",
       "      <td>37</td>\n",
       "      <td>30</td>\n",
       "    </tr>\n",
       "    <tr>\n",
       "      <th>43</th>\n",
       "      <td>features.lexical.unique_bigram_ratio</td>\n",
       "      <td>0.014258941753823008</td>\n",
       "      <td>35</td>\n",
       "      <td>0.07511295810788197</td>\n",
       "      <td>38</td>\n",
       "      <td>33</td>\n",
       "    </tr>\n",
       "    <tr>\n",
       "      <th>23</th>\n",
       "      <td>features.lexical.unique_line_count</td>\n",
       "      <td>0.01512767728315303</td>\n",
       "      <td>29</td>\n",
       "      <td>0.07277942024134919</td>\n",
       "      <td>39</td>\n",
       "      <td>31</td>\n",
       "    </tr>\n",
       "    <tr>\n",
       "      <th>70</th>\n",
       "      <td>features.rhyme.alliterations_len_2</td>\n",
       "      <td>0.01726558694872198</td>\n",
       "      <td>23</td>\n",
       "      <td>0.0702218255517748</td>\n",
       "      <td>40</td>\n",
       "      <td>28</td>\n",
       "    </tr>\n",
       "    <tr>\n",
       "      <th>45</th>\n",
       "      <td>features.lexical.hapax_legomenon_ratio</td>\n",
       "      <td>0.014433655720718417</td>\n",
       "      <td>34</td>\n",
       "      <td>0.06711106152730519</td>\n",
       "      <td>41</td>\n",
       "      <td>40</td>\n",
       "    </tr>\n",
       "    <tr>\n",
       "      <th>33</th>\n",
       "      <td>features.lexical.comma_count</td>\n",
       "      <td>0.015734028575702573</td>\n",
       "      <td>27</td>\n",
       "      <td>0.06700042766032616</td>\n",
       "      <td>42</td>\n",
       "      <td>32</td>\n",
       "    </tr>\n",
       "    <tr>\n",
       "      <th>10</th>\n",
       "      <td>features.readability.linsear_write_formula</td>\n",
       "      <td>0.01778056208052616</td>\n",
       "      <td>19</td>\n",
       "      <td>0.06558171101318308</td>\n",
       "      <td>43</td>\n",
       "      <td>27</td>\n",
       "    </tr>\n",
       "    <tr>\n",
       "      <th>18</th>\n",
       "      <td>features.lexical.repeated_token_ratio</td>\n",
       "      <td>0.014217103047636029</td>\n",
       "      <td>37</td>\n",
       "      <td>0.06263178445919562</td>\n",
       "      <td>44</td>\n",
       "      <td>19</td>\n",
       "    </tr>\n",
       "    <tr>\n",
       "      <th>14</th>\n",
       "      <td>features.readability.gutierrez_polini</td>\n",
       "      <td>0.011698261202127897</td>\n",
       "      <td>42</td>\n",
       "      <td>0.059043156505085445</td>\n",
       "      <td>45</td>\n",
       "      <td>37</td>\n",
       "    </tr>\n",
       "    <tr>\n",
       "      <th>49</th>\n",
       "      <td>features.lexical.herdan</td>\n",
       "      <td>0.013546686636667249</td>\n",
       "      <td>40</td>\n",
       "      <td>0.05879306818393113</td>\n",
       "      <td>46</td>\n",
       "      <td>44</td>\n",
       "    </tr>\n",
       "    <tr>\n",
       "      <th>24</th>\n",
       "      <td>features.lexical.blank_line_count</td>\n",
       "      <td>0.010740567372824854</td>\n",
       "      <td>46</td>\n",
       "      <td>0.058433275692158934</td>\n",
       "      <td>47</td>\n",
       "      <td>51</td>\n",
       "    </tr>\n",
       "    <tr>\n",
       "      <th>22</th>\n",
       "      <td>features.lexical.line_count</td>\n",
       "      <td>0.014685742496106989</td>\n",
       "      <td>33</td>\n",
       "      <td>0.057358546698648226</td>\n",
       "      <td>48</td>\n",
       "      <td>39</td>\n",
       "    </tr>\n",
       "    <tr>\n",
       "      <th>76</th>\n",
       "      <td>affective.LIWC.anx</td>\n",
       "      <td>0.012402494037956232</td>\n",
       "      <td>41</td>\n",
       "      <td>0.05697086331604099</td>\n",
       "      <td>49</td>\n",
       "      <td>46</td>\n",
       "    </tr>\n",
       "    <tr>\n",
       "      <th>66</th>\n",
       "      <td>features.rhyme.num_couplets</td>\n",
       "      <td>0.014010918466460508</td>\n",
       "      <td>39</td>\n",
       "      <td>0.05646510849556535</td>\n",
       "      <td>50</td>\n",
       "      <td>38</td>\n",
       "    </tr>\n",
       "    <tr>\n",
       "      <th>50</th>\n",
       "      <td>features.lexical.summer</td>\n",
       "      <td>0.011276177993180413</td>\n",
       "      <td>44</td>\n",
       "      <td>0.05459920789870028</td>\n",
       "      <td>51</td>\n",
       "      <td>36</td>\n",
       "    </tr>\n",
       "    <tr>\n",
       "      <th>11</th>\n",
       "      <td>features.readability.gunning_fog</td>\n",
       "      <td>0.009969240624047599</td>\n",
       "      <td>48</td>\n",
       "      <td>0.052215466428664405</td>\n",
       "      <td>52</td>\n",
       "      <td>23</td>\n",
       "    </tr>\n",
       "    <tr>\n",
       "      <th>52</th>\n",
       "      <td>features.lexical.maas</td>\n",
       "      <td>0.010856492494402764</td>\n",
       "      <td>45</td>\n",
       "      <td>0.048953161897324335</td>\n",
       "      <td>53</td>\n",
       "      <td>49</td>\n",
       "    </tr>\n",
       "    <tr>\n",
       "      <th>57</th>\n",
       "      <td>features.structure.number_of_sections</td>\n",
       "      <td>0.008167598897235043</td>\n",
       "      <td>56</td>\n",
       "      <td>0.045229727970844714</td>\n",
       "      <td>54</td>\n",
       "      <td>47</td>\n",
       "    </tr>\n",
       "    <tr>\n",
       "      <th>15</th>\n",
       "      <td>features.readability.crawford</td>\n",
       "      <td>0.014735931879080283</td>\n",
       "      <td>32</td>\n",
       "      <td>0.04448039270374297</td>\n",
       "      <td>55</td>\n",
       "      <td>35</td>\n",
       "    </tr>\n",
       "    <tr>\n",
       "      <th>51</th>\n",
       "      <td>features.lexical.dugast</td>\n",
       "      <td>0.0113909226782443</td>\n",
       "      <td>43</td>\n",
       "      <td>0.03946282144251687</td>\n",
       "      <td>56</td>\n",
       "      <td>25</td>\n",
       "    </tr>\n",
       "    <tr>\n",
       "      <th>4</th>\n",
       "      <td>features.readability.flesch_reading_ease</td>\n",
       "      <td>0.010101851103355552</td>\n",
       "      <td>47</td>\n",
       "      <td>0.03484780870567673</td>\n",
       "      <td>57</td>\n",
       "      <td>45</td>\n",
       "    </tr>\n",
       "    <tr>\n",
       "      <th>13</th>\n",
       "      <td>features.readability.szigriszt_pazos</td>\n",
       "      <td>0.00934206376062719</td>\n",
       "      <td>53</td>\n",
       "      <td>0.0347250887860025</td>\n",
       "      <td>58</td>\n",
       "      <td>48</td>\n",
       "    </tr>\n",
       "    <tr>\n",
       "      <th>55</th>\n",
       "      <td>features.structure.chorus_repetitions</td>\n",
       "      <td>0.006745533823039077</td>\n",
       "      <td>63</td>\n",
       "      <td>0.03263699075881815</td>\n",
       "      <td>59</td>\n",
       "      <td>65</td>\n",
       "    </tr>\n",
       "    <tr>\n",
       "      <th>68</th>\n",
       "      <td>features.rhyme.num_alternating</td>\n",
       "      <td>0.00937559346425281</td>\n",
       "      <td>52</td>\n",
       "      <td>0.0323004406760752</td>\n",
       "      <td>60</td>\n",
       "      <td>53</td>\n",
       "    </tr>\n",
       "    <tr>\n",
       "      <th>6</th>\n",
       "      <td>features.readability.automated_readability_index</td>\n",
       "      <td>0.009671558898174152</td>\n",
       "      <td>51</td>\n",
       "      <td>0.031571558728919126</td>\n",
       "      <td>61</td>\n",
       "      <td>56</td>\n",
       "    </tr>\n",
       "    <tr>\n",
       "      <th>12</th>\n",
       "      <td>features.readability.fernandez_huerta</td>\n",
       "      <td>0.009158445220387466</td>\n",
       "      <td>54</td>\n",
       "      <td>0.029607110317770212</td>\n",
       "      <td>62</td>\n",
       "      <td>54</td>\n",
       "    </tr>\n",
       "    <tr>\n",
       "      <th>28</th>\n",
       "      <td>features.lexical.question_mark_count</td>\n",
       "      <td>0.006999787918840458</td>\n",
       "      <td>61</td>\n",
       "      <td>0.028332496606608294</td>\n",
       "      <td>63</td>\n",
       "      <td>59</td>\n",
       "    </tr>\n",
       "    <tr>\n",
       "      <th>3</th>\n",
       "      <td>features.readability.flesch_kincaid_grade</td>\n",
       "      <td>0.009937500025831223</td>\n",
       "      <td>49</td>\n",
       "      <td>0.027031851397333627</td>\n",
       "      <td>64</td>\n",
       "      <td>50</td>\n",
       "    </tr>\n",
       "    <tr>\n",
       "      <th>5</th>\n",
       "      <td>features.readability.smog</td>\n",
       "      <td>0.007142519869222271</td>\n",
       "      <td>59</td>\n",
       "      <td>0.02584648853684386</td>\n",
       "      <td>65</td>\n",
       "      <td>60</td>\n",
       "    </tr>\n",
       "    <tr>\n",
       "      <th>67</th>\n",
       "      <td>features.rhyme.num_clerihews</td>\n",
       "      <td>0.008335013049921573</td>\n",
       "      <td>55</td>\n",
       "      <td>0.023243338725572237</td>\n",
       "      <td>66</td>\n",
       "      <td>57</td>\n",
       "    </tr>\n",
       "    <tr>\n",
       "      <th>69</th>\n",
       "      <td>features.rhyme.num_nested</td>\n",
       "      <td>0.007226872193403096</td>\n",
       "      <td>58</td>\n",
       "      <td>0.0222662278499842</td>\n",
       "      <td>67</td>\n",
       "      <td>61</td>\n",
       "    </tr>\n",
       "    <tr>\n",
       "      <th>35</th>\n",
       "      <td>features.lexical.hyphen_count</td>\n",
       "      <td>0.0064397311100404565</td>\n",
       "      <td>64</td>\n",
       "      <td>0.021529908331938786</td>\n",
       "      <td>68</td>\n",
       "      <td>63</td>\n",
       "    </tr>\n",
       "    <tr>\n",
       "      <th>63</th>\n",
       "      <td>features.structure.pattern_verse_chorus_altern...</td>\n",
       "      <td>0.002210608666614225</td>\n",
       "      <td>71</td>\n",
       "      <td>0.02081590152656144</td>\n",
       "      <td>69</td>\n",
       "      <td>73</td>\n",
       "    </tr>\n",
       "    <tr>\n",
       "      <th>71</th>\n",
       "      <td>features.rhyme.alliterations_len_3</td>\n",
       "      <td>0.005595640154407062</td>\n",
       "      <td>65</td>\n",
       "      <td>0.012532306948550597</td>\n",
       "      <td>70</td>\n",
       "      <td>64</td>\n",
       "    </tr>\n",
       "    <tr>\n",
       "      <th>38</th>\n",
       "      <td>features.lexical.digit_ratio</td>\n",
       "      <td>0.00280881819149755</td>\n",
       "      <td>70</td>\n",
       "      <td>0.009309979360740784</td>\n",
       "      <td>71</td>\n",
       "      <td>68</td>\n",
       "    </tr>\n",
       "    <tr>\n",
       "      <th>32</th>\n",
       "      <td>features.lexical.quote_count</td>\n",
       "      <td>0.003532250003349796</td>\n",
       "      <td>67</td>\n",
       "      <td>0.008910209925438362</td>\n",
       "      <td>72</td>\n",
       "      <td>67</td>\n",
       "    </tr>\n",
       "    <tr>\n",
       "      <th>72</th>\n",
       "      <td>features.rhyme.alliterations_len_4_plus</td>\n",
       "      <td>0.0021875555485284842</td>\n",
       "      <td>72</td>\n",
       "      <td>0.004603856380506133</td>\n",
       "      <td>73</td>\n",
       "      <td>71</td>\n",
       "    </tr>\n",
       "    <tr>\n",
       "      <th>29</th>\n",
       "      <td>features.lexical.digit_count</td>\n",
       "      <td>0.002099975277487268</td>\n",
       "      <td>73</td>\n",
       "      <td>0.0035486510105799283</td>\n",
       "      <td>74</td>\n",
       "      <td>72</td>\n",
       "    </tr>\n",
       "    <tr>\n",
       "      <th>59</th>\n",
       "      <td>features.structure.starts_with_chorus</td>\n",
       "      <td>0.0013536140127459089</td>\n",
       "      <td>75</td>\n",
       "      <td>0.002960153213960326</td>\n",
       "      <td>75</td>\n",
       "      <td>75</td>\n",
       "    </tr>\n",
       "    <tr>\n",
       "      <th>30</th>\n",
       "      <td>features.lexical.colon_count</td>\n",
       "      <td>0.0010184800719674368</td>\n",
       "      <td>76</td>\n",
       "      <td>0.0018435878841970067</td>\n",
       "      <td>76</td>\n",
       "      <td>76</td>\n",
       "    </tr>\n",
       "    <tr>\n",
       "      <th>31</th>\n",
       "      <td>features.lexical.semicolon_count</td>\n",
       "      <td>0.0007100048278514681</td>\n",
       "      <td>77</td>\n",
       "      <td>0.001613952882988412</td>\n",
       "      <td>77</td>\n",
       "      <td>77</td>\n",
       "    </tr>\n",
       "    <tr>\n",
       "      <th>62</th>\n",
       "      <td>features.structure.ends_with_two_chorus_repeti...</td>\n",
       "      <td>0.0</td>\n",
       "      <td>78</td>\n",
       "      <td>0.0</td>\n",
       "      <td>78</td>\n",
       "      <td>80</td>\n",
       "    </tr>\n",
       "    <tr>\n",
       "      <th>2</th>\n",
       "      <td>features.uncommon_words_ratio</td>\n",
       "      <td>0.0</td>\n",
       "      <td>78</td>\n",
       "      <td>0.0</td>\n",
       "      <td>78</td>\n",
       "      <td>79</td>\n",
       "    </tr>\n",
       "    <tr>\n",
       "      <th>65</th>\n",
       "      <td>features.structure.pattern_two_choruses_at_lea...</td>\n",
       "      <td>0.0</td>\n",
       "      <td>78</td>\n",
       "      <td>0.0</td>\n",
       "      <td>78</td>\n",
       "      <td>78</td>\n",
       "    </tr>\n",
       "  </tbody>\n",
       "</table>\n",
       "</div>"
      ],
      "text/plain": [
       "                                              Feature               DT Score  \\\n",
       "56               features.structure.title_occurrences   0.009731052182656859   \n",
       "58                features.structure.number_of_verses   0.004181229340789595   \n",
       "41                   features.lexical.stop_word_ratio   0.024512021854229068   \n",
       "44              features.lexical.unique_trigram_ratio   0.016536362264864407   \n",
       "40                   features.lexical.stop_word_count   0.015288181074485874   \n",
       "9                features.readability.difficult_words    0.01687078277150665   \n",
       "26               features.lexical.repeated_line_ratio     0.0218459791066245   \n",
       "39                 features.lexical.punctuation_ratio    0.02160741993593886   \n",
       "61           features.structure.ratio_chorus_sections   0.007759153759973825   \n",
       "20              features.lexical.average_token_length   0.022279742150976226   \n",
       "73                       features.rhyme.rhyme_percent    0.02119368647596536   \n",
       "27            features.lexical.exclamation_mark_count  0.0030800497660072156   \n",
       "25                  features.lexical.blank_line_ratio   0.023334840478389653   \n",
       "77                              affective.LIWC.negemo   0.023480579837976856   \n",
       "34                         features.lexical.dot_count  0.0029438336686965056   \n",
       "42               features.lexical.stop_words_per_line    0.02038255551894291   \n",
       "47              features.lexical.tris_legomenon_ratio   0.025357464341318737   \n",
       "75                               affective.LIWC.anger   0.017317681722342677   \n",
       "46               features.lexical.dis_legomenon_ratio    0.02454954495098443   \n",
       "1                                    features.entropy    0.01887855333630319   \n",
       "54                  features.lexical.past_tense_ratio   0.026237317256763176   \n",
       "48                              features.lexical.mtld   0.022519975713352763   \n",
       "53                 features.lexical.pronoun_frequency   0.025458688947289754   \n",
       "16                       features.lexical.token_count   0.014096102255809862   \n",
       "19            features.lexical.unique_tokens_per_line   0.018786793501143408   \n",
       "78                              affective.LIWC.posemo   0.025252151946636093   \n",
       "37                 features.lexical.punctuation_count   0.014234170158084848   \n",
       "21           features.lexical.average_tokens_per_line    0.02012516381640728   \n",
       "8   features.readability.dale_chall_readability_score   0.017326662761613314   \n",
       "7             features.readability.coleman_liau_index    0.02085927900608039   \n",
       "0                          features.compression_ratio   0.016928426621014743   \n",
       "17                   features.lexical.character_count   0.014834373654602448   \n",
       "64  features.structure.pattern_two_verses_at_least...  0.0015254140095033574   \n",
       "60           features.structure.ratio_verses_sections   0.006840065736213065   \n",
       "36                      features.lexical.parens_count  0.0070244666835191155   \n",
       "74                  features.rhyme.unique_rhyme_words   0.015022158954338668   \n",
       "79                                 affective.LIWC.sad   0.017506067058494515   \n",
       "43               features.lexical.unique_bigram_ratio   0.014258941753823008   \n",
       "23                 features.lexical.unique_line_count    0.01512767728315303   \n",
       "70                 features.rhyme.alliterations_len_2    0.01726558694872198   \n",
       "45             features.lexical.hapax_legomenon_ratio   0.014433655720718417   \n",
       "33                       features.lexical.comma_count   0.015734028575702573   \n",
       "10         features.readability.linsear_write_formula    0.01778056208052616   \n",
       "18              features.lexical.repeated_token_ratio   0.014217103047636029   \n",
       "14              features.readability.gutierrez_polini   0.011698261202127897   \n",
       "49                            features.lexical.herdan   0.013546686636667249   \n",
       "24                  features.lexical.blank_line_count   0.010740567372824854   \n",
       "22                        features.lexical.line_count   0.014685742496106989   \n",
       "76                                 affective.LIWC.anx   0.012402494037956232   \n",
       "66                        features.rhyme.num_couplets   0.014010918466460508   \n",
       "50                            features.lexical.summer   0.011276177993180413   \n",
       "11                   features.readability.gunning_fog   0.009969240624047599   \n",
       "52                              features.lexical.maas   0.010856492494402764   \n",
       "57              features.structure.number_of_sections   0.008167598897235043   \n",
       "15                      features.readability.crawford   0.014735931879080283   \n",
       "51                            features.lexical.dugast     0.0113909226782443   \n",
       "4            features.readability.flesch_reading_ease   0.010101851103355552   \n",
       "13               features.readability.szigriszt_pazos    0.00934206376062719   \n",
       "55              features.structure.chorus_repetitions   0.006745533823039077   \n",
       "68                     features.rhyme.num_alternating    0.00937559346425281   \n",
       "6    features.readability.automated_readability_index   0.009671558898174152   \n",
       "12              features.readability.fernandez_huerta   0.009158445220387466   \n",
       "28               features.lexical.question_mark_count   0.006999787918840458   \n",
       "3           features.readability.flesch_kincaid_grade   0.009937500025831223   \n",
       "5                           features.readability.smog   0.007142519869222271   \n",
       "67                       features.rhyme.num_clerihews   0.008335013049921573   \n",
       "69                          features.rhyme.num_nested   0.007226872193403096   \n",
       "35                      features.lexical.hyphen_count  0.0064397311100404565   \n",
       "63  features.structure.pattern_verse_chorus_altern...   0.002210608666614225   \n",
       "71                 features.rhyme.alliterations_len_3   0.005595640154407062   \n",
       "38                       features.lexical.digit_ratio    0.00280881819149755   \n",
       "32                       features.lexical.quote_count   0.003532250003349796   \n",
       "72            features.rhyme.alliterations_len_4_plus  0.0021875555485284842   \n",
       "29                       features.lexical.digit_count   0.002099975277487268   \n",
       "59              features.structure.starts_with_chorus  0.0013536140127459089   \n",
       "30                       features.lexical.colon_count  0.0010184800719674368   \n",
       "31                   features.lexical.semicolon_count  0.0007100048278514681   \n",
       "62  features.structure.ends_with_two_chorus_repeti...                    0.0   \n",
       "2                       features.uncommon_words_ratio                    0.0   \n",
       "65  features.structure.pattern_two_choruses_at_lea...                    0.0   \n",
       "\n",
       "   DT Rank      Permutation Score Permutation Rank RFE Rank  \n",
       "56      50     0.4978291589966717                1       52  \n",
       "58      66     0.3129181309384355                2       66  \n",
       "41       6     0.2645023335378665                3        3  \n",
       "44      26    0.24568249009873372                4        9  \n",
       "40      28    0.23750766999497958                5       26  \n",
       "9       25    0.23060746360238746                6       29  \n",
       "26      11    0.21598241014484665                7       17  \n",
       "39      12    0.18099235789591123                8       13  \n",
       "61      57    0.17068388464327552                9       55  \n",
       "20      10    0.16951897510273145               10        2  \n",
       "73      13     0.1448178724828471               11       16  \n",
       "27      68    0.14179635930904966               12       69  \n",
       "25       8    0.13996950595935367               13       14  \n",
       "77       7     0.1397333630836169               14       15  \n",
       "34      69    0.13754671724214873               15       70  \n",
       "42      15    0.13433275692158939               16       21  \n",
       "47       3    0.13231066733604804               17       11  \n",
       "75      22    0.12921384875699596               18       34  \n",
       "46       5     0.1289265725813949               19        6  \n",
       "1       17     0.1270764768226697               20        8  \n",
       "54       1    0.12443335006786782               21       12  \n",
       "48       9    0.12175768394042503               22        1  \n",
       "53       2    0.12012048864840741               23        5  \n",
       "16      38     0.1125118536286049               24       41  \n",
       "19      18    0.11092486194009037               25       24  \n",
       "78       4    0.10778527732842454               26       10  \n",
       "37      36    0.10724605343894682               27       43  \n",
       "21      16    0.10336828991651328               28        4  \n",
       "8       21    0.10038303490080139               29        7  \n",
       "7       14    0.09867890147077964               30       18  \n",
       "0       24    0.09758371915732322               31       22  \n",
       "17      31      0.091880961677916               32       20  \n",
       "64      74    0.08415797400568972               33       74  \n",
       "60      62    0.08375076699949796               34       62  \n",
       "36      60    0.08040664918837506               35       58  \n",
       "74      30    0.07933563898030903               36       42  \n",
       "79      20    0.07829902753760623               37       30  \n",
       "43      35    0.07511295810788197               38       33  \n",
       "23      29    0.07277942024134919               39       31  \n",
       "70      23     0.0702218255517748               40       28  \n",
       "45      34    0.06711106152730519               41       40  \n",
       "33      27    0.06700042766032616               42       32  \n",
       "10      19    0.06558171101318308               43       27  \n",
       "18      37    0.06263178445919562               44       19  \n",
       "14      42   0.059043156505085445               45       37  \n",
       "49      40    0.05879306818393113               46       44  \n",
       "24      46   0.058433275692158934               47       51  \n",
       "22      33   0.057358546698648226               48       39  \n",
       "76      41    0.05697086331604099               49       46  \n",
       "66      39    0.05646510849556535               50       38  \n",
       "50      44    0.05459920789870028               51       36  \n",
       "11      48   0.052215466428664405               52       23  \n",
       "52      45   0.048953161897324335               53       49  \n",
       "57      56   0.045229727970844714               54       47  \n",
       "15      32    0.04448039270374297               55       35  \n",
       "51      43    0.03946282144251687               56       25  \n",
       "4       47    0.03484780870567673               57       45  \n",
       "13      53     0.0347250887860025               58       48  \n",
       "55      63    0.03263699075881815               59       65  \n",
       "68      52     0.0323004406760752               60       53  \n",
       "6       51   0.031571558728919126               61       56  \n",
       "12      54   0.029607110317770212               62       54  \n",
       "28      61   0.028332496606608294               63       59  \n",
       "3       49   0.027031851397333627               64       50  \n",
       "5       59    0.02584648853684386               65       60  \n",
       "67      55   0.023243338725572237               66       57  \n",
       "69      58     0.0222662278499842               67       61  \n",
       "35      64   0.021529908331938786               68       63  \n",
       "63      71    0.02081590152656144               69       73  \n",
       "71      65   0.012532306948550597               70       64  \n",
       "38      70   0.009309979360740784               71       68  \n",
       "32      67   0.008910209925438362               72       67  \n",
       "72      72   0.004603856380506133               73       71  \n",
       "29      73  0.0035486510105799283               74       72  \n",
       "59      75   0.002960153213960326               75       75  \n",
       "30      76  0.0018435878841970067               76       76  \n",
       "31      77   0.001613952882988412               77       77  \n",
       "62      78                    0.0               78       80  \n",
       "2       78                    0.0               78       79  \n",
       "65      78                    0.0               78       78  "
      ]
     },
     "metadata": {},
     "output_type": "display_data"
    },
    {
     "data": {
      "text/plain": [
       "'rap'"
      ]
     },
     "metadata": {},
     "output_type": "display_data"
    },
    {
     "data": {
      "text/html": [
       "<div>\n",
       "<style scoped>\n",
       "    .dataframe tbody tr th:only-of-type {\n",
       "        vertical-align: middle;\n",
       "    }\n",
       "\n",
       "    .dataframe tbody tr th {\n",
       "        vertical-align: top;\n",
       "    }\n",
       "\n",
       "    .dataframe thead th {\n",
       "        text-align: right;\n",
       "    }\n",
       "</style>\n",
       "<table border=\"1\" class=\"dataframe\">\n",
       "  <thead>\n",
       "    <tr style=\"text-align: right;\">\n",
       "      <th></th>\n",
       "      <th>Feature</th>\n",
       "      <th>DT Score</th>\n",
       "      <th>DT Rank</th>\n",
       "      <th>Permutation Score</th>\n",
       "      <th>Permutation Rank</th>\n",
       "      <th>RFE Rank</th>\n",
       "    </tr>\n",
       "  </thead>\n",
       "  <tbody>\n",
       "    <tr>\n",
       "      <th>61</th>\n",
       "      <td>features.structure.ratio_chorus_sections</td>\n",
       "      <td>0.010871747783384325</td>\n",
       "      <td>46</td>\n",
       "      <td>0.45727291788516505</td>\n",
       "      <td>1</td>\n",
       "      <td>49</td>\n",
       "    </tr>\n",
       "    <tr>\n",
       "      <th>58</th>\n",
       "      <td>features.structure.number_of_verses</td>\n",
       "      <td>0.006268554451123262</td>\n",
       "      <td>68</td>\n",
       "      <td>0.4069037818510875</td>\n",
       "      <td>2</td>\n",
       "      <td>62</td>\n",
       "    </tr>\n",
       "    <tr>\n",
       "      <th>60</th>\n",
       "      <td>features.structure.ratio_verses_sections</td>\n",
       "      <td>0.004606288518865299</td>\n",
       "      <td>69</td>\n",
       "      <td>0.3120485118686339</td>\n",
       "      <td>3</td>\n",
       "      <td>69</td>\n",
       "    </tr>\n",
       "    <tr>\n",
       "      <th>39</th>\n",
       "      <td>features.lexical.punctuation_ratio</td>\n",
       "      <td>0.020853252930183294</td>\n",
       "      <td>12</td>\n",
       "      <td>0.3101669664632464</td>\n",
       "      <td>4</td>\n",
       "      <td>4</td>\n",
       "    </tr>\n",
       "    <tr>\n",
       "      <th>26</th>\n",
       "      <td>features.lexical.repeated_line_ratio</td>\n",
       "      <td>0.021220616054045505</td>\n",
       "      <td>9</td>\n",
       "      <td>0.2283798845691206</td>\n",
       "      <td>5</td>\n",
       "      <td>10</td>\n",
       "    </tr>\n",
       "    <tr>\n",
       "      <th>43</th>\n",
       "      <td>features.lexical.unique_bigram_ratio</td>\n",
       "      <td>0.015617617614367538</td>\n",
       "      <td>25</td>\n",
       "      <td>0.21393778209386757</td>\n",
       "      <td>6</td>\n",
       "      <td>35</td>\n",
       "    </tr>\n",
       "    <tr>\n",
       "      <th>19</th>\n",
       "      <td>features.lexical.unique_tokens_per_line</td>\n",
       "      <td>0.0186633879019206</td>\n",
       "      <td>18</td>\n",
       "      <td>0.19779070152399664</td>\n",
       "      <td>7</td>\n",
       "      <td>18</td>\n",
       "    </tr>\n",
       "    <tr>\n",
       "      <th>35</th>\n",
       "      <td>features.lexical.hyphen_count</td>\n",
       "      <td>0.013296973128867068</td>\n",
       "      <td>37</td>\n",
       "      <td>0.17834953706258208</td>\n",
       "      <td>8</td>\n",
       "      <td>47</td>\n",
       "    </tr>\n",
       "    <tr>\n",
       "      <th>1</th>\n",
       "      <td>features.entropy</td>\n",
       "      <td>0.017987280985396693</td>\n",
       "      <td>21</td>\n",
       "      <td>0.16243420108809606</td>\n",
       "      <td>9</td>\n",
       "      <td>17</td>\n",
       "    </tr>\n",
       "    <tr>\n",
       "      <th>18</th>\n",
       "      <td>features.lexical.repeated_token_ratio</td>\n",
       "      <td>0.014006581787805557</td>\n",
       "      <td>32</td>\n",
       "      <td>0.15954622201132235</td>\n",
       "      <td>10</td>\n",
       "      <td>42</td>\n",
       "    </tr>\n",
       "    <tr>\n",
       "      <th>27</th>\n",
       "      <td>features.lexical.exclamation_mark_count</td>\n",
       "      <td>0.008096676650364693</td>\n",
       "      <td>63</td>\n",
       "      <td>0.15494112583731529</td>\n",
       "      <td>11</td>\n",
       "      <td>67</td>\n",
       "    </tr>\n",
       "    <tr>\n",
       "      <th>34</th>\n",
       "      <td>features.lexical.dot_count</td>\n",
       "      <td>0.010590739308705258</td>\n",
       "      <td>48</td>\n",
       "      <td>0.15489477691823833</td>\n",
       "      <td>12</td>\n",
       "      <td>58</td>\n",
       "    </tr>\n",
       "    <tr>\n",
       "      <th>54</th>\n",
       "      <td>features.lexical.past_tense_ratio</td>\n",
       "      <td>0.024911727890863503</td>\n",
       "      <td>1</td>\n",
       "      <td>0.15164814549146405</td>\n",
       "      <td>13</td>\n",
       "      <td>9</td>\n",
       "    </tr>\n",
       "    <tr>\n",
       "      <th>56</th>\n",
       "      <td>features.structure.title_occurrences</td>\n",
       "      <td>0.009271486060894495</td>\n",
       "      <td>54</td>\n",
       "      <td>0.1477239370096119</td>\n",
       "      <td>14</td>\n",
       "      <td>55</td>\n",
       "    </tr>\n",
       "    <tr>\n",
       "      <th>74</th>\n",
       "      <td>features.rhyme.unique_rhyme_words</td>\n",
       "      <td>0.015520858320618704</td>\n",
       "      <td>27</td>\n",
       "      <td>0.14506328834545396</td>\n",
       "      <td>15</td>\n",
       "      <td>36</td>\n",
       "    </tr>\n",
       "    <tr>\n",
       "      <th>75</th>\n",
       "      <td>affective.LIWC.anger</td>\n",
       "      <td>0.02107623102540227</td>\n",
       "      <td>10</td>\n",
       "      <td>0.13580122934990124</td>\n",
       "      <td>16</td>\n",
       "      <td>11</td>\n",
       "    </tr>\n",
       "    <tr>\n",
       "      <th>25</th>\n",
       "      <td>features.lexical.blank_line_ratio</td>\n",
       "      <td>0.020918608381156164</td>\n",
       "      <td>11</td>\n",
       "      <td>0.13569528896343952</td>\n",
       "      <td>17</td>\n",
       "      <td>16</td>\n",
       "    </tr>\n",
       "    <tr>\n",
       "      <th>37</th>\n",
       "      <td>features.lexical.punctuation_count</td>\n",
       "      <td>0.014461592835609738</td>\n",
       "      <td>30</td>\n",
       "      <td>0.13105929351004778</td>\n",
       "      <td>18</td>\n",
       "      <td>33</td>\n",
       "    </tr>\n",
       "    <tr>\n",
       "      <th>48</th>\n",
       "      <td>features.lexical.mtld</td>\n",
       "      <td>0.021525821327951798</td>\n",
       "      <td>8</td>\n",
       "      <td>0.12723330059481114</td>\n",
       "      <td>19</td>\n",
       "      <td>1</td>\n",
       "    </tr>\n",
       "    <tr>\n",
       "      <th>21</th>\n",
       "      <td>features.lexical.average_tokens_per_line</td>\n",
       "      <td>0.019073606014541878</td>\n",
       "      <td>15</td>\n",
       "      <td>0.11854949954202856</td>\n",
       "      <td>20</td>\n",
       "      <td>3</td>\n",
       "    </tr>\n",
       "    <tr>\n",
       "      <th>41</th>\n",
       "      <td>features.lexical.stop_word_ratio</td>\n",
       "      <td>0.022459389090600336</td>\n",
       "      <td>5</td>\n",
       "      <td>0.11675844488341039</td>\n",
       "      <td>21</td>\n",
       "      <td>12</td>\n",
       "    </tr>\n",
       "    <tr>\n",
       "      <th>17</th>\n",
       "      <td>features.lexical.character_count</td>\n",
       "      <td>0.012904011791169349</td>\n",
       "      <td>38</td>\n",
       "      <td>0.11021883311078495</td>\n",
       "      <td>22</td>\n",
       "      <td>5</td>\n",
       "    </tr>\n",
       "    <tr>\n",
       "      <th>77</th>\n",
       "      <td>affective.LIWC.negemo</td>\n",
       "      <td>0.02181535201502118</td>\n",
       "      <td>7</td>\n",
       "      <td>0.10771047375216572</td>\n",
       "      <td>23</td>\n",
       "      <td>21</td>\n",
       "    </tr>\n",
       "    <tr>\n",
       "      <th>53</th>\n",
       "      <td>features.lexical.pronoun_frequency</td>\n",
       "      <td>0.023266556581599398</td>\n",
       "      <td>3</td>\n",
       "      <td>0.10736396040478055</td>\n",
       "      <td>24</td>\n",
       "      <td>6</td>\n",
       "    </tr>\n",
       "    <tr>\n",
       "      <th>9</th>\n",
       "      <td>features.readability.difficult_words</td>\n",
       "      <td>0.016167981424199923</td>\n",
       "      <td>24</td>\n",
       "      <td>0.09981019014092278</td>\n",
       "      <td>25</td>\n",
       "      <td>27</td>\n",
       "    </tr>\n",
       "    <tr>\n",
       "      <th>44</th>\n",
       "      <td>features.lexical.unique_trigram_ratio</td>\n",
       "      <td>0.014735121867839852</td>\n",
       "      <td>29</td>\n",
       "      <td>0.09907191807276779</td>\n",
       "      <td>26</td>\n",
       "      <td>20</td>\n",
       "    </tr>\n",
       "    <tr>\n",
       "      <th>47</th>\n",
       "      <td>features.lexical.tris_legomenon_ratio</td>\n",
       "      <td>0.02300080474008935</td>\n",
       "      <td>4</td>\n",
       "      <td>0.09695421388922609</td>\n",
       "      <td>27</td>\n",
       "      <td>13</td>\n",
       "    </tr>\n",
       "    <tr>\n",
       "      <th>78</th>\n",
       "      <td>affective.LIWC.posemo</td>\n",
       "      <td>0.02419471564302171</td>\n",
       "      <td>2</td>\n",
       "      <td>0.09677323239568734</td>\n",
       "      <td>28</td>\n",
       "      <td>8</td>\n",
       "    </tr>\n",
       "    <tr>\n",
       "      <th>42</th>\n",
       "      <td>features.lexical.stop_words_per_line</td>\n",
       "      <td>0.018692588266789305</td>\n",
       "      <td>17</td>\n",
       "      <td>0.09285564518798903</td>\n",
       "      <td>29</td>\n",
       "      <td>25</td>\n",
       "    </tr>\n",
       "    <tr>\n",
       "      <th>20</th>\n",
       "      <td>features.lexical.average_token_length</td>\n",
       "      <td>0.020334607346657846</td>\n",
       "      <td>13</td>\n",
       "      <td>0.0919121136210645</td>\n",
       "      <td>30</td>\n",
       "      <td>2</td>\n",
       "    </tr>\n",
       "    <tr>\n",
       "      <th>46</th>\n",
       "      <td>features.lexical.dis_legomenon_ratio</td>\n",
       "      <td>0.02208931864755121</td>\n",
       "      <td>6</td>\n",
       "      <td>0.08807839588598167</td>\n",
       "      <td>31</td>\n",
       "      <td>19</td>\n",
       "    </tr>\n",
       "    <tr>\n",
       "      <th>0</th>\n",
       "      <td>features.compression_ratio</td>\n",
       "      <td>0.01488407745305465</td>\n",
       "      <td>28</td>\n",
       "      <td>0.08658529856428704</td>\n",
       "      <td>32</td>\n",
       "      <td>32</td>\n",
       "    </tr>\n",
       "    <tr>\n",
       "      <th>79</th>\n",
       "      <td>affective.LIWC.sad</td>\n",
       "      <td>0.018640989293682225</td>\n",
       "      <td>19</td>\n",
       "      <td>0.0838187095136674</td>\n",
       "      <td>33</td>\n",
       "      <td>28</td>\n",
       "    </tr>\n",
       "    <tr>\n",
       "      <th>73</th>\n",
       "      <td>features.rhyme.rhyme_percent</td>\n",
       "      <td>0.019866796996049593</td>\n",
       "      <td>14</td>\n",
       "      <td>0.0807596808545858</td>\n",
       "      <td>34</td>\n",
       "      <td>14</td>\n",
       "    </tr>\n",
       "    <tr>\n",
       "      <th>33</th>\n",
       "      <td>features.lexical.comma_count</td>\n",
       "      <td>0.018011949332210436</td>\n",
       "      <td>20</td>\n",
       "      <td>0.08064711919397023</td>\n",
       "      <td>35</td>\n",
       "      <td>22</td>\n",
       "    </tr>\n",
       "    <tr>\n",
       "      <th>23</th>\n",
       "      <td>features.lexical.unique_line_count</td>\n",
       "      <td>0.014248958563287731</td>\n",
       "      <td>31</td>\n",
       "      <td>0.07878323051965966</td>\n",
       "      <td>36</td>\n",
       "      <td>38</td>\n",
       "    </tr>\n",
       "    <tr>\n",
       "      <th>7</th>\n",
       "      <td>features.readability.coleman_liau_index</td>\n",
       "      <td>0.018797893722576838</td>\n",
       "      <td>16</td>\n",
       "      <td>0.07809020382488938</td>\n",
       "      <td>37</td>\n",
       "      <td>23</td>\n",
       "    </tr>\n",
       "    <tr>\n",
       "      <th>36</th>\n",
       "      <td>features.lexical.parens_count</td>\n",
       "      <td>0.012893498177729138</td>\n",
       "      <td>39</td>\n",
       "      <td>0.07722612754781114</td>\n",
       "      <td>38</td>\n",
       "      <td>46</td>\n",
       "    </tr>\n",
       "    <tr>\n",
       "      <th>40</th>\n",
       "      <td>features.lexical.stop_word_count</td>\n",
       "      <td>0.01384387485468614</td>\n",
       "      <td>34</td>\n",
       "      <td>0.06588829910502446</td>\n",
       "      <td>39</td>\n",
       "      <td>31</td>\n",
       "    </tr>\n",
       "    <tr>\n",
       "      <th>76</th>\n",
       "      <td>affective.LIWC.anx</td>\n",
       "      <td>0.015571913852762598</td>\n",
       "      <td>26</td>\n",
       "      <td>0.06147853051855612</td>\n",
       "      <td>40</td>\n",
       "      <td>37</td>\n",
       "    </tr>\n",
       "    <tr>\n",
       "      <th>16</th>\n",
       "      <td>features.lexical.token_count</td>\n",
       "      <td>0.012290388540952078</td>\n",
       "      <td>42</td>\n",
       "      <td>0.06031097917609281</td>\n",
       "      <td>41</td>\n",
       "      <td>40</td>\n",
       "    </tr>\n",
       "    <tr>\n",
       "      <th>22</th>\n",
       "      <td>features.lexical.line_count</td>\n",
       "      <td>0.013923565586052046</td>\n",
       "      <td>33</td>\n",
       "      <td>0.058074092057781655</td>\n",
       "      <td>42</td>\n",
       "      <td>44</td>\n",
       "    </tr>\n",
       "    <tr>\n",
       "      <th>51</th>\n",
       "      <td>features.lexical.dugast</td>\n",
       "      <td>0.010388773456281638</td>\n",
       "      <td>50</td>\n",
       "      <td>0.05691095489808756</td>\n",
       "      <td>43</td>\n",
       "      <td>53</td>\n",
       "    </tr>\n",
       "    <tr>\n",
       "      <th>70</th>\n",
       "      <td>features.rhyme.alliterations_len_2</td>\n",
       "      <td>0.016722338413137458</td>\n",
       "      <td>23</td>\n",
       "      <td>0.05547413840670072</td>\n",
       "      <td>44</td>\n",
       "      <td>30</td>\n",
       "    </tr>\n",
       "    <tr>\n",
       "      <th>15</th>\n",
       "      <td>features.readability.crawford</td>\n",
       "      <td>0.012590988181418713</td>\n",
       "      <td>41</td>\n",
       "      <td>0.05321849101162035</td>\n",
       "      <td>45</td>\n",
       "      <td>48</td>\n",
       "    </tr>\n",
       "    <tr>\n",
       "      <th>38</th>\n",
       "      <td>features.lexical.digit_ratio</td>\n",
       "      <td>0.0133735302906648</td>\n",
       "      <td>36</td>\n",
       "      <td>0.052747277001004234</td>\n",
       "      <td>46</td>\n",
       "      <td>34</td>\n",
       "    </tr>\n",
       "    <tr>\n",
       "      <th>8</th>\n",
       "      <td>features.readability.dale_chall_readability_score</td>\n",
       "      <td>0.011818316224789396</td>\n",
       "      <td>44</td>\n",
       "      <td>0.052590573512696304</td>\n",
       "      <td>47</td>\n",
       "      <td>26</td>\n",
       "    </tr>\n",
       "    <tr>\n",
       "      <th>45</th>\n",
       "      <td>features.lexical.hapax_legomenon_ratio</td>\n",
       "      <td>0.013692383549364594</td>\n",
       "      <td>35</td>\n",
       "      <td>0.051626074577617885</td>\n",
       "      <td>48</td>\n",
       "      <td>15</td>\n",
       "    </tr>\n",
       "    <tr>\n",
       "      <th>10</th>\n",
       "      <td>features.readability.linsear_write_formula</td>\n",
       "      <td>0.016910827108620873</td>\n",
       "      <td>22</td>\n",
       "      <td>0.05073772029530883</td>\n",
       "      <td>49</td>\n",
       "      <td>29</td>\n",
       "    </tr>\n",
       "    <tr>\n",
       "      <th>66</th>\n",
       "      <td>features.rhyme.num_couplets</td>\n",
       "      <td>0.012663788971070228</td>\n",
       "      <td>40</td>\n",
       "      <td>0.04933069953761436</td>\n",
       "      <td>50</td>\n",
       "      <td>39</td>\n",
       "    </tr>\n",
       "    <tr>\n",
       "      <th>49</th>\n",
       "      <td>features.lexical.herdan</td>\n",
       "      <td>0.01161549892734885</td>\n",
       "      <td>45</td>\n",
       "      <td>0.046779301896995064</td>\n",
       "      <td>51</td>\n",
       "      <td>41</td>\n",
       "    </tr>\n",
       "    <tr>\n",
       "      <th>50</th>\n",
       "      <td>features.lexical.summer</td>\n",
       "      <td>0.010572654624928025</td>\n",
       "      <td>49</td>\n",
       "      <td>0.04662480550007173</td>\n",
       "      <td>52</td>\n",
       "      <td>50</td>\n",
       "    </tr>\n",
       "    <tr>\n",
       "      <th>52</th>\n",
       "      <td>features.lexical.maas</td>\n",
       "      <td>0.010149737307500423</td>\n",
       "      <td>51</td>\n",
       "      <td>0.04160036196298709</td>\n",
       "      <td>53</td>\n",
       "      <td>24</td>\n",
       "    </tr>\n",
       "    <tr>\n",
       "      <th>24</th>\n",
       "      <td>features.lexical.blank_line_count</td>\n",
       "      <td>0.009437726270846417</td>\n",
       "      <td>52</td>\n",
       "      <td>0.04080029133606276</td>\n",
       "      <td>54</td>\n",
       "      <td>57</td>\n",
       "    </tr>\n",
       "    <tr>\n",
       "      <th>5</th>\n",
       "      <td>features.readability.smog</td>\n",
       "      <td>0.011926207755789595</td>\n",
       "      <td>43</td>\n",
       "      <td>0.03702616506836466</td>\n",
       "      <td>55</td>\n",
       "      <td>45</td>\n",
       "    </tr>\n",
       "    <tr>\n",
       "      <th>68</th>\n",
       "      <td>features.rhyme.num_alternating</td>\n",
       "      <td>0.009090103322487407</td>\n",
       "      <td>56</td>\n",
       "      <td>0.03357096350574394</td>\n",
       "      <td>56</td>\n",
       "      <td>56</td>\n",
       "    </tr>\n",
       "    <tr>\n",
       "      <th>28</th>\n",
       "      <td>features.lexical.question_mark_count</td>\n",
       "      <td>0.010607614344679389</td>\n",
       "      <td>47</td>\n",
       "      <td>0.0323195426906651</td>\n",
       "      <td>57</td>\n",
       "      <td>52</td>\n",
       "    </tr>\n",
       "    <tr>\n",
       "      <th>69</th>\n",
       "      <td>features.rhyme.num_nested</td>\n",
       "      <td>0.007658604130867126</td>\n",
       "      <td>65</td>\n",
       "      <td>0.02931679486189125</td>\n",
       "      <td>58</td>\n",
       "      <td>65</td>\n",
       "    </tr>\n",
       "    <tr>\n",
       "      <th>67</th>\n",
       "      <td>features.rhyme.num_clerihews</td>\n",
       "      <td>0.009162023060702167</td>\n",
       "      <td>55</td>\n",
       "      <td>0.028663495812044092</td>\n",
       "      <td>59</td>\n",
       "      <td>54</td>\n",
       "    </tr>\n",
       "    <tr>\n",
       "      <th>6</th>\n",
       "      <td>features.readability.automated_readability_index</td>\n",
       "      <td>0.008321961407088522</td>\n",
       "      <td>61</td>\n",
       "      <td>0.02813379387973558</td>\n",
       "      <td>60</td>\n",
       "      <td>51</td>\n",
       "    </tr>\n",
       "    <tr>\n",
       "      <th>57</th>\n",
       "      <td>features.structure.number_of_sections</td>\n",
       "      <td>0.003764839167493586</td>\n",
       "      <td>70</td>\n",
       "      <td>0.028105101691735558</td>\n",
       "      <td>61</td>\n",
       "      <td>71</td>\n",
       "    </tr>\n",
       "    <tr>\n",
       "      <th>14</th>\n",
       "      <td>features.readability.gutierrez_polini</td>\n",
       "      <td>0.009312993745589745</td>\n",
       "      <td>53</td>\n",
       "      <td>0.027394418265888308</td>\n",
       "      <td>62</td>\n",
       "      <td>59</td>\n",
       "    </tr>\n",
       "    <tr>\n",
       "      <th>29</th>\n",
       "      <td>features.lexical.digit_count</td>\n",
       "      <td>0.008634827447898933</td>\n",
       "      <td>59</td>\n",
       "      <td>0.025089111314653977</td>\n",
       "      <td>63</td>\n",
       "      <td>60</td>\n",
       "    </tr>\n",
       "    <tr>\n",
       "      <th>32</th>\n",
       "      <td>features.lexical.quote_count</td>\n",
       "      <td>0.00712500090312294</td>\n",
       "      <td>67</td>\n",
       "      <td>0.024975446108346122</td>\n",
       "      <td>64</td>\n",
       "      <td>68</td>\n",
       "    </tr>\n",
       "    <tr>\n",
       "      <th>12</th>\n",
       "      <td>features.readability.fernandez_huerta</td>\n",
       "      <td>0.008810007203962342</td>\n",
       "      <td>57</td>\n",
       "      <td>0.02428241941357583</td>\n",
       "      <td>65</td>\n",
       "      <td>61</td>\n",
       "    </tr>\n",
       "    <tr>\n",
       "      <th>4</th>\n",
       "      <td>features.readability.flesch_reading_ease</td>\n",
       "      <td>0.008243571672274063</td>\n",
       "      <td>62</td>\n",
       "      <td>0.024247105951421943</td>\n",
       "      <td>66</td>\n",
       "      <td>43</td>\n",
       "    </tr>\n",
       "    <tr>\n",
       "      <th>11</th>\n",
       "      <td>features.readability.gunning_fog</td>\n",
       "      <td>0.008433422242505201</td>\n",
       "      <td>60</td>\n",
       "      <td>0.023981151439575365</td>\n",
       "      <td>67</td>\n",
       "      <td>7</td>\n",
       "    </tr>\n",
       "    <tr>\n",
       "      <th>71</th>\n",
       "      <td>features.rhyme.alliterations_len_3</td>\n",
       "      <td>0.00874071713407007</td>\n",
       "      <td>58</td>\n",
       "      <td>0.022005804650341555</td>\n",
       "      <td>68</td>\n",
       "      <td>64</td>\n",
       "    </tr>\n",
       "    <tr>\n",
       "      <th>13</th>\n",
       "      <td>features.readability.szigriszt_pazos</td>\n",
       "      <td>0.008085423771755251</td>\n",
       "      <td>64</td>\n",
       "      <td>0.017675491353719486</td>\n",
       "      <td>69</td>\n",
       "      <td>63</td>\n",
       "    </tr>\n",
       "    <tr>\n",
       "      <th>64</th>\n",
       "      <td>features.structure.pattern_two_verses_at_least...</td>\n",
       "      <td>0.0011301009078985287</td>\n",
       "      <td>76</td>\n",
       "      <td>0.017436021938488366</td>\n",
       "      <td>70</td>\n",
       "      <td>76</td>\n",
       "    </tr>\n",
       "    <tr>\n",
       "      <th>3</th>\n",
       "      <td>features.readability.flesch_kincaid_grade</td>\n",
       "      <td>0.007592709925183151</td>\n",
       "      <td>66</td>\n",
       "      <td>0.017374223379719046</td>\n",
       "      <td>71</td>\n",
       "      <td>66</td>\n",
       "    </tr>\n",
       "    <tr>\n",
       "      <th>30</th>\n",
       "      <td>features.lexical.colon_count</td>\n",
       "      <td>0.0021172011317662923</td>\n",
       "      <td>72</td>\n",
       "      <td>0.010745224406016551</td>\n",
       "      <td>72</td>\n",
       "      <td>72</td>\n",
       "    </tr>\n",
       "    <tr>\n",
       "      <th>72</th>\n",
       "      <td>features.rhyme.alliterations_len_4_plus</td>\n",
       "      <td>0.003756647667586243</td>\n",
       "      <td>71</td>\n",
       "      <td>0.006889435757087514</td>\n",
       "      <td>73</td>\n",
       "      <td>70</td>\n",
       "    </tr>\n",
       "    <tr>\n",
       "      <th>31</th>\n",
       "      <td>features.lexical.semicolon_count</td>\n",
       "      <td>0.0018232990226299303</td>\n",
       "      <td>74</td>\n",
       "      <td>0.005692088680931828</td>\n",
       "      <td>74</td>\n",
       "      <td>74</td>\n",
       "    </tr>\n",
       "    <tr>\n",
       "      <th>55</th>\n",
       "      <td>features.structure.chorus_repetitions</td>\n",
       "      <td>0.0020913736611006413</td>\n",
       "      <td>73</td>\n",
       "      <td>0.00495823079554607</td>\n",
       "      <td>75</td>\n",
       "      <td>73</td>\n",
       "    </tr>\n",
       "    <tr>\n",
       "      <th>59</th>\n",
       "      <td>features.structure.starts_with_chorus</td>\n",
       "      <td>0.0013608215633453213</td>\n",
       "      <td>75</td>\n",
       "      <td>0.004907467693699874</td>\n",
       "      <td>76</td>\n",
       "      <td>75</td>\n",
       "    </tr>\n",
       "    <tr>\n",
       "      <th>63</th>\n",
       "      <td>features.structure.pattern_verse_chorus_altern...</td>\n",
       "      <td>0.0007999627245815675</td>\n",
       "      <td>77</td>\n",
       "      <td>0.0010825783241555143</td>\n",
       "      <td>77</td>\n",
       "      <td>77</td>\n",
       "    </tr>\n",
       "    <tr>\n",
       "      <th>65</th>\n",
       "      <td>features.structure.pattern_two_choruses_at_lea...</td>\n",
       "      <td>0.0</td>\n",
       "      <td>78</td>\n",
       "      <td>0.0</td>\n",
       "      <td>78</td>\n",
       "      <td>78</td>\n",
       "    </tr>\n",
       "    <tr>\n",
       "      <th>62</th>\n",
       "      <td>features.structure.ends_with_two_chorus_repeti...</td>\n",
       "      <td>0.0</td>\n",
       "      <td>78</td>\n",
       "      <td>0.0</td>\n",
       "      <td>78</td>\n",
       "      <td>79</td>\n",
       "    </tr>\n",
       "    <tr>\n",
       "      <th>2</th>\n",
       "      <td>features.uncommon_words_ratio</td>\n",
       "      <td>0.0</td>\n",
       "      <td>78</td>\n",
       "      <td>0.0</td>\n",
       "      <td>78</td>\n",
       "      <td>80</td>\n",
       "    </tr>\n",
       "  </tbody>\n",
       "</table>\n",
       "</div>"
      ],
      "text/plain": [
       "                                              Feature               DT Score  \\\n",
       "61           features.structure.ratio_chorus_sections   0.010871747783384325   \n",
       "58                features.structure.number_of_verses   0.006268554451123262   \n",
       "60           features.structure.ratio_verses_sections   0.004606288518865299   \n",
       "39                 features.lexical.punctuation_ratio   0.020853252930183294   \n",
       "26               features.lexical.repeated_line_ratio   0.021220616054045505   \n",
       "43               features.lexical.unique_bigram_ratio   0.015617617614367538   \n",
       "19            features.lexical.unique_tokens_per_line     0.0186633879019206   \n",
       "35                      features.lexical.hyphen_count   0.013296973128867068   \n",
       "1                                    features.entropy   0.017987280985396693   \n",
       "18              features.lexical.repeated_token_ratio   0.014006581787805557   \n",
       "27            features.lexical.exclamation_mark_count   0.008096676650364693   \n",
       "34                         features.lexical.dot_count   0.010590739308705258   \n",
       "54                  features.lexical.past_tense_ratio   0.024911727890863503   \n",
       "56               features.structure.title_occurrences   0.009271486060894495   \n",
       "74                  features.rhyme.unique_rhyme_words   0.015520858320618704   \n",
       "75                               affective.LIWC.anger    0.02107623102540227   \n",
       "25                  features.lexical.blank_line_ratio   0.020918608381156164   \n",
       "37                 features.lexical.punctuation_count   0.014461592835609738   \n",
       "48                              features.lexical.mtld   0.021525821327951798   \n",
       "21           features.lexical.average_tokens_per_line   0.019073606014541878   \n",
       "41                   features.lexical.stop_word_ratio   0.022459389090600336   \n",
       "17                   features.lexical.character_count   0.012904011791169349   \n",
       "77                              affective.LIWC.negemo    0.02181535201502118   \n",
       "53                 features.lexical.pronoun_frequency   0.023266556581599398   \n",
       "9                features.readability.difficult_words   0.016167981424199923   \n",
       "44              features.lexical.unique_trigram_ratio   0.014735121867839852   \n",
       "47              features.lexical.tris_legomenon_ratio    0.02300080474008935   \n",
       "78                              affective.LIWC.posemo    0.02419471564302171   \n",
       "42               features.lexical.stop_words_per_line   0.018692588266789305   \n",
       "20              features.lexical.average_token_length   0.020334607346657846   \n",
       "46               features.lexical.dis_legomenon_ratio    0.02208931864755121   \n",
       "0                          features.compression_ratio    0.01488407745305465   \n",
       "79                                 affective.LIWC.sad   0.018640989293682225   \n",
       "73                       features.rhyme.rhyme_percent   0.019866796996049593   \n",
       "33                       features.lexical.comma_count   0.018011949332210436   \n",
       "23                 features.lexical.unique_line_count   0.014248958563287731   \n",
       "7             features.readability.coleman_liau_index   0.018797893722576838   \n",
       "36                      features.lexical.parens_count   0.012893498177729138   \n",
       "40                   features.lexical.stop_word_count    0.01384387485468614   \n",
       "76                                 affective.LIWC.anx   0.015571913852762598   \n",
       "16                       features.lexical.token_count   0.012290388540952078   \n",
       "22                        features.lexical.line_count   0.013923565586052046   \n",
       "51                            features.lexical.dugast   0.010388773456281638   \n",
       "70                 features.rhyme.alliterations_len_2   0.016722338413137458   \n",
       "15                      features.readability.crawford   0.012590988181418713   \n",
       "38                       features.lexical.digit_ratio     0.0133735302906648   \n",
       "8   features.readability.dale_chall_readability_score   0.011818316224789396   \n",
       "45             features.lexical.hapax_legomenon_ratio   0.013692383549364594   \n",
       "10         features.readability.linsear_write_formula   0.016910827108620873   \n",
       "66                        features.rhyme.num_couplets   0.012663788971070228   \n",
       "49                            features.lexical.herdan    0.01161549892734885   \n",
       "50                            features.lexical.summer   0.010572654624928025   \n",
       "52                              features.lexical.maas   0.010149737307500423   \n",
       "24                  features.lexical.blank_line_count   0.009437726270846417   \n",
       "5                           features.readability.smog   0.011926207755789595   \n",
       "68                     features.rhyme.num_alternating   0.009090103322487407   \n",
       "28               features.lexical.question_mark_count   0.010607614344679389   \n",
       "69                          features.rhyme.num_nested   0.007658604130867126   \n",
       "67                       features.rhyme.num_clerihews   0.009162023060702167   \n",
       "6    features.readability.automated_readability_index   0.008321961407088522   \n",
       "57              features.structure.number_of_sections   0.003764839167493586   \n",
       "14              features.readability.gutierrez_polini   0.009312993745589745   \n",
       "29                       features.lexical.digit_count   0.008634827447898933   \n",
       "32                       features.lexical.quote_count    0.00712500090312294   \n",
       "12              features.readability.fernandez_huerta   0.008810007203962342   \n",
       "4            features.readability.flesch_reading_ease   0.008243571672274063   \n",
       "11                   features.readability.gunning_fog   0.008433422242505201   \n",
       "71                 features.rhyme.alliterations_len_3    0.00874071713407007   \n",
       "13               features.readability.szigriszt_pazos   0.008085423771755251   \n",
       "64  features.structure.pattern_two_verses_at_least...  0.0011301009078985287   \n",
       "3           features.readability.flesch_kincaid_grade   0.007592709925183151   \n",
       "30                       features.lexical.colon_count  0.0021172011317662923   \n",
       "72            features.rhyme.alliterations_len_4_plus   0.003756647667586243   \n",
       "31                   features.lexical.semicolon_count  0.0018232990226299303   \n",
       "55              features.structure.chorus_repetitions  0.0020913736611006413   \n",
       "59              features.structure.starts_with_chorus  0.0013608215633453213   \n",
       "63  features.structure.pattern_verse_chorus_altern...  0.0007999627245815675   \n",
       "65  features.structure.pattern_two_choruses_at_lea...                    0.0   \n",
       "62  features.structure.ends_with_two_chorus_repeti...                    0.0   \n",
       "2                       features.uncommon_words_ratio                    0.0   \n",
       "\n",
       "   DT Rank      Permutation Score Permutation Rank RFE Rank  \n",
       "61      46    0.45727291788516505                1       49  \n",
       "58      68     0.4069037818510875                2       62  \n",
       "60      69     0.3120485118686339                3       69  \n",
       "39      12     0.3101669664632464                4        4  \n",
       "26       9     0.2283798845691206                5       10  \n",
       "43      25    0.21393778209386757                6       35  \n",
       "19      18    0.19779070152399664                7       18  \n",
       "35      37    0.17834953706258208                8       47  \n",
       "1       21    0.16243420108809606                9       17  \n",
       "18      32    0.15954622201132235               10       42  \n",
       "27      63    0.15494112583731529               11       67  \n",
       "34      48    0.15489477691823833               12       58  \n",
       "54       1    0.15164814549146405               13        9  \n",
       "56      54     0.1477239370096119               14       55  \n",
       "74      27    0.14506328834545396               15       36  \n",
       "75      10    0.13580122934990124               16       11  \n",
       "25      11    0.13569528896343952               17       16  \n",
       "37      30    0.13105929351004778               18       33  \n",
       "48       8    0.12723330059481114               19        1  \n",
       "21      15    0.11854949954202856               20        3  \n",
       "41       5    0.11675844488341039               21       12  \n",
       "17      38    0.11021883311078495               22        5  \n",
       "77       7    0.10771047375216572               23       21  \n",
       "53       3    0.10736396040478055               24        6  \n",
       "9       24    0.09981019014092278               25       27  \n",
       "44      29    0.09907191807276779               26       20  \n",
       "47       4    0.09695421388922609               27       13  \n",
       "78       2    0.09677323239568734               28        8  \n",
       "42      17    0.09285564518798903               29       25  \n",
       "20      13     0.0919121136210645               30        2  \n",
       "46       6    0.08807839588598167               31       19  \n",
       "0       28    0.08658529856428704               32       32  \n",
       "79      19     0.0838187095136674               33       28  \n",
       "73      14     0.0807596808545858               34       14  \n",
       "33      20    0.08064711919397023               35       22  \n",
       "23      31    0.07878323051965966               36       38  \n",
       "7       16    0.07809020382488938               37       23  \n",
       "36      39    0.07722612754781114               38       46  \n",
       "40      34    0.06588829910502446               39       31  \n",
       "76      26    0.06147853051855612               40       37  \n",
       "16      42    0.06031097917609281               41       40  \n",
       "22      33   0.058074092057781655               42       44  \n",
       "51      50    0.05691095489808756               43       53  \n",
       "70      23    0.05547413840670072               44       30  \n",
       "15      41    0.05321849101162035               45       48  \n",
       "38      36   0.052747277001004234               46       34  \n",
       "8       44   0.052590573512696304               47       26  \n",
       "45      35   0.051626074577617885               48       15  \n",
       "10      22    0.05073772029530883               49       29  \n",
       "66      40    0.04933069953761436               50       39  \n",
       "49      45   0.046779301896995064               51       41  \n",
       "50      49    0.04662480550007173               52       50  \n",
       "52      51    0.04160036196298709               53       24  \n",
       "24      52    0.04080029133606276               54       57  \n",
       "5       43    0.03702616506836466               55       45  \n",
       "68      56    0.03357096350574394               56       56  \n",
       "28      47     0.0323195426906651               57       52  \n",
       "69      65    0.02931679486189125               58       65  \n",
       "67      55   0.028663495812044092               59       54  \n",
       "6       61    0.02813379387973558               60       51  \n",
       "57      70   0.028105101691735558               61       71  \n",
       "14      53   0.027394418265888308               62       59  \n",
       "29      59   0.025089111314653977               63       60  \n",
       "32      67   0.024975446108346122               64       68  \n",
       "12      57    0.02428241941357583               65       61  \n",
       "4       62   0.024247105951421943               66       43  \n",
       "11      60   0.023981151439575365               67        7  \n",
       "71      58   0.022005804650341555               68       64  \n",
       "13      64   0.017675491353719486               69       63  \n",
       "64      76   0.017436021938488366               70       76  \n",
       "3       66   0.017374223379719046               71       66  \n",
       "30      72   0.010745224406016551               72       72  \n",
       "72      71   0.006889435757087514               73       70  \n",
       "31      74   0.005692088680931828               74       74  \n",
       "55      73    0.00495823079554607               75       73  \n",
       "59      75   0.004907467693699874               76       75  \n",
       "63      77  0.0010825783241555143               77       77  \n",
       "65      78                    0.0               78       78  \n",
       "62      78                    0.0               78       79  \n",
       "2       78                    0.0               78       80  "
      ]
     },
     "metadata": {},
     "output_type": "display_data"
    },
    {
     "data": {
      "text/plain": [
       "'country'"
      ]
     },
     "metadata": {},
     "output_type": "display_data"
    },
    {
     "data": {
      "text/html": [
       "<div>\n",
       "<style scoped>\n",
       "    .dataframe tbody tr th:only-of-type {\n",
       "        vertical-align: middle;\n",
       "    }\n",
       "\n",
       "    .dataframe tbody tr th {\n",
       "        vertical-align: top;\n",
       "    }\n",
       "\n",
       "    .dataframe thead th {\n",
       "        text-align: right;\n",
       "    }\n",
       "</style>\n",
       "<table border=\"1\" class=\"dataframe\">\n",
       "  <thead>\n",
       "    <tr style=\"text-align: right;\">\n",
       "      <th></th>\n",
       "      <th>Feature</th>\n",
       "      <th>DT Score</th>\n",
       "      <th>DT Rank</th>\n",
       "      <th>Permutation Score</th>\n",
       "      <th>Permutation Rank</th>\n",
       "      <th>RFE Rank</th>\n",
       "    </tr>\n",
       "  </thead>\n",
       "  <tbody>\n",
       "    <tr>\n",
       "      <th>43</th>\n",
       "      <td>features.lexical.unique_bigram_ratio</td>\n",
       "      <td>0.020017152221949188</td>\n",
       "      <td>16</td>\n",
       "      <td>0.5124365686669351</td>\n",
       "      <td>1</td>\n",
       "      <td>11</td>\n",
       "    </tr>\n",
       "    <tr>\n",
       "      <th>56</th>\n",
       "      <td>features.structure.title_occurrences</td>\n",
       "      <td>0.017621506948973607</td>\n",
       "      <td>25</td>\n",
       "      <td>0.3109061619009263</td>\n",
       "      <td>2</td>\n",
       "      <td>43</td>\n",
       "    </tr>\n",
       "    <tr>\n",
       "      <th>24</th>\n",
       "      <td>features.lexical.blank_line_count</td>\n",
       "      <td>0.00892753228881106</td>\n",
       "      <td>52</td>\n",
       "      <td>0.27665726943213853</td>\n",
       "      <td>3</td>\n",
       "      <td>53</td>\n",
       "    </tr>\n",
       "    <tr>\n",
       "      <th>0</th>\n",
       "      <td>features.compression_ratio</td>\n",
       "      <td>0.020478587500378433</td>\n",
       "      <td>15</td>\n",
       "      <td>0.22367297623842125</td>\n",
       "      <td>4</td>\n",
       "      <td>18</td>\n",
       "    </tr>\n",
       "    <tr>\n",
       "      <th>44</th>\n",
       "      <td>features.lexical.unique_trigram_ratio</td>\n",
       "      <td>0.018260758549956933</td>\n",
       "      <td>24</td>\n",
       "      <td>0.21403141361256545</td>\n",
       "      <td>5</td>\n",
       "      <td>24</td>\n",
       "    </tr>\n",
       "    <tr>\n",
       "      <th>17</th>\n",
       "      <td>features.lexical.character_count</td>\n",
       "      <td>0.01865244476553589</td>\n",
       "      <td>18</td>\n",
       "      <td>0.21213854208618604</td>\n",
       "      <td>6</td>\n",
       "      <td>39</td>\n",
       "    </tr>\n",
       "    <tr>\n",
       "      <th>61</th>\n",
       "      <td>features.structure.ratio_chorus_sections</td>\n",
       "      <td>0.008379289056398351</td>\n",
       "      <td>56</td>\n",
       "      <td>0.207482883608538</td>\n",
       "      <td>7</td>\n",
       "      <td>46</td>\n",
       "    </tr>\n",
       "    <tr>\n",
       "      <th>60</th>\n",
       "      <td>features.structure.ratio_verses_sections</td>\n",
       "      <td>0.0068990834530476</td>\n",
       "      <td>59</td>\n",
       "      <td>0.1769391864679823</td>\n",
       "      <td>8</td>\n",
       "      <td>62</td>\n",
       "    </tr>\n",
       "    <tr>\n",
       "      <th>39</th>\n",
       "      <td>features.lexical.punctuation_ratio</td>\n",
       "      <td>0.021150330674343097</td>\n",
       "      <td>14</td>\n",
       "      <td>0.1396294804671768</td>\n",
       "      <td>9</td>\n",
       "      <td>9</td>\n",
       "    </tr>\n",
       "    <tr>\n",
       "      <th>22</th>\n",
       "      <td>features.lexical.line_count</td>\n",
       "      <td>0.014781939030803347</td>\n",
       "      <td>36</td>\n",
       "      <td>0.13524768425291983</td>\n",
       "      <td>10</td>\n",
       "      <td>29</td>\n",
       "    </tr>\n",
       "    <tr>\n",
       "      <th>78</th>\n",
       "      <td>affective.LIWC.posemo</td>\n",
       "      <td>0.02783280824584464</td>\n",
       "      <td>1</td>\n",
       "      <td>0.12714458316552557</td>\n",
       "      <td>11</td>\n",
       "      <td>3</td>\n",
       "    </tr>\n",
       "    <tr>\n",
       "      <th>26</th>\n",
       "      <td>features.lexical.repeated_line_ratio</td>\n",
       "      <td>0.023132677092996334</td>\n",
       "      <td>6</td>\n",
       "      <td>0.1215545710833669</td>\n",
       "      <td>12</td>\n",
       "      <td>15</td>\n",
       "    </tr>\n",
       "    <tr>\n",
       "      <th>53</th>\n",
       "      <td>features.lexical.pronoun_frequency</td>\n",
       "      <td>0.02460136347018159</td>\n",
       "      <td>4</td>\n",
       "      <td>0.11646395489327425</td>\n",
       "      <td>13</td>\n",
       "      <td>8</td>\n",
       "    </tr>\n",
       "    <tr>\n",
       "      <th>79</th>\n",
       "      <td>affective.LIWC.sad</td>\n",
       "      <td>0.019113136678876107</td>\n",
       "      <td>17</td>\n",
       "      <td>0.11061619009262988</td>\n",
       "      <td>14</td>\n",
       "      <td>31</td>\n",
       "    </tr>\n",
       "    <tr>\n",
       "      <th>73</th>\n",
       "      <td>features.rhyme.rhyme_percent</td>\n",
       "      <td>0.02167419124435029</td>\n",
       "      <td>12</td>\n",
       "      <td>0.1053242045912203</td>\n",
       "      <td>15</td>\n",
       "      <td>16</td>\n",
       "    </tr>\n",
       "    <tr>\n",
       "      <th>54</th>\n",
       "      <td>features.lexical.past_tense_ratio</td>\n",
       "      <td>0.026080218672337747</td>\n",
       "      <td>2</td>\n",
       "      <td>0.10289971808296414</td>\n",
       "      <td>16</td>\n",
       "      <td>6</td>\n",
       "    </tr>\n",
       "    <tr>\n",
       "      <th>20</th>\n",
       "      <td>features.lexical.average_token_length</td>\n",
       "      <td>0.021889178760101612</td>\n",
       "      <td>10</td>\n",
       "      <td>0.1028433346757954</td>\n",
       "      <td>17</td>\n",
       "      <td>17</td>\n",
       "    </tr>\n",
       "    <tr>\n",
       "      <th>48</th>\n",
       "      <td>features.lexical.mtld</td>\n",
       "      <td>0.022551374984621196</td>\n",
       "      <td>7</td>\n",
       "      <td>0.10275473217881595</td>\n",
       "      <td>18</td>\n",
       "      <td>23</td>\n",
       "    </tr>\n",
       "    <tr>\n",
       "      <th>41</th>\n",
       "      <td>features.lexical.stop_word_ratio</td>\n",
       "      <td>0.025302672258866853</td>\n",
       "      <td>3</td>\n",
       "      <td>0.10102295610149015</td>\n",
       "      <td>19</td>\n",
       "      <td>2</td>\n",
       "    </tr>\n",
       "    <tr>\n",
       "      <th>47</th>\n",
       "      <td>features.lexical.tris_legomenon_ratio</td>\n",
       "      <td>0.023180623509365287</td>\n",
       "      <td>5</td>\n",
       "      <td>0.09601288763592428</td>\n",
       "      <td>20</td>\n",
       "      <td>10</td>\n",
       "    </tr>\n",
       "    <tr>\n",
       "      <th>64</th>\n",
       "      <td>features.structure.pattern_two_verses_at_least...</td>\n",
       "      <td>0.0023120095390010273</td>\n",
       "      <td>71</td>\n",
       "      <td>0.09144583165525574</td>\n",
       "      <td>21</td>\n",
       "      <td>70</td>\n",
       "    </tr>\n",
       "    <tr>\n",
       "      <th>16</th>\n",
       "      <td>features.lexical.token_count</td>\n",
       "      <td>0.015534326372805364</td>\n",
       "      <td>31</td>\n",
       "      <td>0.08996375352396294</td>\n",
       "      <td>22</td>\n",
       "      <td>20</td>\n",
       "    </tr>\n",
       "    <tr>\n",
       "      <th>75</th>\n",
       "      <td>affective.LIWC.anger</td>\n",
       "      <td>0.015871161536716298</td>\n",
       "      <td>28</td>\n",
       "      <td>0.08989931534434152</td>\n",
       "      <td>23</td>\n",
       "      <td>42</td>\n",
       "    </tr>\n",
       "    <tr>\n",
       "      <th>19</th>\n",
       "      <td>features.lexical.unique_tokens_per_line</td>\n",
       "      <td>0.01841904531701322</td>\n",
       "      <td>22</td>\n",
       "      <td>0.08968989126057189</td>\n",
       "      <td>24</td>\n",
       "      <td>13</td>\n",
       "    </tr>\n",
       "    <tr>\n",
       "      <th>18</th>\n",
       "      <td>features.lexical.repeated_token_ratio</td>\n",
       "      <td>0.015013877882829986</td>\n",
       "      <td>34</td>\n",
       "      <td>0.08407571486105517</td>\n",
       "      <td>25</td>\n",
       "      <td>19</td>\n",
       "    </tr>\n",
       "    <tr>\n",
       "      <th>46</th>\n",
       "      <td>features.lexical.dis_legomenon_ratio</td>\n",
       "      <td>0.022473196015057605</td>\n",
       "      <td>8</td>\n",
       "      <td>0.08306886830447038</td>\n",
       "      <td>26</td>\n",
       "      <td>4</td>\n",
       "    </tr>\n",
       "    <tr>\n",
       "      <th>40</th>\n",
       "      <td>features.lexical.stop_word_count</td>\n",
       "      <td>0.01575147202216439</td>\n",
       "      <td>30</td>\n",
       "      <td>0.08229561014901329</td>\n",
       "      <td>27</td>\n",
       "      <td>28</td>\n",
       "    </tr>\n",
       "    <tr>\n",
       "      <th>42</th>\n",
       "      <td>features.lexical.stop_words_per_line</td>\n",
       "      <td>0.021701335537009314</td>\n",
       "      <td>11</td>\n",
       "      <td>0.08168344744260975</td>\n",
       "      <td>28</td>\n",
       "      <td>25</td>\n",
       "    </tr>\n",
       "    <tr>\n",
       "      <th>21</th>\n",
       "      <td>features.lexical.average_tokens_per_line</td>\n",
       "      <td>0.02136802910922866</td>\n",
       "      <td>13</td>\n",
       "      <td>0.08153846153846153</td>\n",
       "      <td>29</td>\n",
       "      <td>21</td>\n",
       "    </tr>\n",
       "    <tr>\n",
       "      <th>33</th>\n",
       "      <td>features.lexical.comma_count</td>\n",
       "      <td>0.014113461022681923</td>\n",
       "      <td>37</td>\n",
       "      <td>0.07257349979863069</td>\n",
       "      <td>30</td>\n",
       "      <td>33</td>\n",
       "    </tr>\n",
       "    <tr>\n",
       "      <th>74</th>\n",
       "      <td>features.rhyme.unique_rhyme_words</td>\n",
       "      <td>0.01615667761507475</td>\n",
       "      <td>27</td>\n",
       "      <td>0.06826419653644786</td>\n",
       "      <td>31</td>\n",
       "      <td>38</td>\n",
       "    </tr>\n",
       "    <tr>\n",
       "      <th>9</th>\n",
       "      <td>features.readability.difficult_words</td>\n",
       "      <td>0.018431538256664177</td>\n",
       "      <td>21</td>\n",
       "      <td>0.06600886024969795</td>\n",
       "      <td>32</td>\n",
       "      <td>32</td>\n",
       "    </tr>\n",
       "    <tr>\n",
       "      <th>25</th>\n",
       "      <td>features.lexical.blank_line_ratio</td>\n",
       "      <td>0.022113890229189942</td>\n",
       "      <td>9</td>\n",
       "      <td>0.06350382601691502</td>\n",
       "      <td>33</td>\n",
       "      <td>7</td>\n",
       "    </tr>\n",
       "    <tr>\n",
       "      <th>77</th>\n",
       "      <td>affective.LIWC.negemo</td>\n",
       "      <td>0.018596738828954972</td>\n",
       "      <td>20</td>\n",
       "      <td>0.06180426902939993</td>\n",
       "      <td>34</td>\n",
       "      <td>12</td>\n",
       "    </tr>\n",
       "    <tr>\n",
       "      <th>51</th>\n",
       "      <td>features.lexical.dugast</td>\n",
       "      <td>0.011091561120096943</td>\n",
       "      <td>44</td>\n",
       "      <td>0.06178010471204191</td>\n",
       "      <td>35</td>\n",
       "      <td>5</td>\n",
       "    </tr>\n",
       "    <tr>\n",
       "      <th>49</th>\n",
       "      <td>features.lexical.herdan</td>\n",
       "      <td>0.015481474704055207</td>\n",
       "      <td>32</td>\n",
       "      <td>0.061465968586387434</td>\n",
       "      <td>36</td>\n",
       "      <td>27</td>\n",
       "    </tr>\n",
       "    <tr>\n",
       "      <th>1</th>\n",
       "      <td>features.entropy</td>\n",
       "      <td>0.01862883550304148</td>\n",
       "      <td>19</td>\n",
       "      <td>0.06079742247281515</td>\n",
       "      <td>37</td>\n",
       "      <td>22</td>\n",
       "    </tr>\n",
       "    <tr>\n",
       "      <th>7</th>\n",
       "      <td>features.readability.coleman_liau_index</td>\n",
       "      <td>0.01836589711894349</td>\n",
       "      <td>23</td>\n",
       "      <td>0.05660894079742247</td>\n",
       "      <td>38</td>\n",
       "      <td>14</td>\n",
       "    </tr>\n",
       "    <tr>\n",
       "      <th>23</th>\n",
       "      <td>features.lexical.unique_line_count</td>\n",
       "      <td>0.015771094145787912</td>\n",
       "      <td>29</td>\n",
       "      <td>0.05614981876761982</td>\n",
       "      <td>39</td>\n",
       "      <td>34</td>\n",
       "    </tr>\n",
       "    <tr>\n",
       "      <th>11</th>\n",
       "      <td>features.readability.gunning_fog</td>\n",
       "      <td>0.010933896082054135</td>\n",
       "      <td>45</td>\n",
       "      <td>0.05325815545710834</td>\n",
       "      <td>40</td>\n",
       "      <td>47</td>\n",
       "    </tr>\n",
       "    <tr>\n",
       "      <th>45</th>\n",
       "      <td>features.lexical.hapax_legomenon_ratio</td>\n",
       "      <td>0.017272461583399363</td>\n",
       "      <td>26</td>\n",
       "      <td>0.05318566250503424</td>\n",
       "      <td>41</td>\n",
       "      <td>36</td>\n",
       "    </tr>\n",
       "    <tr>\n",
       "      <th>8</th>\n",
       "      <td>features.readability.dale_chall_readability_score</td>\n",
       "      <td>0.014838678977715446</td>\n",
       "      <td>35</td>\n",
       "      <td>0.05312122432541281</td>\n",
       "      <td>42</td>\n",
       "      <td>30</td>\n",
       "    </tr>\n",
       "    <tr>\n",
       "      <th>70</th>\n",
       "      <td>features.rhyme.alliterations_len_2</td>\n",
       "      <td>0.015336763211280116</td>\n",
       "      <td>33</td>\n",
       "      <td>0.05081755940394683</td>\n",
       "      <td>43</td>\n",
       "      <td>26</td>\n",
       "    </tr>\n",
       "    <tr>\n",
       "      <th>57</th>\n",
       "      <td>features.structure.number_of_sections</td>\n",
       "      <td>0.009433599170416505</td>\n",
       "      <td>50</td>\n",
       "      <td>0.049834877164720105</td>\n",
       "      <td>44</td>\n",
       "      <td>51</td>\n",
       "    </tr>\n",
       "    <tr>\n",
       "      <th>76</th>\n",
       "      <td>affective.LIWC.anx</td>\n",
       "      <td>0.01381277150299065</td>\n",
       "      <td>38</td>\n",
       "      <td>0.04635521546516312</td>\n",
       "      <td>45</td>\n",
       "      <td>44</td>\n",
       "    </tr>\n",
       "    <tr>\n",
       "      <th>50</th>\n",
       "      <td>features.lexical.summer</td>\n",
       "      <td>0.011257482457294929</td>\n",
       "      <td>43</td>\n",
       "      <td>0.04091824405960531</td>\n",
       "      <td>46</td>\n",
       "      <td>50</td>\n",
       "    </tr>\n",
       "    <tr>\n",
       "      <th>14</th>\n",
       "      <td>features.readability.gutierrez_polini</td>\n",
       "      <td>0.011302636031428464</td>\n",
       "      <td>42</td>\n",
       "      <td>0.040604107933950875</td>\n",
       "      <td>47</td>\n",
       "      <td>1</td>\n",
       "    </tr>\n",
       "    <tr>\n",
       "      <th>35</th>\n",
       "      <td>features.lexical.hyphen_count</td>\n",
       "      <td>0.007274795058351566</td>\n",
       "      <td>58</td>\n",
       "      <td>0.03834877164720096</td>\n",
       "      <td>48</td>\n",
       "      <td>57</td>\n",
       "    </tr>\n",
       "    <tr>\n",
       "      <th>36</th>\n",
       "      <td>features.lexical.parens_count</td>\n",
       "      <td>0.004966966416309588</td>\n",
       "      <td>63</td>\n",
       "      <td>0.037358034635521564</td>\n",
       "      <td>49</td>\n",
       "      <td>66</td>\n",
       "    </tr>\n",
       "    <tr>\n",
       "      <th>67</th>\n",
       "      <td>features.rhyme.num_clerihews</td>\n",
       "      <td>0.008375847910666619</td>\n",
       "      <td>57</td>\n",
       "      <td>0.031349174385823596</td>\n",
       "      <td>50</td>\n",
       "      <td>58</td>\n",
       "    </tr>\n",
       "    <tr>\n",
       "      <th>58</th>\n",
       "      <td>features.structure.number_of_verses</td>\n",
       "      <td>0.006848901274669418</td>\n",
       "      <td>60</td>\n",
       "      <td>0.03074506645187275</td>\n",
       "      <td>51</td>\n",
       "      <td>63</td>\n",
       "    </tr>\n",
       "    <tr>\n",
       "      <th>10</th>\n",
       "      <td>features.readability.linsear_write_formula</td>\n",
       "      <td>0.01142971849417916</td>\n",
       "      <td>41</td>\n",
       "      <td>0.02910994764397904</td>\n",
       "      <td>52</td>\n",
       "      <td>40</td>\n",
       "    </tr>\n",
       "    <tr>\n",
       "      <th>15</th>\n",
       "      <td>features.readability.crawford</td>\n",
       "      <td>0.013190267321167282</td>\n",
       "      <td>39</td>\n",
       "      <td>0.028836085380588006</td>\n",
       "      <td>53</td>\n",
       "      <td>48</td>\n",
       "    </tr>\n",
       "    <tr>\n",
       "      <th>37</th>\n",
       "      <td>features.lexical.punctuation_count</td>\n",
       "      <td>0.012184875998450636</td>\n",
       "      <td>40</td>\n",
       "      <td>0.02879581151832461</td>\n",
       "      <td>54</td>\n",
       "      <td>45</td>\n",
       "    </tr>\n",
       "    <tr>\n",
       "      <th>13</th>\n",
       "      <td>features.readability.szigriszt_pazos</td>\n",
       "      <td>0.010472207899620143</td>\n",
       "      <td>47</td>\n",
       "      <td>0.026717680225533634</td>\n",
       "      <td>55</td>\n",
       "      <td>49</td>\n",
       "    </tr>\n",
       "    <tr>\n",
       "      <th>66</th>\n",
       "      <td>features.rhyme.num_couplets</td>\n",
       "      <td>0.010560029305045144</td>\n",
       "      <td>46</td>\n",
       "      <td>0.025348368908578355</td>\n",
       "      <td>56</td>\n",
       "      <td>37</td>\n",
       "    </tr>\n",
       "    <tr>\n",
       "      <th>52</th>\n",
       "      <td>features.lexical.maas</td>\n",
       "      <td>0.00891518838686126</td>\n",
       "      <td>53</td>\n",
       "      <td>0.025195328231977464</td>\n",
       "      <td>57</td>\n",
       "      <td>41</td>\n",
       "    </tr>\n",
       "    <tr>\n",
       "      <th>4</th>\n",
       "      <td>features.readability.flesch_reading_ease</td>\n",
       "      <td>0.010337338265828024</td>\n",
       "      <td>48</td>\n",
       "      <td>0.02440596053161499</td>\n",
       "      <td>58</td>\n",
       "      <td>35</td>\n",
       "    </tr>\n",
       "    <tr>\n",
       "      <th>12</th>\n",
       "      <td>features.readability.fernandez_huerta</td>\n",
       "      <td>0.008582264147072085</td>\n",
       "      <td>55</td>\n",
       "      <td>0.021562625855819584</td>\n",
       "      <td>59</td>\n",
       "      <td>54</td>\n",
       "    </tr>\n",
       "    <tr>\n",
       "      <th>68</th>\n",
       "      <td>features.rhyme.num_alternating</td>\n",
       "      <td>0.008635789197503106</td>\n",
       "      <td>54</td>\n",
       "      <td>0.019846959323399103</td>\n",
       "      <td>60</td>\n",
       "      <td>56</td>\n",
       "    </tr>\n",
       "    <tr>\n",
       "      <th>32</th>\n",
       "      <td>features.lexical.quote_count</td>\n",
       "      <td>0.004415764781256297</td>\n",
       "      <td>66</td>\n",
       "      <td>0.019621425694724137</td>\n",
       "      <td>61</td>\n",
       "      <td>65</td>\n",
       "    </tr>\n",
       "    <tr>\n",
       "      <th>6</th>\n",
       "      <td>features.readability.automated_readability_index</td>\n",
       "      <td>0.009860181962054257</td>\n",
       "      <td>49</td>\n",
       "      <td>0.018236004832863494</td>\n",
       "      <td>62</td>\n",
       "      <td>52</td>\n",
       "    </tr>\n",
       "    <tr>\n",
       "      <th>3</th>\n",
       "      <td>features.readability.flesch_kincaid_grade</td>\n",
       "      <td>0.009194584568406538</td>\n",
       "      <td>51</td>\n",
       "      <td>0.018171566653242044</td>\n",
       "      <td>63</td>\n",
       "      <td>55</td>\n",
       "    </tr>\n",
       "    <tr>\n",
       "      <th>55</th>\n",
       "      <td>features.structure.chorus_repetitions</td>\n",
       "      <td>0.006629351765135375</td>\n",
       "      <td>61</td>\n",
       "      <td>0.018107128473620636</td>\n",
       "      <td>64</td>\n",
       "      <td>59</td>\n",
       "    </tr>\n",
       "    <tr>\n",
       "      <th>38</th>\n",
       "      <td>features.lexical.digit_ratio</td>\n",
       "      <td>0.004576000963099782</td>\n",
       "      <td>65</td>\n",
       "      <td>0.01601288763592428</td>\n",
       "      <td>65</td>\n",
       "      <td>61</td>\n",
       "    </tr>\n",
       "    <tr>\n",
       "      <th>71</th>\n",
       "      <td>features.rhyme.alliterations_len_3</td>\n",
       "      <td>0.00540464682928289</td>\n",
       "      <td>62</td>\n",
       "      <td>0.010865888038662907</td>\n",
       "      <td>66</td>\n",
       "      <td>64</td>\n",
       "    </tr>\n",
       "    <tr>\n",
       "      <th>28</th>\n",
       "      <td>features.lexical.question_mark_count</td>\n",
       "      <td>0.0038570722738313183</td>\n",
       "      <td>68</td>\n",
       "      <td>0.010648409182440588</td>\n",
       "      <td>67</td>\n",
       "      <td>67</td>\n",
       "    </tr>\n",
       "    <tr>\n",
       "      <th>69</th>\n",
       "      <td>features.rhyme.num_nested</td>\n",
       "      <td>0.004885302787119677</td>\n",
       "      <td>64</td>\n",
       "      <td>0.00899718082964156</td>\n",
       "      <td>68</td>\n",
       "      <td>60</td>\n",
       "    </tr>\n",
       "    <tr>\n",
       "      <th>5</th>\n",
       "      <td>features.readability.smog</td>\n",
       "      <td>0.003858773215783509</td>\n",
       "      <td>67</td>\n",
       "      <td>0.008296415626258546</td>\n",
       "      <td>69</td>\n",
       "      <td>68</td>\n",
       "    </tr>\n",
       "    <tr>\n",
       "      <th>63</th>\n",
       "      <td>features.structure.pattern_verse_chorus_altern...</td>\n",
       "      <td>0.001956048483940599</td>\n",
       "      <td>72</td>\n",
       "      <td>0.0045267821184051486</td>\n",
       "      <td>70</td>\n",
       "      <td>71</td>\n",
       "    </tr>\n",
       "    <tr>\n",
       "      <th>34</th>\n",
       "      <td>features.lexical.dot_count</td>\n",
       "      <td>0.002859873372255958</td>\n",
       "      <td>70</td>\n",
       "      <td>0.00446234393878373</td>\n",
       "      <td>71</td>\n",
       "      <td>69</td>\n",
       "    </tr>\n",
       "    <tr>\n",
       "      <th>29</th>\n",
       "      <td>features.lexical.digit_count</td>\n",
       "      <td>0.00324933897091299</td>\n",
       "      <td>69</td>\n",
       "      <td>0.004349577124446247</td>\n",
       "      <td>72</td>\n",
       "      <td>72</td>\n",
       "    </tr>\n",
       "    <tr>\n",
       "      <th>72</th>\n",
       "      <td>features.rhyme.alliterations_len_4_plus</td>\n",
       "      <td>0.0019293324160339059</td>\n",
       "      <td>73</td>\n",
       "      <td>0.003076923076923088</td>\n",
       "      <td>73</td>\n",
       "      <td>73</td>\n",
       "    </tr>\n",
       "    <tr>\n",
       "      <th>30</th>\n",
       "      <td>features.lexical.colon_count</td>\n",
       "      <td>0.0006155747357578286</td>\n",
       "      <td>76</td>\n",
       "      <td>0.0028272251308900653</td>\n",
       "      <td>74</td>\n",
       "      <td>76</td>\n",
       "    </tr>\n",
       "    <tr>\n",
       "      <th>27</th>\n",
       "      <td>features.lexical.exclamation_mark_count</td>\n",
       "      <td>0.0012781637909527969</td>\n",
       "      <td>74</td>\n",
       "      <td>0.002448650825614185</td>\n",
       "      <td>75</td>\n",
       "      <td>74</td>\n",
       "    </tr>\n",
       "    <tr>\n",
       "      <th>59</th>\n",
       "      <td>features.structure.starts_with_chorus</td>\n",
       "      <td>0.0011472763314850217</td>\n",
       "      <td>75</td>\n",
       "      <td>0.001490132903745478</td>\n",
       "      <td>76</td>\n",
       "      <td>75</td>\n",
       "    </tr>\n",
       "    <tr>\n",
       "      <th>31</th>\n",
       "      <td>features.lexical.semicolon_count</td>\n",
       "      <td>0.0005977427763318549</td>\n",
       "      <td>77</td>\n",
       "      <td>0.0006041079339508815</td>\n",
       "      <td>77</td>\n",
       "      <td>77</td>\n",
       "    </tr>\n",
       "    <tr>\n",
       "      <th>65</th>\n",
       "      <td>features.structure.pattern_two_choruses_at_lea...</td>\n",
       "      <td>0.0</td>\n",
       "      <td>78</td>\n",
       "      <td>0.0</td>\n",
       "      <td>78</td>\n",
       "      <td>79</td>\n",
       "    </tr>\n",
       "    <tr>\n",
       "      <th>62</th>\n",
       "      <td>features.structure.ends_with_two_chorus_repeti...</td>\n",
       "      <td>0.0</td>\n",
       "      <td>78</td>\n",
       "      <td>0.0</td>\n",
       "      <td>78</td>\n",
       "      <td>80</td>\n",
       "    </tr>\n",
       "    <tr>\n",
       "      <th>2</th>\n",
       "      <td>features.uncommon_words_ratio</td>\n",
       "      <td>0.0</td>\n",
       "      <td>78</td>\n",
       "      <td>0.0</td>\n",
       "      <td>78</td>\n",
       "      <td>78</td>\n",
       "    </tr>\n",
       "  </tbody>\n",
       "</table>\n",
       "</div>"
      ],
      "text/plain": [
       "                                              Feature               DT Score  \\\n",
       "43               features.lexical.unique_bigram_ratio   0.020017152221949188   \n",
       "56               features.structure.title_occurrences   0.017621506948973607   \n",
       "24                  features.lexical.blank_line_count    0.00892753228881106   \n",
       "0                          features.compression_ratio   0.020478587500378433   \n",
       "44              features.lexical.unique_trigram_ratio   0.018260758549956933   \n",
       "17                   features.lexical.character_count    0.01865244476553589   \n",
       "61           features.structure.ratio_chorus_sections   0.008379289056398351   \n",
       "60           features.structure.ratio_verses_sections     0.0068990834530476   \n",
       "39                 features.lexical.punctuation_ratio   0.021150330674343097   \n",
       "22                        features.lexical.line_count   0.014781939030803347   \n",
       "78                              affective.LIWC.posemo    0.02783280824584464   \n",
       "26               features.lexical.repeated_line_ratio   0.023132677092996334   \n",
       "53                 features.lexical.pronoun_frequency    0.02460136347018159   \n",
       "79                                 affective.LIWC.sad   0.019113136678876107   \n",
       "73                       features.rhyme.rhyme_percent    0.02167419124435029   \n",
       "54                  features.lexical.past_tense_ratio   0.026080218672337747   \n",
       "20              features.lexical.average_token_length   0.021889178760101612   \n",
       "48                              features.lexical.mtld   0.022551374984621196   \n",
       "41                   features.lexical.stop_word_ratio   0.025302672258866853   \n",
       "47              features.lexical.tris_legomenon_ratio   0.023180623509365287   \n",
       "64  features.structure.pattern_two_verses_at_least...  0.0023120095390010273   \n",
       "16                       features.lexical.token_count   0.015534326372805364   \n",
       "75                               affective.LIWC.anger   0.015871161536716298   \n",
       "19            features.lexical.unique_tokens_per_line    0.01841904531701322   \n",
       "18              features.lexical.repeated_token_ratio   0.015013877882829986   \n",
       "46               features.lexical.dis_legomenon_ratio   0.022473196015057605   \n",
       "40                   features.lexical.stop_word_count    0.01575147202216439   \n",
       "42               features.lexical.stop_words_per_line   0.021701335537009314   \n",
       "21           features.lexical.average_tokens_per_line    0.02136802910922866   \n",
       "33                       features.lexical.comma_count   0.014113461022681923   \n",
       "74                  features.rhyme.unique_rhyme_words    0.01615667761507475   \n",
       "9                features.readability.difficult_words   0.018431538256664177   \n",
       "25                  features.lexical.blank_line_ratio   0.022113890229189942   \n",
       "77                              affective.LIWC.negemo   0.018596738828954972   \n",
       "51                            features.lexical.dugast   0.011091561120096943   \n",
       "49                            features.lexical.herdan   0.015481474704055207   \n",
       "1                                    features.entropy    0.01862883550304148   \n",
       "7             features.readability.coleman_liau_index    0.01836589711894349   \n",
       "23                 features.lexical.unique_line_count   0.015771094145787912   \n",
       "11                   features.readability.gunning_fog   0.010933896082054135   \n",
       "45             features.lexical.hapax_legomenon_ratio   0.017272461583399363   \n",
       "8   features.readability.dale_chall_readability_score   0.014838678977715446   \n",
       "70                 features.rhyme.alliterations_len_2   0.015336763211280116   \n",
       "57              features.structure.number_of_sections   0.009433599170416505   \n",
       "76                                 affective.LIWC.anx    0.01381277150299065   \n",
       "50                            features.lexical.summer   0.011257482457294929   \n",
       "14              features.readability.gutierrez_polini   0.011302636031428464   \n",
       "35                      features.lexical.hyphen_count   0.007274795058351566   \n",
       "36                      features.lexical.parens_count   0.004966966416309588   \n",
       "67                       features.rhyme.num_clerihews   0.008375847910666619   \n",
       "58                features.structure.number_of_verses   0.006848901274669418   \n",
       "10         features.readability.linsear_write_formula    0.01142971849417916   \n",
       "15                      features.readability.crawford   0.013190267321167282   \n",
       "37                 features.lexical.punctuation_count   0.012184875998450636   \n",
       "13               features.readability.szigriszt_pazos   0.010472207899620143   \n",
       "66                        features.rhyme.num_couplets   0.010560029305045144   \n",
       "52                              features.lexical.maas    0.00891518838686126   \n",
       "4            features.readability.flesch_reading_ease   0.010337338265828024   \n",
       "12              features.readability.fernandez_huerta   0.008582264147072085   \n",
       "68                     features.rhyme.num_alternating   0.008635789197503106   \n",
       "32                       features.lexical.quote_count   0.004415764781256297   \n",
       "6    features.readability.automated_readability_index   0.009860181962054257   \n",
       "3           features.readability.flesch_kincaid_grade   0.009194584568406538   \n",
       "55              features.structure.chorus_repetitions   0.006629351765135375   \n",
       "38                       features.lexical.digit_ratio   0.004576000963099782   \n",
       "71                 features.rhyme.alliterations_len_3    0.00540464682928289   \n",
       "28               features.lexical.question_mark_count  0.0038570722738313183   \n",
       "69                          features.rhyme.num_nested   0.004885302787119677   \n",
       "5                           features.readability.smog   0.003858773215783509   \n",
       "63  features.structure.pattern_verse_chorus_altern...   0.001956048483940599   \n",
       "34                         features.lexical.dot_count   0.002859873372255958   \n",
       "29                       features.lexical.digit_count    0.00324933897091299   \n",
       "72            features.rhyme.alliterations_len_4_plus  0.0019293324160339059   \n",
       "30                       features.lexical.colon_count  0.0006155747357578286   \n",
       "27            features.lexical.exclamation_mark_count  0.0012781637909527969   \n",
       "59              features.structure.starts_with_chorus  0.0011472763314850217   \n",
       "31                   features.lexical.semicolon_count  0.0005977427763318549   \n",
       "65  features.structure.pattern_two_choruses_at_lea...                    0.0   \n",
       "62  features.structure.ends_with_two_chorus_repeti...                    0.0   \n",
       "2                       features.uncommon_words_ratio                    0.0   \n",
       "\n",
       "   DT Rank      Permutation Score Permutation Rank RFE Rank  \n",
       "43      16     0.5124365686669351                1       11  \n",
       "56      25     0.3109061619009263                2       43  \n",
       "24      52    0.27665726943213853                3       53  \n",
       "0       15    0.22367297623842125                4       18  \n",
       "44      24    0.21403141361256545                5       24  \n",
       "17      18    0.21213854208618604                6       39  \n",
       "61      56      0.207482883608538                7       46  \n",
       "60      59     0.1769391864679823                8       62  \n",
       "39      14     0.1396294804671768                9        9  \n",
       "22      36    0.13524768425291983               10       29  \n",
       "78       1    0.12714458316552557               11        3  \n",
       "26       6     0.1215545710833669               12       15  \n",
       "53       4    0.11646395489327425               13        8  \n",
       "79      17    0.11061619009262988               14       31  \n",
       "73      12     0.1053242045912203               15       16  \n",
       "54       2    0.10289971808296414               16        6  \n",
       "20      10     0.1028433346757954               17       17  \n",
       "48       7    0.10275473217881595               18       23  \n",
       "41       3    0.10102295610149015               19        2  \n",
       "47       5    0.09601288763592428               20       10  \n",
       "64      71    0.09144583165525574               21       70  \n",
       "16      31    0.08996375352396294               22       20  \n",
       "75      28    0.08989931534434152               23       42  \n",
       "19      22    0.08968989126057189               24       13  \n",
       "18      34    0.08407571486105517               25       19  \n",
       "46       8    0.08306886830447038               26        4  \n",
       "40      30    0.08229561014901329               27       28  \n",
       "42      11    0.08168344744260975               28       25  \n",
       "21      13    0.08153846153846153               29       21  \n",
       "33      37    0.07257349979863069               30       33  \n",
       "74      27    0.06826419653644786               31       38  \n",
       "9       21    0.06600886024969795               32       32  \n",
       "25       9    0.06350382601691502               33        7  \n",
       "77      20    0.06180426902939993               34       12  \n",
       "51      44    0.06178010471204191               35        5  \n",
       "49      32   0.061465968586387434               36       27  \n",
       "1       19    0.06079742247281515               37       22  \n",
       "7       23    0.05660894079742247               38       14  \n",
       "23      29    0.05614981876761982               39       34  \n",
       "11      45    0.05325815545710834               40       47  \n",
       "45      26    0.05318566250503424               41       36  \n",
       "8       35    0.05312122432541281               42       30  \n",
       "70      33    0.05081755940394683               43       26  \n",
       "57      50   0.049834877164720105               44       51  \n",
       "76      38    0.04635521546516312               45       44  \n",
       "50      43    0.04091824405960531               46       50  \n",
       "14      42   0.040604107933950875               47        1  \n",
       "35      58    0.03834877164720096               48       57  \n",
       "36      63   0.037358034635521564               49       66  \n",
       "67      57   0.031349174385823596               50       58  \n",
       "58      60    0.03074506645187275               51       63  \n",
       "10      41    0.02910994764397904               52       40  \n",
       "15      39   0.028836085380588006               53       48  \n",
       "37      40    0.02879581151832461               54       45  \n",
       "13      47   0.026717680225533634               55       49  \n",
       "66      46   0.025348368908578355               56       37  \n",
       "52      53   0.025195328231977464               57       41  \n",
       "4       48    0.02440596053161499               58       35  \n",
       "12      55   0.021562625855819584               59       54  \n",
       "68      54   0.019846959323399103               60       56  \n",
       "32      66   0.019621425694724137               61       65  \n",
       "6       49   0.018236004832863494               62       52  \n",
       "3       51   0.018171566653242044               63       55  \n",
       "55      61   0.018107128473620636               64       59  \n",
       "38      65    0.01601288763592428               65       61  \n",
       "71      62   0.010865888038662907               66       64  \n",
       "28      68   0.010648409182440588               67       67  \n",
       "69      64    0.00899718082964156               68       60  \n",
       "5       67   0.008296415626258546               69       68  \n",
       "63      72  0.0045267821184051486               70       71  \n",
       "34      70    0.00446234393878373               71       69  \n",
       "29      69   0.004349577124446247               72       72  \n",
       "72      73   0.003076923076923088               73       73  \n",
       "30      76  0.0028272251308900653               74       76  \n",
       "27      74   0.002448650825614185               75       74  \n",
       "59      75   0.001490132903745478               76       75  \n",
       "31      77  0.0006041079339508815               77       77  \n",
       "65      78                    0.0               78       79  \n",
       "62      78                    0.0               78       80  \n",
       "2       78                    0.0               78       78  "
      ]
     },
     "metadata": {},
     "output_type": "display_data"
    },
    {
     "data": {
      "text/plain": [
       "'r-b'"
      ]
     },
     "metadata": {},
     "output_type": "display_data"
    },
    {
     "data": {
      "text/html": [
       "<div>\n",
       "<style scoped>\n",
       "    .dataframe tbody tr th:only-of-type {\n",
       "        vertical-align: middle;\n",
       "    }\n",
       "\n",
       "    .dataframe tbody tr th {\n",
       "        vertical-align: top;\n",
       "    }\n",
       "\n",
       "    .dataframe thead th {\n",
       "        text-align: right;\n",
       "    }\n",
       "</style>\n",
       "<table border=\"1\" class=\"dataframe\">\n",
       "  <thead>\n",
       "    <tr style=\"text-align: right;\">\n",
       "      <th></th>\n",
       "      <th>Feature</th>\n",
       "      <th>DT Score</th>\n",
       "      <th>DT Rank</th>\n",
       "      <th>Permutation Score</th>\n",
       "      <th>Permutation Rank</th>\n",
       "      <th>RFE Rank</th>\n",
       "    </tr>\n",
       "  </thead>\n",
       "  <tbody>\n",
       "    <tr>\n",
       "      <th>36</th>\n",
       "      <td>features.lexical.parens_count</td>\n",
       "      <td>0.014354644628368296</td>\n",
       "      <td>35</td>\n",
       "      <td>0.47200869524998845</td>\n",
       "      <td>1</td>\n",
       "      <td>44</td>\n",
       "    </tr>\n",
       "    <tr>\n",
       "      <th>26</th>\n",
       "      <td>features.lexical.repeated_line_ratio</td>\n",
       "      <td>0.02721766069040513</td>\n",
       "      <td>1</td>\n",
       "      <td>0.4428564821238611</td>\n",
       "      <td>2</td>\n",
       "      <td>13</td>\n",
       "    </tr>\n",
       "    <tr>\n",
       "      <th>75</th>\n",
       "      <td>affective.LIWC.anger</td>\n",
       "      <td>0.017272406275678782</td>\n",
       "      <td>21</td>\n",
       "      <td>0.349345543684381</td>\n",
       "      <td>3</td>\n",
       "      <td>38</td>\n",
       "    </tr>\n",
       "    <tr>\n",
       "      <th>23</th>\n",
       "      <td>features.lexical.unique_line_count</td>\n",
       "      <td>0.018613765511075814</td>\n",
       "      <td>17</td>\n",
       "      <td>0.22109060635493272</td>\n",
       "      <td>4</td>\n",
       "      <td>30</td>\n",
       "    </tr>\n",
       "    <tr>\n",
       "      <th>60</th>\n",
       "      <td>features.structure.ratio_verses_sections</td>\n",
       "      <td>0.011366543654917191</td>\n",
       "      <td>46</td>\n",
       "      <td>0.20981915730077239</td>\n",
       "      <td>5</td>\n",
       "      <td>45</td>\n",
       "    </tr>\n",
       "    <tr>\n",
       "      <th>40</th>\n",
       "      <td>features.lexical.stop_word_count</td>\n",
       "      <td>0.01809211153331302</td>\n",
       "      <td>18</td>\n",
       "      <td>0.1945423430923639</td>\n",
       "      <td>6</td>\n",
       "      <td>34</td>\n",
       "    </tr>\n",
       "    <tr>\n",
       "      <th>78</th>\n",
       "      <td>affective.LIWC.posemo</td>\n",
       "      <td>0.025606304948667464</td>\n",
       "      <td>3</td>\n",
       "      <td>0.15878081494842974</td>\n",
       "      <td>7</td>\n",
       "      <td>7</td>\n",
       "    </tr>\n",
       "    <tr>\n",
       "      <th>19</th>\n",
       "      <td>features.lexical.unique_tokens_per_line</td>\n",
       "      <td>0.01950426368068741</td>\n",
       "      <td>15</td>\n",
       "      <td>0.15409555524721336</td>\n",
       "      <td>8</td>\n",
       "      <td>5</td>\n",
       "    </tr>\n",
       "    <tr>\n",
       "      <th>53</th>\n",
       "      <td>features.lexical.pronoun_frequency</td>\n",
       "      <td>0.024027681672306928</td>\n",
       "      <td>4</td>\n",
       "      <td>0.13912399981499468</td>\n",
       "      <td>9</td>\n",
       "      <td>1</td>\n",
       "    </tr>\n",
       "    <tr>\n",
       "      <th>20</th>\n",
       "      <td>features.lexical.average_token_length</td>\n",
       "      <td>0.021673580075493654</td>\n",
       "      <td>8</td>\n",
       "      <td>0.11984644558531059</td>\n",
       "      <td>10</td>\n",
       "      <td>17</td>\n",
       "    </tr>\n",
       "    <tr>\n",
       "      <th>24</th>\n",
       "      <td>features.lexical.blank_line_count</td>\n",
       "      <td>0.012197531341946507</td>\n",
       "      <td>43</td>\n",
       "      <td>0.11970769159613341</td>\n",
       "      <td>11</td>\n",
       "      <td>49</td>\n",
       "    </tr>\n",
       "    <tr>\n",
       "      <th>42</th>\n",
       "      <td>features.lexical.stop_words_per_line</td>\n",
       "      <td>0.01975577921461019</td>\n",
       "      <td>12</td>\n",
       "      <td>0.11812589611951343</td>\n",
       "      <td>12</td>\n",
       "      <td>14</td>\n",
       "    </tr>\n",
       "    <tr>\n",
       "      <th>25</th>\n",
       "      <td>features.lexical.blank_line_ratio</td>\n",
       "      <td>0.01996991545624299</td>\n",
       "      <td>11</td>\n",
       "      <td>0.11626659266453912</td>\n",
       "      <td>13</td>\n",
       "      <td>11</td>\n",
       "    </tr>\n",
       "    <tr>\n",
       "      <th>17</th>\n",
       "      <td>features.lexical.character_count</td>\n",
       "      <td>0.015637795752277937</td>\n",
       "      <td>26</td>\n",
       "      <td>0.1128809953286157</td>\n",
       "      <td>14</td>\n",
       "      <td>2</td>\n",
       "    </tr>\n",
       "    <tr>\n",
       "      <th>9</th>\n",
       "      <td>features.readability.difficult_words</td>\n",
       "      <td>0.01641288019076848</td>\n",
       "      <td>25</td>\n",
       "      <td>0.11174783775033532</td>\n",
       "      <td>15</td>\n",
       "      <td>29</td>\n",
       "    </tr>\n",
       "    <tr>\n",
       "      <th>39</th>\n",
       "      <td>features.lexical.punctuation_ratio</td>\n",
       "      <td>0.019548433212015458</td>\n",
       "      <td>14</td>\n",
       "      <td>0.11128069932010545</td>\n",
       "      <td>16</td>\n",
       "      <td>4</td>\n",
       "    </tr>\n",
       "    <tr>\n",
       "      <th>21</th>\n",
       "      <td>features.lexical.average_tokens_per_line</td>\n",
       "      <td>0.01938084859341866</td>\n",
       "      <td>16</td>\n",
       "      <td>0.10947227232782941</td>\n",
       "      <td>17</td>\n",
       "      <td>23</td>\n",
       "    </tr>\n",
       "    <tr>\n",
       "      <th>54</th>\n",
       "      <td>features.lexical.past_tense_ratio</td>\n",
       "      <td>0.023955922705233716</td>\n",
       "      <td>5</td>\n",
       "      <td>0.1025299477359974</td>\n",
       "      <td>18</td>\n",
       "      <td>8</td>\n",
       "    </tr>\n",
       "    <tr>\n",
       "      <th>34</th>\n",
       "      <td>features.lexical.dot_count</td>\n",
       "      <td>0.006134037149935031</td>\n",
       "      <td>67</td>\n",
       "      <td>0.09758105545534435</td>\n",
       "      <td>19</td>\n",
       "      <td>67</td>\n",
       "    </tr>\n",
       "    <tr>\n",
       "      <th>49</th>\n",
       "      <td>features.lexical.herdan</td>\n",
       "      <td>0.01353608050919797</td>\n",
       "      <td>40</td>\n",
       "      <td>0.09408908006105175</td>\n",
       "      <td>20</td>\n",
       "      <td>36</td>\n",
       "    </tr>\n",
       "    <tr>\n",
       "      <th>22</th>\n",
       "      <td>features.lexical.line_count</td>\n",
       "      <td>0.016602215835709692</td>\n",
       "      <td>24</td>\n",
       "      <td>0.09279866796170391</td>\n",
       "      <td>21</td>\n",
       "      <td>22</td>\n",
       "    </tr>\n",
       "    <tr>\n",
       "      <th>48</th>\n",
       "      <td>features.lexical.mtld</td>\n",
       "      <td>0.02245772001469813</td>\n",
       "      <td>7</td>\n",
       "      <td>0.09092548910781184</td>\n",
       "      <td>22</td>\n",
       "      <td>12</td>\n",
       "    </tr>\n",
       "    <tr>\n",
       "      <th>1</th>\n",
       "      <td>features.entropy</td>\n",
       "      <td>0.017652694841508543</td>\n",
       "      <td>19</td>\n",
       "      <td>0.08781277461727025</td>\n",
       "      <td>23</td>\n",
       "      <td>32</td>\n",
       "    </tr>\n",
       "    <tr>\n",
       "      <th>44</th>\n",
       "      <td>features.lexical.unique_trigram_ratio</td>\n",
       "      <td>0.014360186631950779</td>\n",
       "      <td>34</td>\n",
       "      <td>0.08531057767910827</td>\n",
       "      <td>24</td>\n",
       "      <td>3</td>\n",
       "    </tr>\n",
       "    <tr>\n",
       "      <th>46</th>\n",
       "      <td>features.lexical.dis_legomenon_ratio</td>\n",
       "      <td>0.02613972765312547</td>\n",
       "      <td>2</td>\n",
       "      <td>0.0846908098607835</td>\n",
       "      <td>25</td>\n",
       "      <td>10</td>\n",
       "    </tr>\n",
       "    <tr>\n",
       "      <th>77</th>\n",
       "      <td>affective.LIWC.negemo</td>\n",
       "      <td>0.020477683301632625</td>\n",
       "      <td>10</td>\n",
       "      <td>0.08462605799916748</td>\n",
       "      <td>26</td>\n",
       "      <td>16</td>\n",
       "    </tr>\n",
       "    <tr>\n",
       "      <th>47</th>\n",
       "      <td>features.lexical.tris_legomenon_ratio</td>\n",
       "      <td>0.023327891914601637</td>\n",
       "      <td>6</td>\n",
       "      <td>0.07704546505712039</td>\n",
       "      <td>27</td>\n",
       "      <td>6</td>\n",
       "    </tr>\n",
       "    <tr>\n",
       "      <th>73</th>\n",
       "      <td>features.rhyme.rhyme_percent</td>\n",
       "      <td>0.021178360395948694</td>\n",
       "      <td>9</td>\n",
       "      <td>0.07647194856852135</td>\n",
       "      <td>28</td>\n",
       "      <td>15</td>\n",
       "    </tr>\n",
       "    <tr>\n",
       "      <th>8</th>\n",
       "      <td>features.readability.dale_chall_readability_score</td>\n",
       "      <td>0.014223017802066574</td>\n",
       "      <td>36</td>\n",
       "      <td>0.07324823088663798</td>\n",
       "      <td>29</td>\n",
       "      <td>9</td>\n",
       "    </tr>\n",
       "    <tr>\n",
       "      <th>0</th>\n",
       "      <td>features.compression_ratio</td>\n",
       "      <td>0.014819416723830053</td>\n",
       "      <td>33</td>\n",
       "      <td>0.07195781878729013</td>\n",
       "      <td>30</td>\n",
       "      <td>27</td>\n",
       "    </tr>\n",
       "    <tr>\n",
       "      <th>33</th>\n",
       "      <td>features.lexical.comma_count</td>\n",
       "      <td>0.01524784064855773</td>\n",
       "      <td>28</td>\n",
       "      <td>0.0699967624069192</td>\n",
       "      <td>31</td>\n",
       "      <td>26</td>\n",
       "    </tr>\n",
       "    <tr>\n",
       "      <th>41</th>\n",
       "      <td>features.lexical.stop_word_ratio</td>\n",
       "      <td>0.019582606861039076</td>\n",
       "      <td>13</td>\n",
       "      <td>0.06819758568058831</td>\n",
       "      <td>32</td>\n",
       "      <td>18</td>\n",
       "    </tr>\n",
       "    <tr>\n",
       "      <th>79</th>\n",
       "      <td>affective.LIWC.sad</td>\n",
       "      <td>0.01717348078631664</td>\n",
       "      <td>22</td>\n",
       "      <td>0.0659405207899727</td>\n",
       "      <td>33</td>\n",
       "      <td>33</td>\n",
       "    </tr>\n",
       "    <tr>\n",
       "      <th>56</th>\n",
       "      <td>features.structure.title_occurrences</td>\n",
       "      <td>0.015056858483204563</td>\n",
       "      <td>31</td>\n",
       "      <td>0.060940752046621326</td>\n",
       "      <td>34</td>\n",
       "      <td>37</td>\n",
       "    </tr>\n",
       "    <tr>\n",
       "      <th>7</th>\n",
       "      <td>features.readability.coleman_liau_index</td>\n",
       "      <td>0.017491963470742947</td>\n",
       "      <td>20</td>\n",
       "      <td>0.06026085749965312</td>\n",
       "      <td>35</td>\n",
       "      <td>20</td>\n",
       "    </tr>\n",
       "    <tr>\n",
       "      <th>50</th>\n",
       "      <td>features.lexical.summer</td>\n",
       "      <td>0.012057455464238262</td>\n",
       "      <td>44</td>\n",
       "      <td>0.05644974793025298</td>\n",
       "      <td>36</td>\n",
       "      <td>47</td>\n",
       "    </tr>\n",
       "    <tr>\n",
       "      <th>37</th>\n",
       "      <td>features.lexical.punctuation_count</td>\n",
       "      <td>0.013834077690140277</td>\n",
       "      <td>39</td>\n",
       "      <td>0.05288377040839924</td>\n",
       "      <td>37</td>\n",
       "      <td>28</td>\n",
       "    </tr>\n",
       "    <tr>\n",
       "      <th>70</th>\n",
       "      <td>features.rhyme.alliterations_len_2</td>\n",
       "      <td>0.016701547927757406</td>\n",
       "      <td>23</td>\n",
       "      <td>0.04879977799361731</td>\n",
       "      <td>38</td>\n",
       "      <td>24</td>\n",
       "    </tr>\n",
       "    <tr>\n",
       "      <th>35</th>\n",
       "      <td>features.lexical.hyphen_count</td>\n",
       "      <td>0.0075013115087366935</td>\n",
       "      <td>61</td>\n",
       "      <td>0.04726885897969567</td>\n",
       "      <td>39</td>\n",
       "      <td>63</td>\n",
       "    </tr>\n",
       "    <tr>\n",
       "      <th>18</th>\n",
       "      <td>features.lexical.repeated_token_ratio</td>\n",
       "      <td>0.01265939320676794</td>\n",
       "      <td>41</td>\n",
       "      <td>0.044553905924795335</td>\n",
       "      <td>40</td>\n",
       "      <td>46</td>\n",
       "    </tr>\n",
       "    <tr>\n",
       "      <th>16</th>\n",
       "      <td>features.lexical.token_count</td>\n",
       "      <td>0.014194947011209238</td>\n",
       "      <td>37</td>\n",
       "      <td>0.043466999676240695</td>\n",
       "      <td>41</td>\n",
       "      <td>43</td>\n",
       "    </tr>\n",
       "    <tr>\n",
       "      <th>14</th>\n",
       "      <td>features.readability.gutierrez_polini</td>\n",
       "      <td>0.009731765992800755</td>\n",
       "      <td>51</td>\n",
       "      <td>0.042847231857915904</td>\n",
       "      <td>42</td>\n",
       "      <td>41</td>\n",
       "    </tr>\n",
       "    <tr>\n",
       "      <th>10</th>\n",
       "      <td>features.readability.linsear_write_formula</td>\n",
       "      <td>0.015123159899242436</td>\n",
       "      <td>29</td>\n",
       "      <td>0.0425604736136164</td>\n",
       "      <td>43</td>\n",
       "      <td>31</td>\n",
       "    </tr>\n",
       "    <tr>\n",
       "      <th>66</th>\n",
       "      <td>features.rhyme.num_couplets</td>\n",
       "      <td>0.015089407834361185</td>\n",
       "      <td>30</td>\n",
       "      <td>0.04236621802876833</td>\n",
       "      <td>44</td>\n",
       "      <td>35</td>\n",
       "    </tr>\n",
       "    <tr>\n",
       "      <th>43</th>\n",
       "      <td>features.lexical.unique_bigram_ratio</td>\n",
       "      <td>0.01183828166762728</td>\n",
       "      <td>45</td>\n",
       "      <td>0.04231534156607001</td>\n",
       "      <td>45</td>\n",
       "      <td>42</td>\n",
       "    </tr>\n",
       "    <tr>\n",
       "      <th>74</th>\n",
       "      <td>features.rhyme.unique_rhyme_words</td>\n",
       "      <td>0.015479593191184884</td>\n",
       "      <td>27</td>\n",
       "      <td>0.04170482401369041</td>\n",
       "      <td>46</td>\n",
       "      <td>40</td>\n",
       "    </tr>\n",
       "    <tr>\n",
       "      <th>45</th>\n",
       "      <td>features.lexical.hapax_legomenon_ratio</td>\n",
       "      <td>0.013855210101301463</td>\n",
       "      <td>38</td>\n",
       "      <td>0.03997039914897553</td>\n",
       "      <td>47</td>\n",
       "      <td>21</td>\n",
       "    </tr>\n",
       "    <tr>\n",
       "      <th>76</th>\n",
       "      <td>affective.LIWC.anx</td>\n",
       "      <td>0.012547263567274657</td>\n",
       "      <td>42</td>\n",
       "      <td>0.03958651311225196</td>\n",
       "      <td>48</td>\n",
       "      <td>48</td>\n",
       "    </tr>\n",
       "    <tr>\n",
       "      <th>69</th>\n",
       "      <td>features.rhyme.num_nested</td>\n",
       "      <td>0.007883875142012997</td>\n",
       "      <td>59</td>\n",
       "      <td>0.03422598399703991</td>\n",
       "      <td>49</td>\n",
       "      <td>59</td>\n",
       "    </tr>\n",
       "    <tr>\n",
       "      <th>4</th>\n",
       "      <td>features.readability.flesch_reading_ease</td>\n",
       "      <td>0.009323772386873435</td>\n",
       "      <td>52</td>\n",
       "      <td>0.03273669117987142</td>\n",
       "      <td>50</td>\n",
       "      <td>61</td>\n",
       "    </tr>\n",
       "    <tr>\n",
       "      <th>15</th>\n",
       "      <td>features.readability.crawford</td>\n",
       "      <td>0.014827060334101609</td>\n",
       "      <td>32</td>\n",
       "      <td>0.03216317469127239</td>\n",
       "      <td>51</td>\n",
       "      <td>39</td>\n",
       "    </tr>\n",
       "    <tr>\n",
       "      <th>51</th>\n",
       "      <td>features.lexical.dugast</td>\n",
       "      <td>0.010140565482440026</td>\n",
       "      <td>49</td>\n",
       "      <td>0.031067018176772578</td>\n",
       "      <td>52</td>\n",
       "      <td>19</td>\n",
       "    </tr>\n",
       "    <tr>\n",
       "      <th>28</th>\n",
       "      <td>features.lexical.question_mark_count</td>\n",
       "      <td>0.007955432235474992</td>\n",
       "      <td>58</td>\n",
       "      <td>0.030470376023310673</td>\n",
       "      <td>53</td>\n",
       "      <td>55</td>\n",
       "    </tr>\n",
       "    <tr>\n",
       "      <th>68</th>\n",
       "      <td>features.rhyme.num_alternating</td>\n",
       "      <td>0.010224032816536</td>\n",
       "      <td>48</td>\n",
       "      <td>0.03012811618334027</td>\n",
       "      <td>54</td>\n",
       "      <td>52</td>\n",
       "    </tr>\n",
       "    <tr>\n",
       "      <th>61</th>\n",
       "      <td>features.structure.ratio_chorus_sections</td>\n",
       "      <td>0.007659922711694104</td>\n",
       "      <td>60</td>\n",
       "      <td>0.028324314324036814</td>\n",
       "      <td>55</td>\n",
       "      <td>58</td>\n",
       "    </tr>\n",
       "    <tr>\n",
       "      <th>57</th>\n",
       "      <td>features.structure.number_of_sections</td>\n",
       "      <td>0.01030293802734273</td>\n",
       "      <td>47</td>\n",
       "      <td>0.028245687063503066</td>\n",
       "      <td>56</td>\n",
       "      <td>51</td>\n",
       "    </tr>\n",
       "    <tr>\n",
       "      <th>52</th>\n",
       "      <td>features.lexical.maas</td>\n",
       "      <td>0.009831737267713575</td>\n",
       "      <td>50</td>\n",
       "      <td>0.028194810600804775</td>\n",
       "      <td>57</td>\n",
       "      <td>50</td>\n",
       "    </tr>\n",
       "    <tr>\n",
       "      <th>11</th>\n",
       "      <td>features.readability.gunning_fog</td>\n",
       "      <td>0.008194015504841189</td>\n",
       "      <td>55</td>\n",
       "      <td>0.027450164192220527</td>\n",
       "      <td>58</td>\n",
       "      <td>25</td>\n",
       "    </tr>\n",
       "    <tr>\n",
       "      <th>55</th>\n",
       "      <td>features.structure.chorus_repetitions</td>\n",
       "      <td>0.006538844697365991</td>\n",
       "      <td>65</td>\n",
       "      <td>0.024397576430322365</td>\n",
       "      <td>59</td>\n",
       "      <td>65</td>\n",
       "    </tr>\n",
       "    <tr>\n",
       "      <th>67</th>\n",
       "      <td>features.rhyme.num_clerihews</td>\n",
       "      <td>0.007104764270508922</td>\n",
       "      <td>62</td>\n",
       "      <td>0.02338467230932889</td>\n",
       "      <td>60</td>\n",
       "      <td>54</td>\n",
       "    </tr>\n",
       "    <tr>\n",
       "      <th>13</th>\n",
       "      <td>features.readability.szigriszt_pazos</td>\n",
       "      <td>0.008217956951698416</td>\n",
       "      <td>54</td>\n",
       "      <td>0.020480088802553077</td>\n",
       "      <td>61</td>\n",
       "      <td>60</td>\n",
       "    </tr>\n",
       "    <tr>\n",
       "      <th>72</th>\n",
       "      <td>features.rhyme.alliterations_len_4_plus</td>\n",
       "      <td>0.006293765045659493</td>\n",
       "      <td>66</td>\n",
       "      <td>0.019689191064243116</td>\n",
       "      <td>62</td>\n",
       "      <td>66</td>\n",
       "    </tr>\n",
       "    <tr>\n",
       "      <th>12</th>\n",
       "      <td>features.readability.fernandez_huerta</td>\n",
       "      <td>0.00913980817857693</td>\n",
       "      <td>53</td>\n",
       "      <td>0.019198926969150366</td>\n",
       "      <td>63</td>\n",
       "      <td>57</td>\n",
       "    </tr>\n",
       "    <tr>\n",
       "      <th>3</th>\n",
       "      <td>features.readability.flesch_kincaid_grade</td>\n",
       "      <td>0.008134079140738323</td>\n",
       "      <td>57</td>\n",
       "      <td>0.01898617085241201</td>\n",
       "      <td>64</td>\n",
       "      <td>53</td>\n",
       "    </tr>\n",
       "    <tr>\n",
       "      <th>6</th>\n",
       "      <td>features.readability.automated_readability_index</td>\n",
       "      <td>0.008172050536213098</td>\n",
       "      <td>56</td>\n",
       "      <td>0.016280468063456822</td>\n",
       "      <td>65</td>\n",
       "      <td>56</td>\n",
       "    </tr>\n",
       "    <tr>\n",
       "      <th>71</th>\n",
       "      <td>features.rhyme.alliterations_len_3</td>\n",
       "      <td>0.006938850291177381</td>\n",
       "      <td>63</td>\n",
       "      <td>0.015753202904583485</td>\n",
       "      <td>66</td>\n",
       "      <td>64</td>\n",
       "    </tr>\n",
       "    <tr>\n",
       "      <th>5</th>\n",
       "      <td>features.readability.smog</td>\n",
       "      <td>0.00664901129850203</td>\n",
       "      <td>64</td>\n",
       "      <td>0.014467415938208227</td>\n",
       "      <td>67</td>\n",
       "      <td>62</td>\n",
       "    </tr>\n",
       "    <tr>\n",
       "      <th>38</th>\n",
       "      <td>features.lexical.digit_ratio</td>\n",
       "      <td>0.004499762855508933</td>\n",
       "      <td>69</td>\n",
       "      <td>0.01339901022154386</td>\n",
       "      <td>68</td>\n",
       "      <td>69</td>\n",
       "    </tr>\n",
       "    <tr>\n",
       "      <th>58</th>\n",
       "      <td>features.structure.number_of_verses</td>\n",
       "      <td>0.006121892485691823</td>\n",
       "      <td>68</td>\n",
       "      <td>0.01140095277739236</td>\n",
       "      <td>69</td>\n",
       "      <td>68</td>\n",
       "    </tr>\n",
       "    <tr>\n",
       "      <th>27</th>\n",
       "      <td>features.lexical.exclamation_mark_count</td>\n",
       "      <td>0.002807238640931788</td>\n",
       "      <td>71</td>\n",
       "      <td>0.005564034966005271</td>\n",
       "      <td>70</td>\n",
       "      <td>71</td>\n",
       "    </tr>\n",
       "    <tr>\n",
       "      <th>32</th>\n",
       "      <td>features.lexical.quote_count</td>\n",
       "      <td>0.003202499717175991</td>\n",
       "      <td>70</td>\n",
       "      <td>0.0054854077054715235</td>\n",
       "      <td>71</td>\n",
       "      <td>70</td>\n",
       "    </tr>\n",
       "    <tr>\n",
       "      <th>59</th>\n",
       "      <td>features.structure.starts_with_chorus</td>\n",
       "      <td>0.0021505724830975913</td>\n",
       "      <td>72</td>\n",
       "      <td>0.00404236621802877</td>\n",
       "      <td>72</td>\n",
       "      <td>73</td>\n",
       "    </tr>\n",
       "    <tr>\n",
       "      <th>63</th>\n",
       "      <td>features.structure.pattern_verse_chorus_altern...</td>\n",
       "      <td>0.0015025651386072864</td>\n",
       "      <td>75</td>\n",
       "      <td>0.0036769807131955103</td>\n",
       "      <td>73</td>\n",
       "      <td>75</td>\n",
       "    </tr>\n",
       "    <tr>\n",
       "      <th>29</th>\n",
       "      <td>features.lexical.digit_count</td>\n",
       "      <td>0.0020092881558071594</td>\n",
       "      <td>73</td>\n",
       "      <td>0.003570602654826327</td>\n",
       "      <td>74</td>\n",
       "      <td>72</td>\n",
       "    </tr>\n",
       "    <tr>\n",
       "      <th>64</th>\n",
       "      <td>features.structure.pattern_two_verses_at_least...</td>\n",
       "      <td>0.0018018593161906098</td>\n",
       "      <td>74</td>\n",
       "      <td>0.0033670968040331204</td>\n",
       "      <td>75</td>\n",
       "      <td>74</td>\n",
       "    </tr>\n",
       "    <tr>\n",
       "      <th>30</th>\n",
       "      <td>features.lexical.colon_count</td>\n",
       "      <td>0.0011157588641940368</td>\n",
       "      <td>76</td>\n",
       "      <td>0.0013366634290735812</td>\n",
       "      <td>76</td>\n",
       "      <td>76</td>\n",
       "    </tr>\n",
       "    <tr>\n",
       "      <th>31</th>\n",
       "      <td>features.lexical.semicolon_count</td>\n",
       "      <td>0.0005928127991872679</td>\n",
       "      <td>77</td>\n",
       "      <td>0.0005688913556264552</td>\n",
       "      <td>77</td>\n",
       "      <td>77</td>\n",
       "    </tr>\n",
       "    <tr>\n",
       "      <th>65</th>\n",
       "      <td>features.structure.pattern_two_choruses_at_lea...</td>\n",
       "      <td>0.0</td>\n",
       "      <td>78</td>\n",
       "      <td>0.0</td>\n",
       "      <td>78</td>\n",
       "      <td>79</td>\n",
       "    </tr>\n",
       "    <tr>\n",
       "      <th>62</th>\n",
       "      <td>features.structure.ends_with_two_chorus_repeti...</td>\n",
       "      <td>0.0</td>\n",
       "      <td>78</td>\n",
       "      <td>0.0</td>\n",
       "      <td>78</td>\n",
       "      <td>78</td>\n",
       "    </tr>\n",
       "    <tr>\n",
       "      <th>2</th>\n",
       "      <td>features.uncommon_words_ratio</td>\n",
       "      <td>0.0</td>\n",
       "      <td>78</td>\n",
       "      <td>0.0</td>\n",
       "      <td>78</td>\n",
       "      <td>80</td>\n",
       "    </tr>\n",
       "  </tbody>\n",
       "</table>\n",
       "</div>"
      ],
      "text/plain": [
       "                                              Feature               DT Score  \\\n",
       "36                      features.lexical.parens_count   0.014354644628368296   \n",
       "26               features.lexical.repeated_line_ratio    0.02721766069040513   \n",
       "75                               affective.LIWC.anger   0.017272406275678782   \n",
       "23                 features.lexical.unique_line_count   0.018613765511075814   \n",
       "60           features.structure.ratio_verses_sections   0.011366543654917191   \n",
       "40                   features.lexical.stop_word_count    0.01809211153331302   \n",
       "78                              affective.LIWC.posemo   0.025606304948667464   \n",
       "19            features.lexical.unique_tokens_per_line    0.01950426368068741   \n",
       "53                 features.lexical.pronoun_frequency   0.024027681672306928   \n",
       "20              features.lexical.average_token_length   0.021673580075493654   \n",
       "24                  features.lexical.blank_line_count   0.012197531341946507   \n",
       "42               features.lexical.stop_words_per_line    0.01975577921461019   \n",
       "25                  features.lexical.blank_line_ratio    0.01996991545624299   \n",
       "17                   features.lexical.character_count   0.015637795752277937   \n",
       "9                features.readability.difficult_words    0.01641288019076848   \n",
       "39                 features.lexical.punctuation_ratio   0.019548433212015458   \n",
       "21           features.lexical.average_tokens_per_line    0.01938084859341866   \n",
       "54                  features.lexical.past_tense_ratio   0.023955922705233716   \n",
       "34                         features.lexical.dot_count   0.006134037149935031   \n",
       "49                            features.lexical.herdan    0.01353608050919797   \n",
       "22                        features.lexical.line_count   0.016602215835709692   \n",
       "48                              features.lexical.mtld    0.02245772001469813   \n",
       "1                                    features.entropy   0.017652694841508543   \n",
       "44              features.lexical.unique_trigram_ratio   0.014360186631950779   \n",
       "46               features.lexical.dis_legomenon_ratio    0.02613972765312547   \n",
       "77                              affective.LIWC.negemo   0.020477683301632625   \n",
       "47              features.lexical.tris_legomenon_ratio   0.023327891914601637   \n",
       "73                       features.rhyme.rhyme_percent   0.021178360395948694   \n",
       "8   features.readability.dale_chall_readability_score   0.014223017802066574   \n",
       "0                          features.compression_ratio   0.014819416723830053   \n",
       "33                       features.lexical.comma_count    0.01524784064855773   \n",
       "41                   features.lexical.stop_word_ratio   0.019582606861039076   \n",
       "79                                 affective.LIWC.sad    0.01717348078631664   \n",
       "56               features.structure.title_occurrences   0.015056858483204563   \n",
       "7             features.readability.coleman_liau_index   0.017491963470742947   \n",
       "50                            features.lexical.summer   0.012057455464238262   \n",
       "37                 features.lexical.punctuation_count   0.013834077690140277   \n",
       "70                 features.rhyme.alliterations_len_2   0.016701547927757406   \n",
       "35                      features.lexical.hyphen_count  0.0075013115087366935   \n",
       "18              features.lexical.repeated_token_ratio    0.01265939320676794   \n",
       "16                       features.lexical.token_count   0.014194947011209238   \n",
       "14              features.readability.gutierrez_polini   0.009731765992800755   \n",
       "10         features.readability.linsear_write_formula   0.015123159899242436   \n",
       "66                        features.rhyme.num_couplets   0.015089407834361185   \n",
       "43               features.lexical.unique_bigram_ratio    0.01183828166762728   \n",
       "74                  features.rhyme.unique_rhyme_words   0.015479593191184884   \n",
       "45             features.lexical.hapax_legomenon_ratio   0.013855210101301463   \n",
       "76                                 affective.LIWC.anx   0.012547263567274657   \n",
       "69                          features.rhyme.num_nested   0.007883875142012997   \n",
       "4            features.readability.flesch_reading_ease   0.009323772386873435   \n",
       "15                      features.readability.crawford   0.014827060334101609   \n",
       "51                            features.lexical.dugast   0.010140565482440026   \n",
       "28               features.lexical.question_mark_count   0.007955432235474992   \n",
       "68                     features.rhyme.num_alternating      0.010224032816536   \n",
       "61           features.structure.ratio_chorus_sections   0.007659922711694104   \n",
       "57              features.structure.number_of_sections    0.01030293802734273   \n",
       "52                              features.lexical.maas   0.009831737267713575   \n",
       "11                   features.readability.gunning_fog   0.008194015504841189   \n",
       "55              features.structure.chorus_repetitions   0.006538844697365991   \n",
       "67                       features.rhyme.num_clerihews   0.007104764270508922   \n",
       "13               features.readability.szigriszt_pazos   0.008217956951698416   \n",
       "72            features.rhyme.alliterations_len_4_plus   0.006293765045659493   \n",
       "12              features.readability.fernandez_huerta    0.00913980817857693   \n",
       "3           features.readability.flesch_kincaid_grade   0.008134079140738323   \n",
       "6    features.readability.automated_readability_index   0.008172050536213098   \n",
       "71                 features.rhyme.alliterations_len_3   0.006938850291177381   \n",
       "5                           features.readability.smog    0.00664901129850203   \n",
       "38                       features.lexical.digit_ratio   0.004499762855508933   \n",
       "58                features.structure.number_of_verses   0.006121892485691823   \n",
       "27            features.lexical.exclamation_mark_count   0.002807238640931788   \n",
       "32                       features.lexical.quote_count   0.003202499717175991   \n",
       "59              features.structure.starts_with_chorus  0.0021505724830975913   \n",
       "63  features.structure.pattern_verse_chorus_altern...  0.0015025651386072864   \n",
       "29                       features.lexical.digit_count  0.0020092881558071594   \n",
       "64  features.structure.pattern_two_verses_at_least...  0.0018018593161906098   \n",
       "30                       features.lexical.colon_count  0.0011157588641940368   \n",
       "31                   features.lexical.semicolon_count  0.0005928127991872679   \n",
       "65  features.structure.pattern_two_choruses_at_lea...                    0.0   \n",
       "62  features.structure.ends_with_two_chorus_repeti...                    0.0   \n",
       "2                       features.uncommon_words_ratio                    0.0   \n",
       "\n",
       "   DT Rank      Permutation Score Permutation Rank RFE Rank  \n",
       "36      35    0.47200869524998845                1       44  \n",
       "26       1     0.4428564821238611                2       13  \n",
       "75      21      0.349345543684381                3       38  \n",
       "23      17    0.22109060635493272                4       30  \n",
       "60      46    0.20981915730077239                5       45  \n",
       "40      18     0.1945423430923639                6       34  \n",
       "78       3    0.15878081494842974                7        7  \n",
       "19      15    0.15409555524721336                8        5  \n",
       "53       4    0.13912399981499468                9        1  \n",
       "20       8    0.11984644558531059               10       17  \n",
       "24      43    0.11970769159613341               11       49  \n",
       "42      12    0.11812589611951343               12       14  \n",
       "25      11    0.11626659266453912               13       11  \n",
       "17      26     0.1128809953286157               14        2  \n",
       "9       25    0.11174783775033532               15       29  \n",
       "39      14    0.11128069932010545               16        4  \n",
       "21      16    0.10947227232782941               17       23  \n",
       "54       5     0.1025299477359974               18        8  \n",
       "34      67    0.09758105545534435               19       67  \n",
       "49      40    0.09408908006105175               20       36  \n",
       "22      24    0.09279866796170391               21       22  \n",
       "48       7    0.09092548910781184               22       12  \n",
       "1       19    0.08781277461727025               23       32  \n",
       "44      34    0.08531057767910827               24        3  \n",
       "46       2     0.0846908098607835               25       10  \n",
       "77      10    0.08462605799916748               26       16  \n",
       "47       6    0.07704546505712039               27        6  \n",
       "73       9    0.07647194856852135               28       15  \n",
       "8       36    0.07324823088663798               29        9  \n",
       "0       33    0.07195781878729013               30       27  \n",
       "33      28     0.0699967624069192               31       26  \n",
       "41      13    0.06819758568058831               32       18  \n",
       "79      22     0.0659405207899727               33       33  \n",
       "56      31   0.060940752046621326               34       37  \n",
       "7       20    0.06026085749965312               35       20  \n",
       "50      44    0.05644974793025298               36       47  \n",
       "37      39    0.05288377040839924               37       28  \n",
       "70      23    0.04879977799361731               38       24  \n",
       "35      61    0.04726885897969567               39       63  \n",
       "18      41   0.044553905924795335               40       46  \n",
       "16      37   0.043466999676240695               41       43  \n",
       "14      51   0.042847231857915904               42       41  \n",
       "10      29     0.0425604736136164               43       31  \n",
       "66      30    0.04236621802876833               44       35  \n",
       "43      45    0.04231534156607001               45       42  \n",
       "74      27    0.04170482401369041               46       40  \n",
       "45      38    0.03997039914897553               47       21  \n",
       "76      42    0.03958651311225196               48       48  \n",
       "69      59    0.03422598399703991               49       59  \n",
       "4       52    0.03273669117987142               50       61  \n",
       "15      32    0.03216317469127239               51       39  \n",
       "51      49   0.031067018176772578               52       19  \n",
       "28      58   0.030470376023310673               53       55  \n",
       "68      48    0.03012811618334027               54       52  \n",
       "61      60   0.028324314324036814               55       58  \n",
       "57      47   0.028245687063503066               56       51  \n",
       "52      50   0.028194810600804775               57       50  \n",
       "11      55   0.027450164192220527               58       25  \n",
       "55      65   0.024397576430322365               59       65  \n",
       "67      62    0.02338467230932889               60       54  \n",
       "13      54   0.020480088802553077               61       60  \n",
       "72      66   0.019689191064243116               62       66  \n",
       "12      53   0.019198926969150366               63       57  \n",
       "3       57    0.01898617085241201               64       53  \n",
       "6       56   0.016280468063456822               65       56  \n",
       "71      63   0.015753202904583485               66       64  \n",
       "5       64   0.014467415938208227               67       62  \n",
       "38      69    0.01339901022154386               68       69  \n",
       "58      68    0.01140095277739236               69       68  \n",
       "27      71   0.005564034966005271               70       71  \n",
       "32      70  0.0054854077054715235               71       70  \n",
       "59      72    0.00404236621802877               72       73  \n",
       "63      75  0.0036769807131955103               73       75  \n",
       "29      73   0.003570602654826327               74       72  \n",
       "64      74  0.0033670968040331204               75       74  \n",
       "30      76  0.0013366634290735812               76       76  \n",
       "31      77  0.0005688913556264552               77       77  \n",
       "65      78                    0.0               78       79  \n",
       "62      78                    0.0               78       78  \n",
       "2       78                    0.0               78       80  "
      ]
     },
     "metadata": {},
     "output_type": "display_data"
    }
   ],
   "source": [
    "for i in range(0, len(importance_results)):\n",
    "    importance_results[i][1] = pd.DataFrame(importance_results[i][1], columns=[\"Feature\", \"DT Score\", \"DT Rank\", \"Permutation Score\", \"Permutation Rank\", \"RFE Rank\"])\n",
    "\n",
    "    display(importance_results[i][0])\n",
    "    display(importance_results[i][1].sort_values(by=\"Permutation Rank\", key=lambda col: col.astype(int)))"
   ]
  },
  {
   "cell_type": "code",
   "execution_count": 10,
   "id": "4de80cd4-87ad-4dc7-887b-a3918bb878a8",
   "metadata": {},
   "outputs": [
    {
     "name": "stdout",
     "output_type": "stream",
     "text": [
      "Title Occurrences\n"
     ]
    },
    {
     "data": {
      "text/html": [
       "<div>\n",
       "<style scoped>\n",
       "    .dataframe tbody tr th:only-of-type {\n",
       "        vertical-align: middle;\n",
       "    }\n",
       "\n",
       "    .dataframe tbody tr th {\n",
       "        vertical-align: top;\n",
       "    }\n",
       "\n",
       "    .dataframe thead th {\n",
       "        text-align: right;\n",
       "    }\n",
       "</style>\n",
       "<table border=\"1\" class=\"dataframe\">\n",
       "  <thead>\n",
       "    <tr style=\"text-align: right;\">\n",
       "      <th></th>\n",
       "      <th>Genre</th>\n",
       "      <th>m</th>\n",
       "      <th>b</th>\n",
       "    </tr>\n",
       "  </thead>\n",
       "  <tbody>\n",
       "    <tr>\n",
       "      <th>0</th>\n",
       "      <td>pop</td>\n",
       "      <td>0.076369</td>\n",
       "      <td>-148.853860</td>\n",
       "    </tr>\n",
       "    <tr>\n",
       "      <th>1</th>\n",
       "      <td>rock</td>\n",
       "      <td>0.048616</td>\n",
       "      <td>-94.762534</td>\n",
       "    </tr>\n",
       "    <tr>\n",
       "      <th>2</th>\n",
       "      <td>rap</td>\n",
       "      <td>0.057081</td>\n",
       "      <td>-111.274239</td>\n",
       "    </tr>\n",
       "    <tr>\n",
       "      <th>3</th>\n",
       "      <td>country</td>\n",
       "      <td>0.063328</td>\n",
       "      <td>-122.407981</td>\n",
       "    </tr>\n",
       "    <tr>\n",
       "      <th>4</th>\n",
       "      <td>r-b</td>\n",
       "      <td>-0.034537</td>\n",
       "      <td>75.226172</td>\n",
       "    </tr>\n",
       "  </tbody>\n",
       "</table>\n",
       "</div>"
      ],
      "text/plain": [
       "     Genre         m           b\n",
       "0      pop  0.076369 -148.853860\n",
       "1     rock  0.048616  -94.762534\n",
       "2      rap  0.057081 -111.274239\n",
       "3  country  0.063328 -122.407981\n",
       "4      r-b -0.034537   75.226172"
      ]
     },
     "metadata": {},
     "output_type": "display_data"
    },
    {
     "data": {
      "image/png": "[encoded data removed]",
      "text/plain": [
       "<Figure size 1800x504 with 5 Axes>"
      ]
     },
     "metadata": {
      "needs_background": "light"
     },
     "output_type": "display_data"
    },
    {
     "ename": "KeyboardInterrupt",
     "evalue": "",
     "output_type": "error",
     "traceback": [
      "\u001b[0;31m---------------------------------------------------------------------------\u001b[0m",
      "\u001b[0;31mKeyboardInterrupt\u001b[0m                         Traceback (most recent call last)",
      "Input \u001b[0;32mIn [10]\u001b[0m, in \u001b[0;36m<cell line: 17>\u001b[0;34m()\u001b[0m\n\u001b[1;32m     30\u001b[0m \u001b[38;5;66;03m# Compute point density.\u001b[39;00m\n\u001b[1;32m     31\u001b[0m xy \u001b[38;5;241m=\u001b[39m np\u001b[38;5;241m.\u001b[39mvstack([X_plot,y_plot])\n\u001b[0;32m---> 32\u001b[0m z \u001b[38;5;241m=\u001b[39m \u001b[43mgaussian_kde\u001b[49m\u001b[43m(\u001b[49m\u001b[43mxy\u001b[49m\u001b[43m)\u001b[49m\u001b[43m(\u001b[49m\u001b[43mxy\u001b[49m\u001b[43m)\u001b[49m\n\u001b[1;32m     34\u001b[0m \u001b[38;5;66;03m# Compute linear regression line.\u001b[39;00m\n\u001b[1;32m     35\u001b[0m m, b \u001b[38;5;241m=\u001b[39m np\u001b[38;5;241m.\u001b[39mpolyfit(X_plot, y_plot, \u001b[38;5;241m1\u001b[39m)\n",
      "File \u001b[0;32m~/.local/share/virtualenvs/lfm2b-lyrics-analyses-fn2gDXEz/lib/python3.9/site-packages/scipy/stats/_kde.py:253\u001b[0m, in \u001b[0;36mgaussian_kde.evaluate\u001b[0;34m(self, points)\u001b[0m\n\u001b[1;32m    250\u001b[0m \u001b[38;5;28;01melse\u001b[39;00m:\n\u001b[1;32m    251\u001b[0m     \u001b[38;5;28;01mraise\u001b[39;00m \u001b[38;5;167;01mTypeError\u001b[39;00m(\u001b[38;5;124m'\u001b[39m\u001b[38;5;132;01m%s\u001b[39;00m\u001b[38;5;124m has unexpected item size \u001b[39m\u001b[38;5;132;01m%d\u001b[39;00m\u001b[38;5;124m'\u001b[39m \u001b[38;5;241m%\u001b[39m\n\u001b[1;32m    252\u001b[0m                     (output_dtype, itemsize))\n\u001b[0;32m--> 253\u001b[0m result \u001b[38;5;241m=\u001b[39m \u001b[43mgaussian_kernel_estimate\u001b[49m\u001b[43m[\u001b[49m\u001b[43mspec\u001b[49m\u001b[43m]\u001b[49m\u001b[43m(\u001b[49m\u001b[38;5;28;43mself\u001b[39;49m\u001b[38;5;241;43m.\u001b[39;49m\u001b[43mdataset\u001b[49m\u001b[38;5;241;43m.\u001b[39;49m\u001b[43mT\u001b[49m\u001b[43m,\u001b[49m\u001b[43m \u001b[49m\u001b[38;5;28;43mself\u001b[39;49m\u001b[38;5;241;43m.\u001b[39;49m\u001b[43mweights\u001b[49m\u001b[43m[\u001b[49m\u001b[43m:\u001b[49m\u001b[43m,\u001b[49m\u001b[43m \u001b[49m\u001b[38;5;28;43;01mNone\u001b[39;49;00m\u001b[43m]\u001b[49m\u001b[43m,\u001b[49m\n\u001b[1;32m    254\u001b[0m \u001b[43m                                        \u001b[49m\u001b[43mpoints\u001b[49m\u001b[38;5;241;43m.\u001b[39;49m\u001b[43mT\u001b[49m\u001b[43m,\u001b[49m\u001b[43m \u001b[49m\u001b[38;5;28;43mself\u001b[39;49m\u001b[38;5;241;43m.\u001b[39;49m\u001b[43minv_cov\u001b[49m\u001b[43m,\u001b[49m\u001b[43m \u001b[49m\u001b[43moutput_dtype\u001b[49m\u001b[43m)\u001b[49m\n\u001b[1;32m    255\u001b[0m \u001b[38;5;28;01mreturn\u001b[39;00m result[:, \u001b[38;5;241m0\u001b[39m]\n",
      "\u001b[0;31mKeyboardInterrupt\u001b[0m: "
     ]
    },
    {
     "data": {
      "image/png": "[encoded data removed]",
      "text/plain": [
       "<Figure size 1800x504 with 5 Axes>"
      ]
     },
     "metadata": {
      "needs_background": "light"
     },
     "output_type": "display_data"
    }
   ],
   "source": [
    "features_to_plot = [\n",
    "    (\"features.structure.title_occurrences\", \"Title Occurrences\", 150.0),\n",
    "    (\"features.lexical.repeated_line_ratio\", \"Repeated Line Ratio\", 0.5),\n",
    "    (\"affective.LIWC.posemo\", \"Positive Emotions\", 50.0),\n",
    "    (\"features.structure.ratio_chorus_sections\", \"Ratio Chorus to Sections\", 1.0),\n",
    "    (\"features.lexical.dis_legomenon_ratio\", \"Dis-legomenon Ratio\", 1.0),\n",
    "    (\"features.lexical.pronoun_frequency\", \"Pronoun Frequency\", 0.6),\n",
    "    (\"features.lexical.average_token_length\", \"Average Token Length\", 8.0),\n",
    "    (\"features.lexical.line_count\", \"Line Count\", 400.0),\n",
    "    (\"features.lexical.punctuation_ratio\", \"Punctuation Ratio\", 0.3),\n",
    "    (\"features.lexical.unique_tokens_per_line\", \"Unique Tokens per Line\", 150.0),\n",
    "    (\"features.lexical.past_tense_ratio\", \"Past Tense Ratio\", 1.0),\n",
    "    (\"features.lexical.token_count\", \"Token Count\", 5000.0),\n",
    "]\n",
    "\n",
    "\n",
    "for f in features_to_plot:\n",
    "    feature = f[0]\n",
    "    title = f[1]\n",
    "    max_y = f[2]\n",
    "    \n",
    "    fig, axes = plt.subplots(ncols=len(genres), nrows=1, figsize=(25,7))\n",
    "    fit_params = []\n",
    "    \n",
    "    for i, genre in enumerate(genres):\n",
    "        # Get the data.\n",
    "        X_plot = df_cleaned[df_cleaned[\"genre\"] == genre].loc[:, \"release_dt\"].dt.year.to_numpy(dtype=\"float64\")\n",
    "        y_plot = df_cleaned[df_cleaned[\"genre\"] == genre].loc[:, feature].to_numpy(dtype=\"float64\")\n",
    "        \n",
    "        # Compute point density.\n",
    "        xy = np.vstack([X_plot,y_plot])\n",
    "        z = gaussian_kde(xy)(xy)\n",
    "        \n",
    "        # Compute linear regression line.\n",
    "        m, b = np.polyfit(X_plot, y_plot, 1)\n",
    "        \n",
    "        # Sort data points by density value.\n",
    "        sorting = z.argsort()\n",
    "        X_plot, y_plot, z = X_plot[sorting], y_plot[sorting], z[sorting]\n",
    "        \n",
    "        # Scatter plot the feature values vs time.\n",
    "        axes[i].scatter(x=X_plot, y=y_plot, c=z, s=50, cmap=\"Blues\", norm=LogNorm())\n",
    "        \n",
    "        # Plot linear regression line.\n",
    "        axes[i].plot(X_plot, m*X_plot + b, c=\"red\", linewidth=2)\n",
    "        \n",
    "        # Set title.\n",
    "        axes[i].set_title(genre, fontsize=16)\n",
    "        \n",
    "        # Set tick font size\n",
    "        plt.setp(axes[i].get_xticklabels(), fontsize=14)\n",
    "        plt.setp(axes[i].get_yticklabels(), fontsize=14)\n",
    "        \n",
    "        # Set max y value.\n",
    "        axes[i].set_ylim(0, max_y)\n",
    "        \n",
    "        # Save linear git parameters.\n",
    "        fit_params.append([genre, m, b])\n",
    "        \n",
    "        # df.pivot_table(index=\"Date\", columns=\"Genre\", values=feature, aggfunc=[np.mean, np.std]).plot(y=\"mean\",yerr=\"std\", subplots=True, sharex=True, sharey=True, legend=False, ecolor=\"grey\", capsize=3, title=feature, figsize=(8,6))\n",
    "        # lgd = plt.figlegend(loc=\"lower center\", ncol=5,  bbox_to_anchor=(0.5, -0.03, 0, 0))\n",
    "        # plt.savefig(FIGURE_PATH + f\"evolution_{feature}.png\", bbox_extra_artists=[lgd], bbox_inches='tight', pad_inches=1)\n",
    "        # plt.show()\n",
    "        \n",
    "    fig.suptitle(title, fontsize=22)\n",
    "    \n",
    "    print(title)\n",
    "    \n",
    "    display(pd.DataFrame(fit_params, columns=[\"Genre\", \"m\", \"b\"]))\n",
    "    \n",
    "    plt.savefig(FIGURE_PATH + f\"evolution_{feature}.png\")\n",
    "    plt.show()\n",
    "    \n",
    "    \n",
    "    "
   ]
  }
 ],
 "metadata": {
  "interpreter": {
   "hash": "c68954054ed0f46926016c81bce01469af8a67b88cb37dae264842c1d2d82b4d"
  },
  "kernelspec": {
   "display_name": "Python 3 (ipykernel)",
   "language": "python",
   "name": "python3"
  },
  "language_info": {
   "codemirror_mode": {
    "name": "ipython",
    "version": 3
   },
   "file_extension": ".py",
   "mimetype": "text/x-python",
   "name": "python",
   "nbconvert_exporter": "python",
   "pygments_lexer": "ipython3",
   "version": "3.9.5"
  }
 },
 "nbformat": 4,
 "nbformat_minor": 5
}
